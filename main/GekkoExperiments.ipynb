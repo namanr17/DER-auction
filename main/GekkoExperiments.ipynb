{
 "cells": [
  {
   "cell_type": "code",
   "execution_count": 4,
   "metadata": {},
   "outputs": [],
   "source": [
    "import numpy as np\n",
    "from enum import IntEnum\n",
    "import pandas as pd\n",
    "import matplotlib.pyplot as plt\n",
    "\n",
    "from tqdm import trange\n",
    "\n",
    "from GrU import (GrU, evaluate)\n",
    "from GekkoSolver import gekkoDemandSolver\n",
    "from A_star import estimateTotalDemandUsingAStar"
   ]
  },
  {
   "cell_type": "code",
   "execution_count": 5,
   "metadata": {},
   "outputs": [],
   "source": [
    "# Avoid errors by using names instead of indices\n",
    "class source( IntEnum ):\n",
    "    grid =  0\n",
    "    pv = 1\n",
    "    storage = 2\n",
    "    charge = 3\n",
    "    discharge = 4\n",
    "\n",
    "# For clock data\n",
    "class clock( IntEnum ):\n",
    "    pv = 0\n",
    "    storage = 1\n",
    "    charge = 2\n",
    "    discharge = 3"
   ]
  },
  {
   "cell_type": "markdown",
   "metadata": {},
   "source": [
    "#### Auctioneer Data"
   ]
  },
  {
   "cell_type": "code",
   "execution_count": 6,
   "metadata": {},
   "outputs": [
    {
     "data": {
      "text/html": [
       "<div>\n",
       "<style scoped>\n",
       "    .dataframe tbody tr th:only-of-type {\n",
       "        vertical-align: middle;\n",
       "    }\n",
       "\n",
       "    .dataframe tbody tr th {\n",
       "        vertical-align: top;\n",
       "    }\n",
       "\n",
       "    .dataframe thead th {\n",
       "        text-align: right;\n",
       "    }\n",
       "</style>\n",
       "<table border=\"1\" class=\"dataframe\">\n",
       "  <thead>\n",
       "    <tr style=\"text-align: right;\">\n",
       "      <th></th>\n",
       "      <th>GMT</th>\n",
       "      <th>GRID_PRICE</th>\n",
       "      <th>PV_LIMIT</th>\n",
       "      <th>CAPACITY_LIMIT</th>\n",
       "      <th>CHARGING_LIMIT</th>\n",
       "      <th>DISCHARGING_LIMIT</th>\n",
       "      <th>TOTAL_DEMAND_25</th>\n",
       "    </tr>\n",
       "  </thead>\n",
       "  <tbody>\n",
       "    <tr>\n",
       "      <th>0</th>\n",
       "      <td>16/10/2013 23:00</td>\n",
       "      <td>0.313789</td>\n",
       "      <td>0.0</td>\n",
       "      <td>54</td>\n",
       "      <td>14.72</td>\n",
       "      <td>14.72</td>\n",
       "      <td>6.977</td>\n",
       "    </tr>\n",
       "    <tr>\n",
       "      <th>1</th>\n",
       "      <td>17/10/2013 0:00</td>\n",
       "      <td>0.240782</td>\n",
       "      <td>0.0</td>\n",
       "      <td>54</td>\n",
       "      <td>14.72</td>\n",
       "      <td>14.72</td>\n",
       "      <td>4.481</td>\n",
       "    </tr>\n",
       "    <tr>\n",
       "      <th>2</th>\n",
       "      <td>17/10/2013 1:00</td>\n",
       "      <td>0.193476</td>\n",
       "      <td>0.0</td>\n",
       "      <td>54</td>\n",
       "      <td>14.72</td>\n",
       "      <td>14.72</td>\n",
       "      <td>5.309</td>\n",
       "    </tr>\n",
       "    <tr>\n",
       "      <th>3</th>\n",
       "      <td>17/10/2013 2:00</td>\n",
       "      <td>0.174946</td>\n",
       "      <td>0.0</td>\n",
       "      <td>54</td>\n",
       "      <td>14.72</td>\n",
       "      <td>14.72</td>\n",
       "      <td>3.792</td>\n",
       "    </tr>\n",
       "    <tr>\n",
       "      <th>4</th>\n",
       "      <td>17/10/2013 3:00</td>\n",
       "      <td>0.165518</td>\n",
       "      <td>0.0</td>\n",
       "      <td>54</td>\n",
       "      <td>14.72</td>\n",
       "      <td>14.72</td>\n",
       "      <td>3.726</td>\n",
       "    </tr>\n",
       "  </tbody>\n",
       "</table>\n",
       "</div>"
      ],
      "text/plain": [
       "                GMT  GRID_PRICE  PV_LIMIT  CAPACITY_LIMIT  CHARGING_LIMIT  \\\n",
       "0  16/10/2013 23:00    0.313789       0.0              54           14.72   \n",
       "1   17/10/2013 0:00    0.240782       0.0              54           14.72   \n",
       "2   17/10/2013 1:00    0.193476       0.0              54           14.72   \n",
       "3   17/10/2013 2:00    0.174946       0.0              54           14.72   \n",
       "4   17/10/2013 3:00    0.165518       0.0              54           14.72   \n",
       "\n",
       "   DISCHARGING_LIMIT  TOTAL_DEMAND_25  \n",
       "0              14.72            6.977  \n",
       "1              14.72            4.481  \n",
       "2              14.72            5.309  \n",
       "3              14.72            3.792  \n",
       "4              14.72            3.726  "
      ]
     },
     "execution_count": 6,
     "metadata": {},
     "output_type": "execute_result"
    }
   ],
   "source": [
    "df_auctioneer_data = pd.read_csv('../data/Auctioneer Data.csv')\n",
    "df_auctioneer_data.head()"
   ]
  },
  {
   "cell_type": "code",
   "execution_count": 7,
   "metadata": {},
   "outputs": [],
   "source": [
    "grid_price = df_auctioneer_data.GRID_PRICE.to_numpy()\n",
    "total_demand = df_auctioneer_data.TOTAL_DEMAND_25.to_numpy()"
   ]
  },
  {
   "cell_type": "markdown",
   "metadata": {},
   "source": [
    "#### Deserialized Clock Auction Data"
   ]
  },
  {
   "cell_type": "code",
   "execution_count": 8,
   "metadata": {},
   "outputs": [],
   "source": [
    "headers = np.load(file='../data/clock_data_columns.npy', allow_pickle=True)\n",
    "df_clock_data = pd.DataFrame(np.load('../data/clock_data_values.npy', allow_pickle=True), columns=headers)"
   ]
  },
  {
   "cell_type": "code",
   "execution_count": 9,
   "metadata": {},
   "outputs": [],
   "source": [
    "def getPriceVectors(round):\n",
    "    '''\n",
    "    Get price vectors for a round from the clock data.\n",
    "\n",
    "    Parameters\n",
    "    ----------\n",
    "    round : int\n",
    "        Round number to get the price vectors for, range = [0, 308]\n",
    "\n",
    "    Returns\n",
    "    -------\n",
    "    prices : ndarray of shape (5, 24)\n",
    "        Price vectors for g, p, s, c, d.\n",
    "    \n",
    "    '''\n",
    "    prices = np.ndarray((5, 24))\n",
    "    prices[0] = df_auctioneer_data.GRID_PRICE.values\n",
    "    for e in clock:\n",
    "        prices[e + 1] = df_clock_data[f'price_{round}'][e]\n",
    "    return prices"
   ]
  },
  {
   "cell_type": "markdown",
   "metadata": {},
   "source": [
    "## **Gekko Solver** without Env. Impact"
   ]
  },
  {
   "cell_type": "markdown",
   "metadata": {},
   "source": [
    "#### Total demand vector and price vectors"
   ]
  },
  {
   "cell_type": "code",
   "execution_count": 68,
   "metadata": {},
   "outputs": [],
   "source": [
    "round = 100\n",
    "\n",
    "# Random total demand vector & zero supply vector\n",
    "demandTotal = np.random.rand(24)\n",
    "\n",
    "# Price vectors from clock data\n",
    "prices = np.ndarray((5, 24))\n",
    "col = f'price_{round}'\n",
    "prices[0] = df_auctioneer_data.GRID_PRICE.values\n",
    "for e in clock:\n",
    "    prices[e + 1] = df_clock_data[col][e]"
   ]
  },
  {
   "cell_type": "markdown",
   "metadata": {},
   "source": [
    "#### Demand Breakup using Gekko Solver"
   ]
  },
  {
   "cell_type": "code",
   "execution_count": 75,
   "metadata": {},
   "outputs": [
    {
     "name": "stdout",
     "output_type": "stream",
     "text": [
      "Utility = 0.685001655816798\n",
      "Demand sums up properly:  True\n",
      "Exactly one source is consumed at any time:  False\n",
      "Either charge or discharge at any time:  True\n"
     ]
    },
    {
     "data": {
      "image/png": "[encoded data removed]",
      "text/plain": [
       "<Figure size 648x432 with 1 Axes>"
      ]
     },
     "metadata": {
      "needs_background": "light"
     },
     "output_type": "display_data"
    }
   ],
   "source": [
    "breakup_gekko, util_gekko = gekkoDemandSolver( demandTotal, prices, eta_c=1, eta_d=1 )\n",
    "\n",
    "print( f\"Utility = {util_gekko}\" )\n",
    "\n",
    "print( \"Demand sums up properly: \", np.allclose( breakup_gekko[ source.discharge, : ] + breakup_gekko[ source.grid, : ] + breakup_gekko[ source.pv, : ] - breakup_gekko[ source.charge, : ], demandTotal ) )\n",
    "\n",
    "consumptionSources = [ source.discharge, source.grid, source.pv ]\n",
    "breakup_gekkoConsumption = breakup_gekko[ consumptionSources, : ]\n",
    "maskConsumption = np.zeros( breakup_gekkoConsumption.shape )\n",
    "np.place( maskConsumption, breakup_gekkoConsumption > 0 , 1 )\n",
    "print( \"Exactly one source is consumed at any time: \", np.all( np.sum( maskConsumption, 0 ) == 1 ) )\n",
    "\n",
    "CDSources = [ source.charge, source.discharge ]\n",
    "breakup_gekkoCD = breakup_gekko[ CDSources, : ]\n",
    "maskCD = np.zeros( breakup_gekkoCD.shape )\n",
    "np.place( maskCD, breakup_gekkoCD > 0 , 1 )\n",
    "print( \"Either charge or discharge at any time: \", np.all( np.sum( maskCD, 0 ) <= 1 ) )\n",
    "\n",
    "# print( breakup_gekko )\n",
    "\n",
    "plt.figure(figsize=(9,6))\n",
    "plt.plot(breakup_gekko[source.grid], label='Grid')\n",
    "plt.plot(breakup_gekko[source.pv], label='PV Energy')\n",
    "plt.plot(breakup_gekko[source.storage], label='Battery Storage')\n",
    "plt.plot(breakup_gekko[source.charge], label='Charging Power')\n",
    "plt.plot(breakup_gekko[source.discharge], label='Discharging Power')\n",
    "\n",
    "plt.xlabel('Time')\n",
    "plt.ylabel('Demand')\n",
    "plt.title(f'Demand Breakup by Gekko')\n",
    "\n",
    "plt.legend()\n",
    "plt.show()"
   ]
  },
  {
   "cell_type": "markdown",
   "metadata": {},
   "source": [
    "#### Check -> PV + Discharge <= Total Demand?"
   ]
  },
  {
   "cell_type": "code",
   "execution_count": 12,
   "metadata": {},
   "outputs": [
    {
     "data": {
      "text/plain": [
       "array([ True,  True,  True,  True,  True,  True,  True,  True, False,\n",
       "       False, False, False,  True,  True, False,  True, False, False,\n",
       "       False,  True,  True, False,  True,  True])"
      ]
     },
     "execution_count": 12,
     "metadata": {},
     "output_type": "execute_result"
    }
   ],
   "source": [
    "breakup_gekko[source.pv] + breakup_gekko[source.discharge] <= demandTotal"
   ]
  },
  {
   "cell_type": "markdown",
   "metadata": {},
   "source": [
    "> Rest of the demand (i.e., $ d_{total} - d_p - d_d +d_c $) should come from Grid."
   ]
  },
  {
   "cell_type": "markdown",
   "metadata": {},
   "source": [
    "## **Gekko vs GrU** : Utility = Cost to user without DER - Cost to user with DER"
   ]
  },
  {
   "cell_type": "markdown",
   "metadata": {},
   "source": [
    "\n",
    "#### Eta = 1"
   ]
  },
  {
   "cell_type": "code",
   "execution_count": 63,
   "metadata": {},
   "outputs": [
    {
     "name": "stdout",
     "output_type": "stream",
     "text": [
      "Utility using GrU Algorithm = 0.3608682143319908\n",
      "Utility using Gekko Solver = 0.3414817182136045\n"
     ]
    }
   ],
   "source": [
    "round = 150\n",
    "\n",
    "# Random total demand vector & zero supply vector\n",
    "demandTotal = np.random.rand(24)\n",
    "\n",
    "# Price vectors from clock data\n",
    "prices = getPriceVectors(round)\n",
    "\n",
    "breakup_gekko, util_gekko = gekkoDemandSolver( demandTotal, prices, eta_c=1, eta_d=1 )\n",
    "breakup_gru, util_gru = GrU( demandTotal, prices, eta_c=1, eta_d=1)\n",
    "\n",
    "print( f\"Utility using GrU Algorithm = {util_gru}\" )\n",
    "print( f\"Utility using Gekko Solver = {util_gekko}\" )"
   ]
  },
  {
   "cell_type": "markdown",
   "metadata": {},
   "source": [
    "> Utilities (or Costs) for demand breakups from GrU and Gekko are almost equal. The difference is of order 1e-2 and is in favour of both the methods randomly."
   ]
  },
  {
   "cell_type": "code",
   "execution_count": 64,
   "metadata": {},
   "outputs": [
    {
     "name": "stdout",
     "output_type": "stream",
     "text": [
      "0.0010660871385\n"
     ]
    }
   ],
   "source": [
    "for t in range(24):\n",
    "    if breakup_gekko[source.discharge, t] and np.abs(breakup_gekko[source.discharge, t] - demandTotal[t]) > 1e-3:\n",
    "        print(breakup_gekko[source.discharge, t])"
   ]
  },
  {
   "cell_type": "code",
   "execution_count": 65,
   "metadata": {},
   "outputs": [
    {
     "name": "stdout",
     "output_type": "stream",
     "text": [
      "0.28692123483\n"
     ]
    }
   ],
   "source": [
    "for t in range(24):\n",
    "    if breakup_gekko[source.pv, t] and np.abs(breakup_gekko[source.pv, t] - demandTotal[t]) > 1e-3:\n",
    "        print(breakup_gekko[source.pv, t])"
   ]
  },
  {
   "cell_type": "markdown",
   "metadata": {},
   "source": [
    "> A leakage of order less than 1e-3 is detected in discharging & pv demands from Gekko sometimes."
   ]
  },
  {
   "cell_type": "markdown",
   "metadata": {},
   "source": [
    "#### Eta = 0.9487"
   ]
  },
  {
   "cell_type": "code",
   "execution_count": 66,
   "metadata": {},
   "outputs": [
    {
     "name": "stdout",
     "output_type": "stream",
     "text": [
      "Utility using GrU Algorithm = 0.17303181093521003\n",
      "Utility using Gekko Solver = 0.4183180827035824\n"
     ]
    }
   ],
   "source": [
    "round = 150\n",
    "\n",
    "# Random total demand vector & zero supply vector\n",
    "demandTotal = np.random.rand(24)\n",
    "\n",
    "# Price vectors from clock data\n",
    "prices = getPriceVectors(round)\n",
    "\n",
    "breakup_gekko, util_gekko = gekkoDemandSolver( demandTotal, prices, eta_c=0.9487, eta_d=0.9487 )\n",
    "breakup_gru, util_gru = GrU( demandTotal, prices, eta_c=0.9487, eta_d=0.9487)\n",
    "\n",
    "print( f\"Utility using GrU Algorithm = {util_gru}\" )\n",
    "print( f\"Utility using Gekko Solver = {util_gekko}\" )"
   ]
  },
  {
   "cell_type": "markdown",
   "metadata": {},
   "source": [
    "> Utility (or Cost) for demand breakup from Gekko is higher than that from GrU due to a bug in the code of Gekko solver. Discharging loss due to inefficiency ($ \\eta_d $) is not incorporated in the discharging demand.\n",
    "\n"
   ]
  },
  {
   "cell_type": "code",
   "execution_count": 67,
   "metadata": {},
   "outputs": [
    {
     "name": "stdout",
     "output_type": "stream",
     "text": [
      "Demand sums up properly:  False\n"
     ]
    }
   ],
   "source": [
    "print( \"Demand sums up properly: \", np.allclose( breakup_gekko[ source.discharge, : ] * 0.9487 + breakup_gekko[ source.grid, : ] + breakup_gekko[ source.pv, : ], demandTotal ) )"
   ]
  },
  {
   "cell_type": "code",
   "execution_count": 18,
   "metadata": {},
   "outputs": [
    {
     "name": "stdout",
     "output_type": "stream",
     "text": [
      "Total demand = 0.4523747870393998, Discharge demand Gekko = 0.0014862815925,  Discharge demand GrU = 0.47683649946178963\n",
      "Total demand = 0.8508975839305873, Discharge demand Gekko = 0.85089758393,  Discharge demand GrU = 0.8969090164757957\n",
      "Total demand = 0.24938844908301083, Discharge demand Gekko = 0.24938844908,  Discharge demand GrU = 0.2628738790798048\n",
      "Total demand = 0.5443997974054008, Discharge demand Gekko = 0.0069641626256,  Discharge demand GrU = 0.5738376698697173\n",
      "Total demand = 0.7395720349171703, Discharge demand Gekko = 0.0016834708406,  Discharge demand GrU = 0.7795636501709394\n",
      "Total demand = 0.12360107601789627, Discharge demand Gekko = 0.0026755803406,  Discharge demand GrU = 0.1302846801074062\n",
      "Total demand = 0.6816885220403333, Discharge demand Gekko = 0.00029628442824,  Discharge demand GrU = 0.0\n",
      "Total demand = 0.13236874380876895, Discharge demand Gekko = 1.9579210444e-05,  Discharge demand GrU = 0.0\n",
      "Total demand = 0.5938435812974687, Discharge demand Gekko = 0.5938435813,  Discharge demand GrU = 0.6259550767339188\n",
      "Total demand = 0.20953032243045167, Discharge demand Gekko = 0.20953032243,  Discharge demand GrU = 0.22086046424628614\n",
      "Total demand = 0.6509471109731014, Discharge demand Gekko = 0.65094711097,  Discharge demand GrU = 0.6861464224445045\n",
      "Total demand = 0.5648408225146796, Discharge demand Gekko = 0.56484082251,  Discharge demand GrU = 0.5953840228888791\n",
      "Total demand = 0.5842926856557735, Discharge demand Gekko = 0.58429268566,  Discharge demand GrU = 0.6158877259995504\n",
      "Total demand = 0.00928166931544705, Discharge demand Gekko = 0.0092816693154,  Discharge demand GrU = 0.009783566264832982\n"
     ]
    }
   ],
   "source": [
    "for t in range(24):\n",
    "    if breakup_gekko[source.discharge, t]:\n",
    "        print(f'Total demand = {demandTotal[t]}, Discharge demand Gekko = {breakup_gekko[source.discharge, t]},  Discharge demand GrU = {breakup_gru[source.discharge, t]}')"
   ]
  },
  {
   "cell_type": "markdown",
   "metadata": {},
   "source": [
    "## **Gekko vs GrU** : Demand breakup\n",
    "\n",
    "price vectors & random demand vector -> GrU/Gekko -> demand_breakup -> LS -> GRu -> compare with demand_breakup"
   ]
  },
  {
   "cell_type": "markdown",
   "metadata": {},
   "source": [
    "### Eta = 1"
   ]
  },
  {
   "cell_type": "code",
   "execution_count": 76,
   "metadata": {},
   "outputs": [],
   "source": [
    "round = 150\n",
    "eta = 1\n",
    "\n",
    "# Random total demand vector & zero supply vector\n",
    "demandTotal = np.random.rand(24)\n",
    "\n",
    "# Price vectors from clock data\n",
    "prices = getPriceVectors(round)\n",
    "\n",
    "# Demand breakups from GrU & Gekko\n",
    "demand_breakup_gru, _ = GrU(demandTotal, prices, eta_c=eta, eta_d=eta)\n",
    "demand_breakup_gekko, _ = gekkoDemandSolver(demandTotal, prices, eta_c=eta, eta_d=eta)\n",
    "\n",
    "# Least Squares to estimate d vectors\n",
    "d_gru = estimateTotalDemandUsingAStar(prices, demand_breakup_gru[1:], eta_c=eta, eta_d=eta)\n",
    "d_gekko = estimateTotalDemandUsingAStar(prices, demand_breakup_gekko[1:], eta_c=eta, eta_d=eta)\n",
    "\n",
    "# Regenerate demand breakups using GrU\n",
    "d_breakup_gru, _ = GrU(d_gru, prices, eta_c=eta, eta_d=eta)\n",
    "d_breakup_gekko, _ = GrU(d_gekko, prices, eta_c=eta, eta_d=eta)"
   ]
  },
  {
   "cell_type": "markdown",
   "metadata": {},
   "source": [
    "#### MAE in regenerating demand breakup using GrU"
   ]
  },
  {
   "cell_type": "code",
   "execution_count": 58,
   "metadata": {},
   "outputs": [
    {
     "name": "stdout",
     "output_type": "stream",
     "text": [
      "Grid Energy demand =  0.14777093268135158\n",
      "PV Energy demand =  2.9811595349723184e-08\n",
      "Storage Capacity =  8.27778354519267e-08\n",
      "Charging Power demand =  2.4566551260855423e-08\n",
      "Discharging Power demand =  9.47977085765291e-08\n"
     ]
    }
   ],
   "source": [
    "mae_gru, _ = evaluate(demand_breakup_gru, d_breakup_gru)\n",
    "\n",
    "print('Grid Energy demand = ', mae_gru[source.grid])\n",
    "print('PV Energy demand = ', mae_gru[source.pv])\n",
    "print('Storage Capacity = ', mae_gru[source.storage])\n",
    "print('Charging Power demand = ', mae_gru[source.charge])\n",
    "print('Discharging Power demand = ', mae_gru[source.discharge])"
   ]
  },
  {
   "cell_type": "markdown",
   "metadata": {},
   "source": [
    "#### MAE in regenerating demand breakup using Gekko"
   ]
  },
  {
   "cell_type": "code",
   "execution_count": 59,
   "metadata": {},
   "outputs": [
    {
     "name": "stdout",
     "output_type": "stream",
     "text": [
      "Grid Energy demand =  0.1712159052166191\n",
      "PV Energy demand =  2.976297651391402e-08\n",
      "Storage Capacity =  0.1401345285913938\n",
      "Charging Power demand =  0.006189387668146469\n",
      "Discharging Power demand =  0.09094978609817654\n"
     ]
    }
   ],
   "source": [
    "mae_gekko, _ = evaluate(demand_breakup_gekko, d_breakup_gekko)\n",
    "\n",
    "print('Grid Energy demand = ', mae_gekko[source.grid])\n",
    "print('PV Energy demand = ', mae_gekko[source.pv])\n",
    "print('Storage Capacity = ', mae_gekko[source.storage])\n",
    "print('Charging Power demand = ', mae_gekko[source.charge])\n",
    "print('Discharging Power demand = ', mae_gekko[source.discharge])"
   ]
  },
  {
   "cell_type": "markdown",
   "metadata": {},
   "source": [
    "### Eta = 0.9487"
   ]
  },
  {
   "cell_type": "code",
   "execution_count": 60,
   "metadata": {},
   "outputs": [],
   "source": [
    "round = 150\n",
    "eta = 0.9487\n",
    "\n",
    "# Random total demand vector & zero supply vector\n",
    "demandTotal = np.random.rand(24)\n",
    "\n",
    "# Price vectors from clock data\n",
    "prices = getPriceVectors(round)\n",
    "\n",
    "# Demand breakups from GrU & Gekko\n",
    "demand_breakup_gru, _ = GrU(demandTotal, prices, eta_c=eta, eta_d=eta)\n",
    "demand_breakup_gekko, _ = gekkoDemandSolver(demandTotal, prices, eta_c=eta, eta_d=eta)\n",
    "\n",
    "# Least Squares to estimate d vectors\n",
    "d_gru = estimateTotalDemandUsingAStar(prices, demand_breakup_gru[1:], eta_c=eta, eta_d=eta)\n",
    "d_gekko = estimateTotalDemandUsingAStar(prices, demand_breakup_gekko[1:], eta_c=eta, eta_d=eta)\n",
    "\n",
    "# Regenerate demand breakups using GrU\n",
    "d_breakup_gru, _ = GrU(d_gru, prices, eta_c=eta, eta_d=eta)\n",
    "d_breakup_gekko, _ = GrU(d_gekko, prices, eta_c=eta, eta_d=eta)"
   ]
  },
  {
   "cell_type": "markdown",
   "metadata": {},
   "source": [
    "#### MAE in regenerating demand breakup using GrU"
   ]
  },
  {
   "cell_type": "code",
   "execution_count": 61,
   "metadata": {},
   "outputs": [
    {
     "name": "stdout",
     "output_type": "stream",
     "text": [
      "Grid Energy demand =  0.145897859170645\n",
      "PV Energy demand =  3.99444844007002e-08\n",
      "Storage Capacity =  7.92193360485069e-08\n",
      "Charging Power demand =  2.1799510812233375e-08\n",
      "Discharging Power demand =  1.0223099861095264e-07\n"
     ]
    }
   ],
   "source": [
    "mae_gru, _ = evaluate(demand_breakup_gru, d_breakup_gru)\n",
    "\n",
    "print('Grid Energy demand = ', mae_gru[source.grid])\n",
    "print('PV Energy demand = ', mae_gru[source.pv])\n",
    "print('Storage Capacity = ', mae_gru[source.storage])\n",
    "print('Charging Power demand = ', mae_gru[source.charge])\n",
    "print('Discharging Power demand = ', mae_gru[source.discharge])"
   ]
  },
  {
   "cell_type": "markdown",
   "metadata": {},
   "source": [
    "#### MAE in regenerating demand breakup using Gekko"
   ]
  },
  {
   "cell_type": "code",
   "execution_count": 62,
   "metadata": {},
   "outputs": [
    {
     "name": "stdout",
     "output_type": "stream",
     "text": [
      "Grid Energy demand =  0.5417485650208858\n",
      "PV Energy demand =  0.04558971895455092\n",
      "Storage Capacity =  1.200394466801282\n",
      "Charging Power demand =  0.40818519072002185\n",
      "Discharging Power demand =  0.19410470399964153\n"
     ]
    }
   ],
   "source": [
    "mae_gekko, _ = evaluate(demand_breakup_gekko, d_breakup_gekko)\n",
    "\n",
    "print('Grid Energy demand = ', mae_gekko[source.grid])\n",
    "print('PV Energy demand = ', mae_gekko[source.pv])\n",
    "print('Storage Capacity = ', mae_gekko[source.storage])\n",
    "print('Charging Power demand = ', mae_gekko[source.charge])\n",
    "print('Discharging Power demand = ', mae_gekko[source.discharge])"
   ]
  },
  {
   "cell_type": "markdown",
   "metadata": {},
   "source": [
    "## **Gekko vs GrU** : Runtime"
   ]
  },
  {
   "cell_type": "code",
   "execution_count": 77,
   "metadata": {},
   "outputs": [],
   "source": [
    "round = 150\n",
    "\n",
    "# Random total demand vector\n",
    "demandTotal = np.random.rand(24)\n",
    "\n",
    "# Price vectors from clock data\n",
    "prices = getPriceVectors(round)"
   ]
  },
  {
   "cell_type": "code",
   "execution_count": 78,
   "metadata": {},
   "outputs": [
    {
     "name": "stdout",
     "output_type": "stream",
     "text": [
      "587 µs ± 9.33 µs per loop (mean ± std. dev. of 7 runs, 1,000 loops each)\n"
     ]
    }
   ],
   "source": [
    "%%timeit\n",
    "GrU(demandTotal, prices)"
   ]
  },
  {
   "cell_type": "code",
   "execution_count": 79,
   "metadata": {},
   "outputs": [
    {
     "name": "stdout",
     "output_type": "stream",
     "text": [
      "101 ms ± 817 µs per loop (mean ± std. dev. of 7 runs, 10 loops each)\n"
     ]
    }
   ],
   "source": [
    "%%timeit\n",
    "gekkoDemandSolver(demandTotal, prices)"
   ]
  },
  {
   "cell_type": "markdown",
   "metadata": {},
   "source": [
    "> GrU is much faster than Gekko. "
   ]
  },
  {
   "cell_type": "markdown",
   "metadata": {},
   "source": [
    "## Clock Auction using GrU Algorithm"
   ]
  },
  {
   "cell_type": "code",
   "execution_count": 53,
   "metadata": {},
   "outputs": [],
   "source": [
    "# Resets auction data\n",
    "%rm -r gru_auction/*\n",
    "%cp '../DER sharing/prices.csv' './gru_auction/prices.csv'"
   ]
  },
  {
   "cell_type": "code",
   "execution_count": null,
   "metadata": {},
   "outputs": [],
   "source": [
    "###  initialisation  ###\n",
    "\n",
    "DF = pd.read_csv('../DER sharing/data/community_data_25_17oct.csv')\n",
    "\n",
    "grid_price = DF['GRID_PRICE']\n",
    "emf = DF['EMF_17oct15']\n",
    "\n",
    "energy_pv = DF['PV_DER']\n",
    "BESS_capacity = 54\n",
    "P_charging = 14.72\n",
    "P_discharging = 14.72\n",
    "\n",
    "customers = 25\n",
    "t = 24\n",
    "\n",
    "###  clock auction  ###\n",
    "\n",
    "\n",
    "# price adjustment\n",
    "\n",
    "delta_capacity = 0.00005\n",
    "delta_charging = 0.001\n",
    "delta_discharging = 0.001\n",
    "delta_energy = 0.001\n",
    "\n",
    "\n",
    "# main auction\n",
    "clock_dataset = {}\n",
    "history = []\n",
    "\n",
    "for counter in trange(10000):\n",
    "    # print(\"###    clock round\", str(counter), \"    ###\")\n",
    "    BESS_prices = pd.read_csv('./gru_auction/prices.csv')\n",
    "    \n",
    "    prices = np.ndarray((5, t))\n",
    "    prices[source.grid] = grid_price\n",
    "    prices[source.storage] = BESS_prices['capacity'].to_numpy()\n",
    "    prices[source.charge] = BESS_prices['charging'].to_numpy()\n",
    "    prices[source.discharge] = BESS_prices['discharging'].to_numpy()\n",
    "    prices[source.pv] = BESS_prices['energy'].to_numpy()\n",
    "\n",
    "    price_identifier = 'price_' + str(counter)\n",
    "    clock_dataset[price_identifier] = prices[1:].tolist()\n",
    "    # get demand (bid)\n",
    "    bids_capacity = {}\n",
    "    bids_charging = {}\n",
    "    bids_discharging = {}\n",
    "    bids_energy = {}\n",
    "    for i in range(customers):\n",
    "\n",
    "        demand, _ = GrU( DF['D' + str(i)], prices )\n",
    "\n",
    "        identifier = 'agent' + str(i+1)\n",
    "        bids_capacity[identifier] = demand[source.storage]\n",
    "        bids_charging[identifier] = demand[source.charge]\n",
    "        bids_discharging[identifier] = demand[source.discharge]\n",
    "        bids_energy[identifier] = demand[source.pv]\n",
    "\n",
    "        agentround_identifier = 'agent' + str(i+1) + str(counter)\n",
    "        clock_dataset[agentround_identifier] = demand[1:].tolist()\n",
    "\n",
    "    df1 = pd.DataFrame(bids_capacity)\n",
    "    df1['total'] = df1.sum(axis=1)\n",
    "    df1.to_csv('./gru_auction/capacity_bids.csv', index=False)\n",
    "    total_capacity = df1['total']\n",
    "\n",
    "    df2 = pd.DataFrame(bids_charging)\n",
    "    df2['total'] = df2.sum(axis=1)\n",
    "    df2.to_csv('./gru_auction/charging_bids.csv', index=False)\n",
    "    total_charging = df2['total']\n",
    "\n",
    "    df3 = pd.DataFrame(bids_discharging)\n",
    "    df3['total'] = df3.sum(axis=1)\n",
    "    df3.to_csv('./gru_auction/discharging_bids.csv', index=False)\n",
    "    total_discharging = df3['total']\n",
    "\n",
    "    df4 = pd.DataFrame(bids_energy)\n",
    "    df4['total'] = df4.sum(axis=1)\n",
    "    df4.to_csv('./gru_auction/energy_bids.csv', index=False)\n",
    "    total_energy = df4['total']\n",
    "\n",
    "    # checking if demand < supply\n",
    "    condition_c = 0\n",
    "    condition_pc = 0\n",
    "    condition_pd = 0\n",
    "    condition_e = 0\n",
    "    for i in range(t):\n",
    "        if total_capacity[i] > BESS_capacity:\n",
    "            condition_c += 1\n",
    "            prices[source.storage][i] += delta_capacity\n",
    "        if total_charging[i] > P_charging:\n",
    "            condition_pc += 1\n",
    "            prices[source.charge][i] += delta_charging\n",
    "        if total_discharging[i] > P_discharging:\n",
    "            condition_pd += 1\n",
    "            prices[source.discharge][i] += delta_discharging\n",
    "        if total_energy[i] > energy_pv[i]:\n",
    "            condition_e += 1\n",
    "            prices[source.pv][i] += delta_energy\n",
    "\n",
    "\n",
    "    price = {'capacity': prices[source.storage], 'charging': prices[source.charge],\n",
    "             'discharging': prices[source.discharge], 'energy': prices[source.pv]}\n",
    "    df5 = pd.DataFrame(price)\n",
    "    df5.to_csv('./gru_auction/prices.csv', index=False)\n",
    "\n",
    "    conditions = condition_c + condition_pc + condition_pd + condition_e\n",
    "    history.append(conditions)\n",
    "    # print(\"#######     conditions violated:\", conditions, \"    #######\")\n",
    "    if condition_c == 0:\n",
    "        if condition_pc == 0:\n",
    "            if condition_pd == 0:\n",
    "                if condition_e == 0:\n",
    "                    break\n",
    "\n",
    "df6 = pd.DataFrame(clock_dataset)\n",
    "df6.to_csv('./gru_auction/clock_data_gru.csv', index=False)"
   ]
  },
  {
   "cell_type": "code",
   "execution_count": 55,
   "metadata": {},
   "outputs": [
    {
     "data": {
      "image/png": "[encoded data removed]",
      "text/plain": [
       "<Figure size 648x432 with 1 Axes>"
      ]
     },
     "metadata": {
      "needs_background": "light"
     },
     "output_type": "display_data"
    }
   ],
   "source": [
    "plt.figure(figsize=(9,6))\n",
    "plt.title('Total number of conditions violated vs Rounds')\n",
    "plt.xlabel('Rounds')\n",
    "plt.ylabel('Conditions violated')\n",
    "plt.plot(history)\n",
    "plt.show()"
   ]
  },
  {
   "cell_type": "code",
   "execution_count": 56,
   "metadata": {},
   "outputs": [
    {
     "data": {
      "text/html": [
       "<div>\n",
       "<style scoped>\n",
       "    .dataframe tbody tr th:only-of-type {\n",
       "        vertical-align: middle;\n",
       "    }\n",
       "\n",
       "    .dataframe tbody tr th {\n",
       "        vertical-align: top;\n",
       "    }\n",
       "\n",
       "    .dataframe thead th {\n",
       "        text-align: right;\n",
       "    }\n",
       "</style>\n",
       "<table border=\"1\" class=\"dataframe\">\n",
       "  <thead>\n",
       "    <tr style=\"text-align: right;\">\n",
       "      <th></th>\n",
       "      <th>price_0</th>\n",
       "      <th>agent10</th>\n",
       "      <th>agent20</th>\n",
       "      <th>agent30</th>\n",
       "      <th>agent40</th>\n",
       "      <th>agent50</th>\n",
       "      <th>agent60</th>\n",
       "      <th>agent70</th>\n",
       "      <th>agent80</th>\n",
       "      <th>agent90</th>\n",
       "      <th>...</th>\n",
       "      <th>agent16170</th>\n",
       "      <th>agent17170</th>\n",
       "      <th>agent18170</th>\n",
       "      <th>agent19170</th>\n",
       "      <th>agent20170</th>\n",
       "      <th>agent21170</th>\n",
       "      <th>agent22170</th>\n",
       "      <th>agent23170</th>\n",
       "      <th>agent24170</th>\n",
       "      <th>agent25170</th>\n",
       "    </tr>\n",
       "  </thead>\n",
       "  <tbody>\n",
       "    <tr>\n",
       "      <th>0</th>\n",
       "      <td>[0.2, 0.2, 0.2, 0.2, 0.2, 0.2, 0.2, 0.2, 0.2, ...</td>\n",
       "      <td>[0.0, 0.0, 0.0, 0.0, 0.0, 0.0, 0.0, 0.0, 0.0, ...</td>\n",
       "      <td>[0.0, 0.0, 0.0, 0.0, 0.0, 0.0, 0.0, 0.0, 0.0, ...</td>\n",
       "      <td>[0.0, 0.0, 0.0, 0.0, 0.0, 0.0, 0.0, 0.0, 0.0, ...</td>\n",
       "      <td>[0.0, 0.0, 0.0, 0.0, 0.0, 0.0, 0.0, 0.0, 0.0, ...</td>\n",
       "      <td>[0.0, 0.0, 0.0, 0.0, 0.0, 0.0, 0.0, 0.0, 0.0, ...</td>\n",
       "      <td>[0.0, 0.0, 0.0, 0.0, 0.0, 0.0, 0.0, 0.0, 0.0, ...</td>\n",
       "      <td>[0.0, 0.0, 0.0, 0.0, 0.0, 0.0, 0.0, 0.0, 0.0, ...</td>\n",
       "      <td>[0.0, 0.0, 0.0, 0.0, 0.0, 0.0, 0.0, 0.0, 0.0, ...</td>\n",
       "      <td>[0.0, 0.0, 0.0, 0.0, 0.0, 0.0, 0.0, 0.0, 0.0, ...</td>\n",
       "      <td>...</td>\n",
       "      <td>[0.0, 0.0, 0.0, 0.0, 0.0, 0.0, 0.0, 0.0, 0.0, ...</td>\n",
       "      <td>[0.0, 0.0, 0.0, 0.0, 0.0, 0.0, 0.0, 0.0, 0.0, ...</td>\n",
       "      <td>[0.0, 0.0, 0.0, 0.0, 0.0, 0.0, 0.0, 0.0, 0.0, ...</td>\n",
       "      <td>[0.0, 0.0, 0.0, 0.0, 0.0, 0.0, 0.0, 0.0, 0.0, ...</td>\n",
       "      <td>[0.0, 0.0, 0.0, 0.0, 0.0, 0.0, 0.0, 0.0, 0.0, ...</td>\n",
       "      <td>[0.0, 0.0, 0.0, 0.0, 0.0, 0.0, 0.0, 0.0, 0.0, ...</td>\n",
       "      <td>[0.0, 0.0, 0.0, 0.0, 0.0, 0.0, 0.0, 0.0, 0.0, ...</td>\n",
       "      <td>[0.0, 0.0, 0.0, 0.0, 0.0, 0.0, 0.0, 0.0, 0.0, ...</td>\n",
       "      <td>[0.0, 0.0, 0.0, 0.0, 0.0, 0.0, 0.0, 0.0, 0.0, ...</td>\n",
       "      <td>[0.0, 0.0, 0.0, 0.0, 0.0, 0.0, 0.0, 0.0, 0.0, ...</td>\n",
       "    </tr>\n",
       "    <tr>\n",
       "      <th>1</th>\n",
       "      <td>[0.0005, 0.0005, 0.0005, 0.0005, 0.0005, 0.000...</td>\n",
       "      <td>[0.0, 0.0, 0.0, 0.0, 5.662999999999999, 5.6629...</td>\n",
       "      <td>[0.0, 0.0, 0.0, 0.0, 1.426, 1.426, 1.351999999...</td>\n",
       "      <td>[0.0, 0.0, 0.0, 0.0, 2.311, 2.311, 2.214, 2.08...</td>\n",
       "      <td>[0.0, 0.0, 0.0, 0.0, 15.150000000000002, 15.15...</td>\n",
       "      <td>[0.0, 0.0, 0.0, 0.0, 4.4959999999999996, 4.495...</td>\n",
       "      <td>[0.0, 0.0, 0.0, 0.0, 8.088, 8.088, 7.92, 7.75,...</td>\n",
       "      <td>[0.0, 0.0, 0.0, 0.0, 11.221, 11.221, 10.815000...</td>\n",
       "      <td>[0.0, 0.0, 0.0, 0.0, 10.255000000000003, 10.25...</td>\n",
       "      <td>[0.0, 0.0, 0.0, 0.0, 9.236000000000002, 9.2360...</td>\n",
       "      <td>...</td>\n",
       "      <td>[0.0, 0.0, 0.0, 0.047, 0.047, 0.047, 0.047, 0....</td>\n",
       "      <td>[0.0, 0.0, 0.0, 0.081, 0.081, 0.081, 0.081, 0....</td>\n",
       "      <td>[0.0, 0.0, 0.0, 0.602, 0.602, 0.602, 0.602, 0....</td>\n",
       "      <td>[0.0, 0.0, 0.0, 0.35, 0.35, 0.35, 0.35, 0.203,...</td>\n",
       "      <td>[0.0, 0.0, 0.0, 0.105, 0.105, 0.105, 0.105, 0....</td>\n",
       "      <td>[0.0, 0.0, 0.0, 0.252, 0.252, 0.252, 0.252, 0....</td>\n",
       "      <td>[0.0, 0.0, 0.0, 1.009, 1.009, 1.009, 1.009, 0....</td>\n",
       "      <td>[0.0, 0.0, 0.0, 0.093, 0.093, 0.093, 0.093, 0....</td>\n",
       "      <td>[0.0, 0.0, 0.0, 0.74, 0.74, 0.74, 0.74, 0.624,...</td>\n",
       "      <td>[0.0, 0.0, 0.0, 0.129, 0.129, 0.129, 0.129, 0....</td>\n",
       "    </tr>\n",
       "    <tr>\n",
       "      <th>2</th>\n",
       "      <td>[0.01, 0.01, 0.01, 0.01, 0.01, 0.01, 0.01, 0.0...</td>\n",
       "      <td>[0.364, 0.0, 0.0, 0.0, 5.662999999999999, 0.0,...</td>\n",
       "      <td>[0.026, 0.0, 0.0, 0.0, 1.426, 0.0, 0.0, 0.0, 0...</td>\n",
       "      <td>[0.153, 0.0, 0.0, 0.0, 2.311, 0.0, 0.0, 0.0, 0...</td>\n",
       "      <td>[0.091, 0.0, 0.0, 0.0, 15.150000000000002, 0.0...</td>\n",
       "      <td>[0.168, 0.0, 0.0, 0.0, 4.4959999999999996, 0.0...</td>\n",
       "      <td>[0.171, 0.0, 0.0, 0.0, 8.088, 0.0, 0.0, 0.0, 0...</td>\n",
       "      <td>[0.322, 0.0, 0.0, 0.0, 11.221, 0.0, 0.0, 0.0, ...</td>\n",
       "      <td>[0.415, 0.0, 0.0, 0.0, 10.255000000000003, 0.0...</td>\n",
       "      <td>[0.236, 0.0, 0.0, 0.0, 9.236000000000002, 0.0,...</td>\n",
       "      <td>...</td>\n",
       "      <td>[0.045, 0.0, 0.0, 0.047, 0.0, 0.0, 0.0, 0.218,...</td>\n",
       "      <td>[0.085, 0.0, 0.0, 0.081, 0.0, 0.0, 0.0, 0.124,...</td>\n",
       "      <td>[0.312, 0.0, 0.0, 0.602, 0.0, 0.0, 0.0, 0.452,...</td>\n",
       "      <td>[0.047, 0.0, 0.0, 0.35, 0.0, 0.0, 0.0, 0.203, ...</td>\n",
       "      <td>[0.028, 0.0, 0.0, 0.105, 0.0, 0.0, 0.0, 0.097,...</td>\n",
       "      <td>[0.093, 0.0, 0.0, 0.252, 0.0, 0.0, 0.0, 0.26, ...</td>\n",
       "      <td>[0.642, 0.0, 0.0, 1.009, 0.0, 0.0, 0.0, 0.441,...</td>\n",
       "      <td>[0.088, 0.0, 0.0, 0.093, 0.0, 0.0, 0.0, 0.43, ...</td>\n",
       "      <td>[0.089, 0.0, 0.0, 0.74, 0.0, 0.0, 0.0, 0.624, ...</td>\n",
       "      <td>[1.144, 0.0, 0.0, 0.129, 0.0, 0.0, 0.0, 0.396,...</td>\n",
       "    </tr>\n",
       "    <tr>\n",
       "      <th>3</th>\n",
       "      <td>[0.01, 0.01, 0.01, 0.01, 0.01, 0.01, 0.01, 0.0...</td>\n",
       "      <td>[0.0, 0.364, 0.0, 0.0, 0.0, 0.0, 0.0, 0.228, 0...</td>\n",
       "      <td>[0.0, 0.026, 0.0, 0.0, 0.0, 0.0, 0.0, 0.074, 0...</td>\n",
       "      <td>[0.0, 0.153, 0.0, 0.0, 0.0, 0.0, 0.0, 0.097, 0...</td>\n",
       "      <td>[0.0, 0.091, 0.0, 0.0, 0.0, 0.0, 0.0, 0.616, 1...</td>\n",
       "      <td>[0.0, 0.168, 0.0, 0.0, 0.0, 0.0, 0.0, 0.387, 0...</td>\n",
       "      <td>[0.0, 0.171, 0.0, 0.0, 0.0, 0.0, 0.0, 0.168, 0...</td>\n",
       "      <td>[0.0, 0.322, 0.0, 0.0, 0.0, 0.0, 0.0, 0.406, 0...</td>\n",
       "      <td>[0.0, 0.415, 0.0, 0.0, 0.0, 0.0, 0.0, 0.373, 0...</td>\n",
       "      <td>[0.0, 0.236, 0.0, 0.0, 0.0, 0.0, 0.0, 0.681, 0...</td>\n",
       "      <td>...</td>\n",
       "      <td>[0.0, 0.045, 0.0, 0.0, 0.0, 0.0, 0.0, 0.0, 0.0...</td>\n",
       "      <td>[0.0, 0.085, 0.0, 0.0, 0.0, 0.0, 0.0, 0.0, 0.0...</td>\n",
       "      <td>[0.0, 0.312, 0.0, 0.0, 0.0, 0.0, 0.0, 0.0, 0.6...</td>\n",
       "      <td>[0.0, 0.047, 0.0, 0.0, 0.0, 0.0, 0.0, 0.0, 0.3...</td>\n",
       "      <td>[0.0, 0.028, 0.0, 0.0, 0.0, 0.0, 0.0, 0.0, 0.1...</td>\n",
       "      <td>[0.0, 0.093, 0.0, 0.0, 0.0, 0.0, 0.0, 0.0, 0.2...</td>\n",
       "      <td>[0.0, 0.642, 0.0, 0.0, 0.0, 0.0, 0.0, 0.0, 1.0...</td>\n",
       "      <td>[0.0, 0.088, 0.0, 0.0, 0.0, 0.0, 0.0, 0.0, 0.0...</td>\n",
       "      <td>[0.0, 0.089, 0.0, 0.0, 0.0, 0.0, 0.0, 0.0, 0.7...</td>\n",
       "      <td>[0.0, 1.144, 0.0, 0.0, 0.0, 0.0, 0.0, 0.0, 0.1...</td>\n",
       "    </tr>\n",
       "  </tbody>\n",
       "</table>\n",
       "<p>4 rows × 4184 columns</p>\n",
       "</div>"
      ],
      "text/plain": [
       "                                             price_0  \\\n",
       "0  [0.2, 0.2, 0.2, 0.2, 0.2, 0.2, 0.2, 0.2, 0.2, ...   \n",
       "1  [0.0005, 0.0005, 0.0005, 0.0005, 0.0005, 0.000...   \n",
       "2  [0.01, 0.01, 0.01, 0.01, 0.01, 0.01, 0.01, 0.0...   \n",
       "3  [0.01, 0.01, 0.01, 0.01, 0.01, 0.01, 0.01, 0.0...   \n",
       "\n",
       "                                             agent10  \\\n",
       "0  [0.0, 0.0, 0.0, 0.0, 0.0, 0.0, 0.0, 0.0, 0.0, ...   \n",
       "1  [0.0, 0.0, 0.0, 0.0, 5.662999999999999, 5.6629...   \n",
       "2  [0.364, 0.0, 0.0, 0.0, 5.662999999999999, 0.0,...   \n",
       "3  [0.0, 0.364, 0.0, 0.0, 0.0, 0.0, 0.0, 0.228, 0...   \n",
       "\n",
       "                                             agent20  \\\n",
       "0  [0.0, 0.0, 0.0, 0.0, 0.0, 0.0, 0.0, 0.0, 0.0, ...   \n",
       "1  [0.0, 0.0, 0.0, 0.0, 1.426, 1.426, 1.351999999...   \n",
       "2  [0.026, 0.0, 0.0, 0.0, 1.426, 0.0, 0.0, 0.0, 0...   \n",
       "3  [0.0, 0.026, 0.0, 0.0, 0.0, 0.0, 0.0, 0.074, 0...   \n",
       "\n",
       "                                             agent30  \\\n",
       "0  [0.0, 0.0, 0.0, 0.0, 0.0, 0.0, 0.0, 0.0, 0.0, ...   \n",
       "1  [0.0, 0.0, 0.0, 0.0, 2.311, 2.311, 2.214, 2.08...   \n",
       "2  [0.153, 0.0, 0.0, 0.0, 2.311, 0.0, 0.0, 0.0, 0...   \n",
       "3  [0.0, 0.153, 0.0, 0.0, 0.0, 0.0, 0.0, 0.097, 0...   \n",
       "\n",
       "                                             agent40  \\\n",
       "0  [0.0, 0.0, 0.0, 0.0, 0.0, 0.0, 0.0, 0.0, 0.0, ...   \n",
       "1  [0.0, 0.0, 0.0, 0.0, 15.150000000000002, 15.15...   \n",
       "2  [0.091, 0.0, 0.0, 0.0, 15.150000000000002, 0.0...   \n",
       "3  [0.0, 0.091, 0.0, 0.0, 0.0, 0.0, 0.0, 0.616, 1...   \n",
       "\n",
       "                                             agent50  \\\n",
       "0  [0.0, 0.0, 0.0, 0.0, 0.0, 0.0, 0.0, 0.0, 0.0, ...   \n",
       "1  [0.0, 0.0, 0.0, 0.0, 4.4959999999999996, 4.495...   \n",
       "2  [0.168, 0.0, 0.0, 0.0, 4.4959999999999996, 0.0...   \n",
       "3  [0.0, 0.168, 0.0, 0.0, 0.0, 0.0, 0.0, 0.387, 0...   \n",
       "\n",
       "                                             agent60  \\\n",
       "0  [0.0, 0.0, 0.0, 0.0, 0.0, 0.0, 0.0, 0.0, 0.0, ...   \n",
       "1  [0.0, 0.0, 0.0, 0.0, 8.088, 8.088, 7.92, 7.75,...   \n",
       "2  [0.171, 0.0, 0.0, 0.0, 8.088, 0.0, 0.0, 0.0, 0...   \n",
       "3  [0.0, 0.171, 0.0, 0.0, 0.0, 0.0, 0.0, 0.168, 0...   \n",
       "\n",
       "                                             agent70  \\\n",
       "0  [0.0, 0.0, 0.0, 0.0, 0.0, 0.0, 0.0, 0.0, 0.0, ...   \n",
       "1  [0.0, 0.0, 0.0, 0.0, 11.221, 11.221, 10.815000...   \n",
       "2  [0.322, 0.0, 0.0, 0.0, 11.221, 0.0, 0.0, 0.0, ...   \n",
       "3  [0.0, 0.322, 0.0, 0.0, 0.0, 0.0, 0.0, 0.406, 0...   \n",
       "\n",
       "                                             agent80  \\\n",
       "0  [0.0, 0.0, 0.0, 0.0, 0.0, 0.0, 0.0, 0.0, 0.0, ...   \n",
       "1  [0.0, 0.0, 0.0, 0.0, 10.255000000000003, 10.25...   \n",
       "2  [0.415, 0.0, 0.0, 0.0, 10.255000000000003, 0.0...   \n",
       "3  [0.0, 0.415, 0.0, 0.0, 0.0, 0.0, 0.0, 0.373, 0...   \n",
       "\n",
       "                                             agent90  ...  \\\n",
       "0  [0.0, 0.0, 0.0, 0.0, 0.0, 0.0, 0.0, 0.0, 0.0, ...  ...   \n",
       "1  [0.0, 0.0, 0.0, 0.0, 9.236000000000002, 9.2360...  ...   \n",
       "2  [0.236, 0.0, 0.0, 0.0, 9.236000000000002, 0.0,...  ...   \n",
       "3  [0.0, 0.236, 0.0, 0.0, 0.0, 0.0, 0.0, 0.681, 0...  ...   \n",
       "\n",
       "                                          agent16170  \\\n",
       "0  [0.0, 0.0, 0.0, 0.0, 0.0, 0.0, 0.0, 0.0, 0.0, ...   \n",
       "1  [0.0, 0.0, 0.0, 0.047, 0.047, 0.047, 0.047, 0....   \n",
       "2  [0.045, 0.0, 0.0, 0.047, 0.0, 0.0, 0.0, 0.218,...   \n",
       "3  [0.0, 0.045, 0.0, 0.0, 0.0, 0.0, 0.0, 0.0, 0.0...   \n",
       "\n",
       "                                          agent17170  \\\n",
       "0  [0.0, 0.0, 0.0, 0.0, 0.0, 0.0, 0.0, 0.0, 0.0, ...   \n",
       "1  [0.0, 0.0, 0.0, 0.081, 0.081, 0.081, 0.081, 0....   \n",
       "2  [0.085, 0.0, 0.0, 0.081, 0.0, 0.0, 0.0, 0.124,...   \n",
       "3  [0.0, 0.085, 0.0, 0.0, 0.0, 0.0, 0.0, 0.0, 0.0...   \n",
       "\n",
       "                                          agent18170  \\\n",
       "0  [0.0, 0.0, 0.0, 0.0, 0.0, 0.0, 0.0, 0.0, 0.0, ...   \n",
       "1  [0.0, 0.0, 0.0, 0.602, 0.602, 0.602, 0.602, 0....   \n",
       "2  [0.312, 0.0, 0.0, 0.602, 0.0, 0.0, 0.0, 0.452,...   \n",
       "3  [0.0, 0.312, 0.0, 0.0, 0.0, 0.0, 0.0, 0.0, 0.6...   \n",
       "\n",
       "                                          agent19170  \\\n",
       "0  [0.0, 0.0, 0.0, 0.0, 0.0, 0.0, 0.0, 0.0, 0.0, ...   \n",
       "1  [0.0, 0.0, 0.0, 0.35, 0.35, 0.35, 0.35, 0.203,...   \n",
       "2  [0.047, 0.0, 0.0, 0.35, 0.0, 0.0, 0.0, 0.203, ...   \n",
       "3  [0.0, 0.047, 0.0, 0.0, 0.0, 0.0, 0.0, 0.0, 0.3...   \n",
       "\n",
       "                                          agent20170  \\\n",
       "0  [0.0, 0.0, 0.0, 0.0, 0.0, 0.0, 0.0, 0.0, 0.0, ...   \n",
       "1  [0.0, 0.0, 0.0, 0.105, 0.105, 0.105, 0.105, 0....   \n",
       "2  [0.028, 0.0, 0.0, 0.105, 0.0, 0.0, 0.0, 0.097,...   \n",
       "3  [0.0, 0.028, 0.0, 0.0, 0.0, 0.0, 0.0, 0.0, 0.1...   \n",
       "\n",
       "                                          agent21170  \\\n",
       "0  [0.0, 0.0, 0.0, 0.0, 0.0, 0.0, 0.0, 0.0, 0.0, ...   \n",
       "1  [0.0, 0.0, 0.0, 0.252, 0.252, 0.252, 0.252, 0....   \n",
       "2  [0.093, 0.0, 0.0, 0.252, 0.0, 0.0, 0.0, 0.26, ...   \n",
       "3  [0.0, 0.093, 0.0, 0.0, 0.0, 0.0, 0.0, 0.0, 0.2...   \n",
       "\n",
       "                                          agent22170  \\\n",
       "0  [0.0, 0.0, 0.0, 0.0, 0.0, 0.0, 0.0, 0.0, 0.0, ...   \n",
       "1  [0.0, 0.0, 0.0, 1.009, 1.009, 1.009, 1.009, 0....   \n",
       "2  [0.642, 0.0, 0.0, 1.009, 0.0, 0.0, 0.0, 0.441,...   \n",
       "3  [0.0, 0.642, 0.0, 0.0, 0.0, 0.0, 0.0, 0.0, 1.0...   \n",
       "\n",
       "                                          agent23170  \\\n",
       "0  [0.0, 0.0, 0.0, 0.0, 0.0, 0.0, 0.0, 0.0, 0.0, ...   \n",
       "1  [0.0, 0.0, 0.0, 0.093, 0.093, 0.093, 0.093, 0....   \n",
       "2  [0.088, 0.0, 0.0, 0.093, 0.0, 0.0, 0.0, 0.43, ...   \n",
       "3  [0.0, 0.088, 0.0, 0.0, 0.0, 0.0, 0.0, 0.0, 0.0...   \n",
       "\n",
       "                                          agent24170  \\\n",
       "0  [0.0, 0.0, 0.0, 0.0, 0.0, 0.0, 0.0, 0.0, 0.0, ...   \n",
       "1  [0.0, 0.0, 0.0, 0.74, 0.74, 0.74, 0.74, 0.624,...   \n",
       "2  [0.089, 0.0, 0.0, 0.74, 0.0, 0.0, 0.0, 0.624, ...   \n",
       "3  [0.0, 0.089, 0.0, 0.0, 0.0, 0.0, 0.0, 0.0, 0.7...   \n",
       "\n",
       "                                          agent25170  \n",
       "0  [0.0, 0.0, 0.0, 0.0, 0.0, 0.0, 0.0, 0.0, 0.0, ...  \n",
       "1  [0.0, 0.0, 0.0, 0.129, 0.129, 0.129, 0.129, 0....  \n",
       "2  [1.144, 0.0, 0.0, 0.129, 0.0, 0.0, 0.0, 0.396,...  \n",
       "3  [0.0, 1.144, 0.0, 0.0, 0.0, 0.0, 0.0, 0.0, 0.1...  \n",
       "\n",
       "[4 rows x 4184 columns]"
      ]
     },
     "execution_count": 56,
     "metadata": {},
     "output_type": "execute_result"
    }
   ],
   "source": [
    "df6.head()"
   ]
  }
 ],
 "metadata": {
  "interpreter": {
   "hash": "31f2aee4e71d21fbe5cf8b01ff0e069b9275f58929596ceb00d14d90e3e16cd6"
  },
  "kernelspec": {
   "display_name": "Python 3.8.10 64-bit",
   "language": "python",
   "name": "python3"
  },
  "language_info": {
   "codemirror_mode": {
    "name": "ipython",
    "version": 3
   },
   "file_extension": ".py",
   "mimetype": "text/x-python",
   "name": "python",
   "nbconvert_exporter": "python",
   "pygments_lexer": "ipython3",
   "version": "3.8.10"
  },
  "orig_nbformat": 4
 },
 "nbformat": 4,
 "nbformat_minor": 2
}
