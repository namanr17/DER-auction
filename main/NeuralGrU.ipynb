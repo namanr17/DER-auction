{
 "cells": [
  {
   "cell_type": "code",
   "execution_count": 1,
   "metadata": {},
   "outputs": [],
   "source": [
    "%load_ext autoreload\n",
    "%autoreload 2 "
   ]
  },
  {
   "cell_type": "code",
   "execution_count": 2,
   "metadata": {},
   "outputs": [],
   "source": [
    "import torch\n",
    "import torch.nn as nn\n",
    "import torch.nn.functional as F\n",
    "\n",
    "from enum import IntEnum\n",
    "import numpy as np\n",
    "import pandas as pd\n",
    "import matplotlib.pyplot as plt\n",
    "\n",
    "from tqdm import trange\n",
    "from collections import defaultdict\n",
    "\n",
    "from GrU_nn import (gru_module_1, gru_module_2, gru_module_3, gru_module_4, neuralGrU)\n",
    "from GrU import (evaluate, GrU, getBestExporter, getCost)\n",
    "\n",
    "# device = torch.device(\"cuda\" if torch.cuda.is_available() else \"cpu\")\n",
    "device = torch.device(\"cpu\")"
   ]
  },
  {
   "cell_type": "markdown",
   "metadata": {},
   "source": [
    "### Load auction data"
   ]
  },
  {
   "cell_type": "code",
   "execution_count": 3,
   "metadata": {},
   "outputs": [],
   "source": [
    "class clock( IntEnum ):\n",
    "    pv = 0\n",
    "    storage = 1\n",
    "    charge = 2\n",
    "    discharge = 3\n",
    "\n",
    "class source( IntEnum ):\n",
    "    grid =  0\n",
    "    pv = 1\n",
    "    storage = 2\n",
    "    charge = 3\n",
    "    discharge = 4\n",
    "\n",
    "df_auctioneer_data = pd.read_csv('../data/Auctioneer Data.csv')\n",
    "\n",
    "headers = np.load(file='../data/clock_data_columns.npy', allow_pickle=True)\n",
    "df_clock_data = pd.DataFrame(np.load('../data/clock_data_values.npy', allow_pickle=True), columns=headers)\n",
    "\n",
    "def getPriceVectors(round):\n",
    "    '''\n",
    "    Get price vectors for a round from the clock data.\n",
    "\n",
    "    Parameters\n",
    "    ----------\n",
    "    round : int\n",
    "        Round number to get the price vectors for, range = [0, 308]\n",
    "\n",
    "    Returns\n",
    "    -------\n",
    "    prices : ndarray of shape (5, 24)\n",
    "        Price vectors for g, p, s, c, d.\n",
    "    \n",
    "    '''\n",
    "    prices = np.ndarray((5, 24))\n",
    "    prices[0] = df_auctioneer_data.GRID_PRICE.values\n",
    "    for e in clock:\n",
    "        prices[e + 1] = df_clock_data[f'price_{round}'][e]\n",
    "    return prices"
   ]
  },
  {
   "cell_type": "markdown",
   "metadata": {},
   "source": [
    "## Neural GrU"
   ]
  },
  {
   "cell_type": "markdown",
   "metadata": {},
   "source": [
    "### Experiment -> Verify the output of Module-1"
   ]
  },
  {
   "cell_type": "code",
   "execution_count": 5,
   "metadata": {},
   "outputs": [],
   "source": [
    "prices = getPriceVectors(100) * 1e2\n",
    "eta = 1\n",
    "\n",
    "pi_tilda_gru = []\n",
    "i_t_gru = []\n",
    "\n",
    "for t in range(24):\n",
    "    pi, i = getBestExporter(prices, t, eta, eta)\n",
    "    pi_tilda_gru.append(pi)\n",
    "    i_t_gru.append(i)\n",
    "\n",
    "m1 = gru_module_1(device, eta, eta)\n",
    "\n",
    "pi_s = torch.tensor(prices[source.storage])\n",
    "pi_c = torch.tensor(prices[source.charge])\n",
    "pi_g = torch.tensor(prices[source.grid])\n",
    "\n",
    "pi_tilda_nn, i_t_nn = m1(pi_s, pi_c, pi_g, B=1e2)"
   ]
  },
  {
   "cell_type": "code",
   "execution_count": 7,
   "metadata": {},
   "outputs": [
    {
     "data": {
      "text/plain": [
       "[-1, 0, 1, 2, 2, 2, 2, 2, 2, 2, 2, 2, 2, 2, 2, 2, 2, 2, 2, 2, 2, 2, 2, 2]"
      ]
     },
     "execution_count": 7,
     "metadata": {},
     "output_type": "execute_result"
    }
   ],
   "source": [
    "i_t_gru"
   ]
  },
  {
   "cell_type": "code",
   "execution_count": 8,
   "metadata": {},
   "outputs": [
    {
     "data": {
      "text/plain": [
       "tensor([0, 0, 1, 2, 2, 2, 2, 2, 2, 2, 2, 2, 2, 2, 2, 2, 2, 2, 2, 2, 2, 2, 2, 2])"
      ]
     },
     "execution_count": 8,
     "metadata": {},
     "output_type": "execute_result"
    }
   ],
   "source": [
    "torch.argmax(i_t_nn, dim=1)"
   ]
  },
  {
   "cell_type": "code",
   "execution_count": 9,
   "metadata": {},
   "outputs": [
    {
     "data": {
      "text/plain": [
       "array([-1,  0,  0,  0,  0,  0,  0,  0,  0,  0,  0,  0,  0,  0,  0,  0,  0,\n",
       "        0,  0,  0,  0,  0,  0,  0])"
      ]
     },
     "execution_count": 9,
     "metadata": {},
     "output_type": "execute_result"
    }
   ],
   "source": [
    "i_t_gru - torch.argmax(i_t_nn, dim=1).numpy()"
   ]
  },
  {
   "cell_type": "code",
   "execution_count": 10,
   "metadata": {},
   "outputs": [
    {
     "data": {
      "text/plain": [
       "tensor([        nan, -1.2158e-06, -4.4983e-07,  5.6641e-07, -6.5430e-07,\n",
       "         9.4788e-07,  7.1899e-07,  4.1382e-07,  1.0864e-07, -1.9653e-07,\n",
       "        -5.0171e-07, -8.0688e-07,  7.9529e-07,  4.9011e-07,  1.8494e-07,\n",
       "        -1.2024e-07,  4.1382e-07, -1.2024e-07,  4.1382e-07, -1.2024e-07,\n",
       "         7.1899e-07, -4.3945e-08, -8.0688e-07,  3.3752e-07],\n",
       "       dtype=torch.float64, grad_fn=<SubBackward0>)"
      ]
     },
     "execution_count": 10,
     "metadata": {},
     "output_type": "execute_result"
    }
   ],
   "source": [
    "pi_tilda_nn - torch.tensor(pi_tilda_gru)"
   ]
  },
  {
   "cell_type": "markdown",
   "metadata": {},
   "source": [
    "### Experiment -> Verify the output of Module-2"
   ]
  },
  {
   "cell_type": "code",
   "execution_count": 14,
   "metadata": {},
   "outputs": [
    {
     "data": {
      "text/plain": [
       "tensor([2, 2, 2, 2, 2, 2, 2, 0, 0, 0, 0, 0, 0, 0, 0, 0, 0, 0, 0, 0, 0, 0, 0, 0])"
      ]
     },
     "execution_count": 14,
     "metadata": {},
     "output_type": "execute_result"
    }
   ],
   "source": [
    "pi_d = torch.tensor(prices[source.discharge])\n",
    "pi_p = torch.tensor(prices[source.pv])\n",
    "\n",
    "m2 = gru_module_2(eta)\n",
    "act_nn = m2(pi_tilda_nn, pi_d, pi_p, pi_g, B=1e2)\n",
    "torch.argmax(act_nn, dim=1)"
   ]
  },
  {
   "cell_type": "code",
   "execution_count": 15,
   "metadata": {},
   "outputs": [
    {
     "data": {
      "text/plain": [
       "array([2., 2., 2., 2., 2., 2., 2., 0., 0., 0., 0., 0., 0., 0., 0., 0., 0.,\n",
       "       0., 0., 0., 0., 0., 0., 0.])"
      ]
     },
     "execution_count": 15,
     "metadata": {},
     "output_type": "execute_result"
    }
   ],
   "source": [
    "# Customized GrU module to return activations as well // Reverted back to normal.\n",
    "_, _, A = GrU(np.ones((24,)), prices)\n",
    "A"
   ]
  },
  {
   "cell_type": "code",
   "execution_count": 16,
   "metadata": {},
   "outputs": [
    {
     "data": {
      "text/plain": [
       "array([0., 0., 0., 0., 0., 0., 0., 0., 0., 0., 0., 0., 0., 0., 0., 0., 0.,\n",
       "       0., 0., 0., 0., 0., 0., 0.])"
      ]
     },
     "execution_count": 16,
     "metadata": {},
     "output_type": "execute_result"
    }
   ],
   "source": [
    "A - torch.argmax(act_nn, dim=1).numpy()"
   ]
  },
  {
   "cell_type": "markdown",
   "metadata": {},
   "source": [
    "### Experiment -> Verify the output(s) of Neural GrU Modules with toy example"
   ]
  },
  {
   "cell_type": "markdown",
   "metadata": {},
   "source": [
    "> Outdated code; needs to be updated."
   ]
  },
  {
   "cell_type": "code",
   "execution_count": null,
   "metadata": {},
   "outputs": [],
   "source": [
    "B = 1e3\n",
    "\n",
    "m1 = gru_module_1()\n",
    "m2 = gru_module_2()\n",
    "m3 = gru_module_3()\n",
    "m4 = gru_module_4()\n",
    "\n",
    "pi_g = torch.tensor([2, 4, 8, 1] + [1] * 20, dtype=float)\n",
    "pi_p = torch.tensor([1, 2, 4, 2] + [2] * 20, dtype=float)\n",
    "pi_c = torch.ones(24, dtype=float)\n",
    "pi_d = torch.ones(24, dtype=float)\n",
    "pi_s = torch.ones(24, dtype=float)\n",
    "\n",
    "d_t = torch.ones(24)\n",
    "\n",
    "pi_tilda_c_t, i_t = m1(pi_s, pi_c, pi_g, B)\n",
    "a_t = m2(pi_tilda_c_t, pi_d, pi_p, pi_g, B)\n",
    "i_tilda_t = m3(i_t)\n",
    "d_star = m4(d_t, i_t, a_t, i_tilda_t)"
   ]
  },
  {
   "cell_type": "code",
   "execution_count": null,
   "metadata": {},
   "outputs": [],
   "source": [
    "print('grid prices =',pi_g[:5])\n",
    "print('pv prices =',pi_p[:5])\n",
    "print('storage prices =',pi_s[:5])\n",
    "print('charging prices =',pi_c[:5])\n",
    "print('discharging prices =',pi_d[:5])"
   ]
  },
  {
   "cell_type": "markdown",
   "metadata": {},
   "source": [
    "> Output of Module-1: Price of importing power from cheapest time slot"
   ]
  },
  {
   "cell_type": "code",
   "execution_count": null,
   "metadata": {},
   "outputs": [],
   "source": [
    "pi_tilda_c_t[:6]"
   ]
  },
  {
   "cell_type": "code",
   "execution_count": null,
   "metadata": {},
   "outputs": [],
   "source": [
    "torch.argmax(i_t[:6], dim=1)"
   ]
  },
  {
   "cell_type": "markdown",
   "metadata": {},
   "source": [
    "> Output of Module-2: Cheapest source b/w discharge(incuding import from cheapest time slot), pv & grid"
   ]
  },
  {
   "cell_type": "code",
   "execution_count": null,
   "metadata": {},
   "outputs": [],
   "source": [
    "a_t[:6]"
   ]
  },
  {
   "cell_type": "markdown",
   "metadata": {},
   "source": [
    "> Output of Module-3: Time slots (one hot vector) to store the charge to be discharged at time slot t"
   ]
  },
  {
   "cell_type": "code",
   "execution_count": null,
   "metadata": {},
   "outputs": [],
   "source": [
    "i_tilda_t[:6]"
   ]
  },
  {
   "cell_type": "markdown",
   "metadata": {},
   "source": [
    "> Output of Module-4"
   ]
  },
  {
   "cell_type": "code",
   "execution_count": null,
   "metadata": {},
   "outputs": [],
   "source": [
    "d_star[:, :6]"
   ]
  },
  {
   "cell_type": "markdown",
   "metadata": {},
   "source": [
    "### Experiment -> Forward pass of Neural GrU"
   ]
  },
  {
   "cell_type": "code",
   "execution_count": 15,
   "metadata": {},
   "outputs": [],
   "source": [
    "eta = 0.9487"
   ]
  },
  {
   "cell_type": "code",
   "execution_count": 16,
   "metadata": {},
   "outputs": [],
   "source": [
    "m = neuralGrU(B=1e3, eta_c=eta, eta_d=eta)\n",
    "\n",
    "prices = getPriceVectors(100) * 100\n",
    "d_total = np.ones(24)\n",
    "\n",
    "pi = torch.tensor(prices)\n",
    "d_t = torch.tensor(d_total)\n",
    "\n",
    "d_break, _ = GrU(d_total, prices, eta_c=eta, eta_d=eta)\n",
    "d_break_nGrU = m(pi[0], pi[1], pi[2], pi[3], pi[4], d_t).detach().numpy()"
   ]
  },
  {
   "cell_type": "code",
   "execution_count": 22,
   "metadata": {},
   "outputs": [
    {
     "data": {
      "text/plain": [
       "[1.4802973661668753e-16, 0.0, 1.7393494052460785e-15, 0.0, 0.0]"
      ]
     },
     "execution_count": 22,
     "metadata": {},
     "output_type": "execute_result"
    }
   ],
   "source": [
    "evaluate(d_break, d_break_nGrU)[0]"
   ]
  },
  {
   "cell_type": "code",
   "execution_count": 20,
   "metadata": {},
   "outputs": [
    {
     "data": {
      "text/plain": [
       "array([[ 1.   ,  1.   , 19.888,  1.   ,  1.   ,  1.   ,  1.   ,  0.   ,\n",
       "         0.   ,  0.   ,  0.   ,  0.   ,  0.   ,  0.   ,  0.   ,  0.   ,\n",
       "         0.   ,  0.   ,  0.   ,  0.   ,  0.   ,  0.   ,  0.   ,  0.   ],\n",
       "       [ 0.   ,  0.   ,  0.   ,  0.   ,  0.   ,  0.   ,  0.   ,  0.   ,\n",
       "         0.   ,  0.   ,  0.   ,  0.   ,  0.   ,  0.   ,  0.   ,  0.   ,\n",
       "         0.   ,  0.   ,  0.   ,  0.   ,  0.   ,  0.   ,  0.   ,  0.   ],\n",
       "       [ 0.   ,  0.   , 17.919, 17.919, 17.919, 17.919, 17.919, 16.865,\n",
       "        15.811, 14.757, 13.703, 12.649, 11.595, 10.541,  9.487,  8.433,\n",
       "         7.379,  6.324,  5.27 ,  4.216,  3.162,  2.108,  1.054,  0.   ],\n",
       "       [ 0.   ,  0.   , 18.888,  0.   ,  0.   ,  0.   ,  0.   ,  0.   ,\n",
       "         0.   ,  0.   ,  0.   ,  0.   ,  0.   ,  0.   ,  0.   ,  0.   ,\n",
       "         0.   ,  0.   ,  0.   ,  0.   ,  0.   ,  0.   ,  0.   ,  0.   ],\n",
       "       [ 0.   ,  0.   ,  0.   ,  0.   ,  0.   ,  0.   ,  0.   ,  1.054,\n",
       "         1.054,  1.054,  1.054,  1.054,  1.054,  1.054,  1.054,  1.054,\n",
       "         1.054,  1.054,  1.054,  1.054,  1.054,  1.054,  1.054,  1.054]])"
      ]
     },
     "execution_count": 20,
     "metadata": {},
     "output_type": "execute_result"
    }
   ],
   "source": [
    "d_break_nGrU.round(3)"
   ]
  },
  {
   "cell_type": "markdown",
   "metadata": {},
   "source": [
    "## Revenue Maximization"
   ]
  },
  {
   "cell_type": "code",
   "execution_count": 5,
   "metadata": {},
   "outputs": [],
   "source": [
    "def total_loss(pi_g, pi_p, pi_s, pi_c, pi_d, d_star):\n",
    "    '''\n",
    "    Loss = -revenue\n",
    "    '''\n",
    "    # r_g = pi_g * d_star[source.grid]\n",
    "    r_p = pi_p * d_star[source.pv]\n",
    "    r_s = pi_s * d_star[source.storage]\n",
    "    r_c = pi_c * d_star[source.charge]\n",
    "    r_d = pi_d * d_star[source.discharge]\n",
    "\n",
    "    r_t = r_p + r_s + r_c + r_d\n",
    "    rev = torch.sum(r_t)\n",
    "\n",
    "    return -rev"
   ]
  },
  {
   "cell_type": "code",
   "execution_count": 6,
   "metadata": {},
   "outputs": [],
   "source": [
    "# Init model\n",
    "eta = 1\n",
    "model = neuralGrU(B=1, eta_c=eta, eta_d=eta).to(device)"
   ]
  },
  {
   "cell_type": "markdown",
   "metadata": {},
   "source": [
    "#### Input Data"
   ]
  },
  {
   "cell_type": "code",
   "execution_count": 7,
   "metadata": {},
   "outputs": [],
   "source": [
    "prices = getPriceVectors(100)\n",
    "\n",
    "# Random total demand tensor\n",
    "d_t = torch.ones(24, requires_grad=False, device=device)\n",
    "# d_t = torch.ones(24, requires_grad=False, device=device)\n",
    "\n",
    "# Price tensors\n",
    "pi_g = torch.tensor(prices[source.grid], requires_grad=False, device=device)\n",
    "\n",
    "pi_p = torch.tensor(prices[source.pv], requires_grad=True, device=device)\n",
    "pi_c = torch.tensor(prices[source.charge], requires_grad=True, device=device)\n",
    "pi_d = torch.tensor(prices[source.discharge], requires_grad=True, device=device)\n",
    "pi_s = torch.tensor(prices[source.storage], requires_grad=True, device=device)"
   ]
  },
  {
   "cell_type": "markdown",
   "metadata": {},
   "source": [
    "#### Optimization schedule"
   ]
  },
  {
   "cell_type": "code",
   "execution_count": 8,
   "metadata": {},
   "outputs": [
    {
     "name": "stderr",
     "output_type": "stream",
     "text": [
      "100%|██████████| 200/200 [00:02<00:00, 76.65it/s]\n"
     ]
    }
   ],
   "source": [
    "# Hyperparameter(s)\n",
    "learning_rate = 1\n",
    "epochs = 200\n",
    "\n",
    "history = []\n",
    "\n",
    "# Init optimizer & scheduler\n",
    "optimizer = torch.optim.Adam([pi_p, pi_s, pi_c, pi_d], lr=learning_rate)\n",
    "scheduler = torch.optim.lr_scheduler.ExponentialLR(optimizer, gamma=0.92)\n",
    "\n",
    "for t in trange(epochs):\n",
    "    # Compute prediction and loss\n",
    "    d_star = model(pi_g, pi_p, pi_s, pi_c, pi_d, d_t)\n",
    "    loss = total_loss(pi_g, pi_p, pi_s, pi_c, pi_d, d_star)\n",
    "\n",
    "    # Backpropagation\n",
    "    optimizer.zero_grad()\n",
    "    loss.backward()\n",
    "    optimizer.step()\n",
    "    scheduler.step()\n",
    "\n",
    "    loss = loss.item()\n",
    "    history.append(loss)\n",
    "\n",
    "    if t % 10 == 0 and model.B < 1e4:\n",
    "        model.B *= 2\n",
    "\n",
    "    # if t % 100 == 0:\n",
    "    #     print(f\"Epoch {t+1}     loss: {loss:>7f}\")"
   ]
  },
  {
   "cell_type": "code",
   "execution_count": 9,
   "metadata": {},
   "outputs": [
    {
     "data": {
      "image/png": "[encoded data removed]",
      "text/plain": [
       "<Figure size 648x432 with 1 Axes>"
      ]
     },
     "metadata": {
      "needs_background": "light"
     },
     "output_type": "display_data"
    }
   ],
   "source": [
    "plt.figure(figsize=(9,6))\n",
    "plt.plot(history, label='loss')\n",
    "plt.title('Revenue Maximization')\n",
    "plt.xlabel('Iterations')\n",
    "plt.ylabel('Loss')\n",
    "plt.show()"
   ]
  },
  {
   "cell_type": "code",
   "execution_count": 45,
   "metadata": {},
   "outputs": [
    {
     "data": {
      "text/plain": [
       "tensor(True)"
      ]
     },
     "execution_count": 45,
     "metadata": {},
     "output_type": "execute_result"
    }
   ],
   "source": [
    "(pi_g > pi_p).all()"
   ]
  },
  {
   "cell_type": "code",
   "execution_count": 46,
   "metadata": {},
   "outputs": [
    {
     "data": {
      "text/plain": [
       "tensor([0.0097, 0.0157, 0.0069, 0.0078, 0.0062, 0.0060, 0.0065, 0.0149, 0.0104,\n",
       "        0.0136, 0.0096, 0.0104, 0.0107, 0.0108, 0.0106, 0.0109, 0.0106, 0.0102,\n",
       "        0.0224, 0.0181, 0.0187, 0.0181, 0.0167, 0.0186], dtype=torch.float64,\n",
       "       grad_fn=<SubBackward0>)"
      ]
     },
     "execution_count": 46,
     "metadata": {},
     "output_type": "execute_result"
    }
   ],
   "source": [
    "pi_g - pi_p"
   ]
  },
  {
   "cell_type": "markdown",
   "metadata": {},
   "source": [
    "#### Demand breakup on optimised prices"
   ]
  },
  {
   "cell_type": "code",
   "execution_count": null,
   "metadata": {},
   "outputs": [],
   "source": [
    "pi = torch.stack([pi_g, pi_p, pi_s, pi_c, pi_d]).detach().numpy()"
   ]
  },
  {
   "cell_type": "code",
   "execution_count": null,
   "metadata": {},
   "outputs": [],
   "source": [
    "d_break_nn = model(pi_g, pi_p, pi_s, pi_c, pi_d, d_t).detach().numpy()\n",
    "d_break, _ = GrU(d_t, pi, eta_c=eta, eta_d=eta)"
   ]
  },
  {
   "cell_type": "code",
   "execution_count": null,
   "metadata": {},
   "outputs": [],
   "source": [
    "evaluate(d_break, d_break_nn)[0]"
   ]
  },
  {
   "cell_type": "code",
   "execution_count": null,
   "metadata": {},
   "outputs": [],
   "source": [
    "d_break"
   ]
  },
  {
   "cell_type": "markdown",
   "metadata": {},
   "source": [
    "## Revenue Maximization with Gradient Clipping"
   ]
  },
  {
   "cell_type": "markdown",
   "metadata": {},
   "source": [
    "1. No Curriculum Learning (for B). Init B at 10-20.\n",
    "2. Gradients clipped at 0, i.e., updates to price(s) are non-negative.\n",
    "3. Input price tensors are scaled to compensate for lower B.\n",
    "4. ExponentialLR performs better than ReduceLROnPlateau."
   ]
  },
  {
   "cell_type": "code",
   "execution_count": 10,
   "metadata": {},
   "outputs": [],
   "source": [
    "def total_loss(pi_g, pi_p, pi_s, pi_c, pi_d, d_star):\n",
    "    '''\n",
    "    Loss = -revenue\n",
    "    '''\n",
    "    # r_g = pi_g * d_star[source.grid]\n",
    "    r_p = pi_p * d_star[source.pv]\n",
    "    r_s = pi_s * d_star[source.storage]\n",
    "    r_c = pi_c * d_star[source.charge]\n",
    "    r_d = pi_d * d_star[source.discharge]\n",
    "\n",
    "    r_t = r_p + r_s + r_c + r_d\n",
    "    rev = torch.sum(r_t)\n",
    "\n",
    "    return -rev"
   ]
  },
  {
   "cell_type": "code",
   "execution_count": 11,
   "metadata": {},
   "outputs": [],
   "source": [
    "# Init model\n",
    "eta = 1\n",
    "B = 10\n",
    "scaler = 100\n",
    "\n",
    "model = neuralGrU(B, device, eta, eta).to(device)"
   ]
  },
  {
   "cell_type": "markdown",
   "metadata": {},
   "source": [
    "#### Input Data"
   ]
  },
  {
   "cell_type": "code",
   "execution_count": 12,
   "metadata": {},
   "outputs": [],
   "source": [
    "prices = getPriceVectors(100) * scaler\n",
    "\n",
    "# Random total demand tensor\n",
    "d_t = torch.ones(24, requires_grad=False, device=device)\n",
    "# d_t = torch.ones(24, requires_grad=False, device=device)\n",
    "\n",
    "# Price tensors\n",
    "pi_g = torch.tensor(prices[source.grid], requires_grad=False, device=device)\n",
    "\n",
    "pi_p = torch.tensor(prices[source.pv], requires_grad=True, device=device)\n",
    "pi_c = torch.tensor(prices[source.charge], requires_grad=True, device=device)\n",
    "pi_d = torch.tensor(prices[source.discharge], requires_grad=True, device=device)\n",
    "pi_s = torch.tensor(prices[source.storage], requires_grad=True, device=device)"
   ]
  },
  {
   "cell_type": "markdown",
   "metadata": {},
   "source": [
    "#### Optimization schedule"
   ]
  },
  {
   "cell_type": "code",
   "execution_count": 13,
   "metadata": {},
   "outputs": [
    {
     "name": "stderr",
     "output_type": "stream",
     "text": [
      "100%|██████████| 200/200 [00:02<00:00, 80.17it/s]\n"
     ]
    }
   ],
   "source": [
    "# Hyperparameter(s)\n",
    "learning_rate = 1e-1\n",
    "epochs = 200\n",
    "\n",
    "history_grad_clip = []\n",
    "\n",
    "# Init optimizer & scheduler\n",
    "optimizer = torch.optim.Adam([pi_p, pi_s, pi_c, pi_d], lr=learning_rate)\n",
    "scheduler = torch.optim.lr_scheduler.ExponentialLR(optimizer, gamma=0.96)\n",
    "# scheduler = torch.optim.lr_scheduler.ReduceLROnPlateau(optimizer, factor=0.1, patience=10)\n",
    "\n",
    "for t in trange(epochs):\n",
    "    # Compute prediction and loss\n",
    "    d_star = model(pi_g, pi_p, pi_s, pi_c, pi_d, d_t)\n",
    "    loss = total_loss(pi_g, pi_p, pi_s, pi_c, pi_d, d_star)\n",
    "\n",
    "    # Backpropagation\n",
    "    optimizer.zero_grad()\n",
    "    loss.backward()\n",
    "    \n",
    "    # Gradient Clipping\n",
    "    for p in [pi_p, pi_s, pi_c, pi_d]:\n",
    "        p.grad = -F.relu(-p.grad)\n",
    "\n",
    "    optimizer.step()\n",
    "    scheduler.step()\n",
    "    # scheduler.step(loss)\n",
    "\n",
    "    loss = loss.item()\n",
    "    history_grad_clip.append(loss / scaler)\n",
    "\n",
    "    # Curriculum Learning\n",
    "    # if t % 10 == 0 and model.B < 1e4:\n",
    "    #     model.B *= 2\n",
    "\n",
    "    # if t % 100 == 0:\n",
    "    #     print(f\"Epoch {t+1}     loss: {loss:>7f}\")"
   ]
  },
  {
   "cell_type": "code",
   "execution_count": 14,
   "metadata": {},
   "outputs": [
    {
     "data": {
      "image/png": "[encoded data removed]",
      "text/plain": [
       "<Figure size 648x432 with 1 Axes>"
      ]
     },
     "metadata": {
      "needs_background": "light"
     },
     "output_type": "display_data"
    }
   ],
   "source": [
    "plt.figure(figsize=(9,6))\n",
    "plt.plot(history, label='baseline')\n",
    "plt.plot(history_grad_clip, label='gradient clipping')\n",
    "plt.title('Revenue Maximization')\n",
    "plt.xlabel('Iterations')\n",
    "plt.ylabel('Loss')\n",
    "plt.legend()\n",
    "plt.show()"
   ]
  },
  {
   "cell_type": "code",
   "execution_count": 22,
   "metadata": {},
   "outputs": [
    {
     "data": {
      "text/plain": [
       "tensor(False)"
      ]
     },
     "execution_count": 22,
     "metadata": {},
     "output_type": "execute_result"
    }
   ],
   "source": [
    "(pi_g > pi_p).all()"
   ]
  },
  {
   "cell_type": "code",
   "execution_count": 163,
   "metadata": {},
   "outputs": [
    {
     "data": {
      "text/plain": [
       "tensor([ -7.2211, -13.5218, -18.2524, -20.0054, -20.9482, -20.8110, -18.4848,\n",
       "        -12.0159,   2.6089,   3.0979,   1.1561,   0.2725,   0.0932,   0.0928,\n",
       "          0.4586,  -0.0550,  -0.0293,  -4.8319,   0.1437,   8.5256,  10.2916,\n",
       "          8.5718,   5.6218,   0.1107], dtype=torch.float64,\n",
       "       grad_fn=<SubBackward0>)"
      ]
     },
     "execution_count": 163,
     "metadata": {},
     "output_type": "execute_result"
    }
   ],
   "source": [
    "pi_g - pi_p"
   ]
  },
  {
   "cell_type": "code",
   "execution_count": 164,
   "metadata": {},
   "outputs": [
    {
     "data": {
      "text/plain": [
       "array([[1., 1., 1., 1., 1., 1., 1., 1., 0., 0., 0., 0., 0., 0., 0., 1.,\n",
       "        1., 1., 0., 0., 0., 0., 0., 0.],\n",
       "       [0., 0., 0., 0., 0., 0., 0., 0., 1., 1., 1., 1., 1., 1., 1., 0.,\n",
       "        0., 0., 1., 1., 1., 1., 1., 1.],\n",
       "       [0., 0., 0., 0., 0., 0., 0., 0., 0., 0., 0., 0., 0., 0., 0., 0.,\n",
       "        0., 0., 0., 0., 0., 0., 0., 0.],\n",
       "       [0., 0., 0., 0., 0., 0., 0., 0., 0., 0., 0., 0., 0., 0., 0., 0.,\n",
       "        0., 0., 0., 0., 0., 0., 0., 0.],\n",
       "       [0., 0., 0., 0., 0., 0., 0., 0., 0., 0., 0., 0., 0., 0., 0., 0.,\n",
       "        0., 0., 0., 0., 0., 0., 0., 0.]])"
      ]
     },
     "execution_count": 164,
     "metadata": {},
     "output_type": "execute_result"
    }
   ],
   "source": [
    "np.round(d_star.detach().numpy())"
   ]
  },
  {
   "cell_type": "markdown",
   "metadata": {},
   "source": [
    "## Multi-agent Revenue Maximization"
   ]
  },
  {
   "cell_type": "code",
   "execution_count": null,
   "metadata": {},
   "outputs": [],
   "source": [
    "def total_loss(pi_g, pi_p, pi_s, pi_c, pi_d, d_star):\n",
    "    '''\n",
    "    Loss = -revenue\n",
    "    '''\n",
    "    # r_g = pi_g * d_star[source.grid]\n",
    "    r_p = pi_p * d_star[source.pv]\n",
    "    r_s = pi_s * d_star[source.storage]\n",
    "    r_c = pi_c * d_star[source.charge]\n",
    "    r_d = pi_d * d_star[source.discharge]\n",
    "\n",
    "    r_t = r_p + r_s + r_c + r_d\n",
    "    rev = torch.sum(r_t)\n",
    "\n",
    "    return -rev"
   ]
  },
  {
   "cell_type": "code",
   "execution_count": null,
   "metadata": {},
   "outputs": [],
   "source": [
    "prices = getPriceVectors(300)\n",
    "\n",
    "# Random total demand tensor\n",
    "# d_t = torch.rand(24, requires_grad=False) * 10\n",
    "d_t = torch.ones(24, requires_grad=False, device=device) * 10\n",
    "\n",
    "# Price tensors\n",
    "pi_g = torch.tensor(prices[source.grid], requires_grad=False, device=device)\n",
    "\n",
    "pi_p = torch.tensor(prices[source.pv], requires_grad=True, device=device)\n",
    "pi_c = torch.tensor(prices[source.charge], requires_grad=True, device=device)\n",
    "pi_d = torch.tensor(prices[source.discharge], requires_grad=True, device=device)\n",
    "pi_s = torch.tensor(prices[source.storage], requires_grad=True, device=device)\n",
    "\n",
    "# EI tensor\n",
    "ep = [0.00044688, 0.00044796, 0.00045042, 0.00045573, 0.00046029, 0.00046002, 0.00045153, 0.00043737, 0.00042772, 0.00041107, 0.00040774, 0.00038668, 0.00037268, 0.00036565, 0.00036387, 0.00035763, 0.00034319, 0.00034377, 0.00035285, 0.00037902, 0.00039631, 0.00040366, 0.00039713, 0.00039088]\n",
    "ep_t = torch.tensor(ep, requires_grad=False, device=device) * 1e3"
   ]
  },
  {
   "cell_type": "code",
   "execution_count": null,
   "metadata": {},
   "outputs": [],
   "source": [
    "n_agents = 5\n",
    "gamma = [1, 2, 3, 4, 5]\n",
    "\n",
    "models = {i: neuralGrU(B=1).to(device) for i in range(n_agents)}\n",
    "d_star_n = torch.tensor(np.ndarray(shape=(n_agents, 5, 24)), device=device)\n",
    "\n",
    "# Hyperparameter(s)\n",
    "learning_rate = 1\n",
    "epochs = 100\n",
    "\n",
    "history = []\n",
    "\n",
    "optimizer = torch.optim.Adam([pi_p, pi_s, pi_c, pi_d], lr=learning_rate)\n",
    "scheduler = torch.optim.lr_scheduler.ExponentialLR(optimizer, gamma=0.92)\n",
    "\n",
    "for t in trange(epochs):\n",
    "    for agent in range(n_agents):\n",
    "        # Update pi_g with EI\n",
    "        pi_g_ei = pi_g + gamma[agent] * ep_t\n",
    "        d_star_n[agent] = models[agent](pi_g_ei, pi_p, pi_s, pi_c, pi_d, d_t)\n",
    "\n",
    "    d_star_total = torch.sum(d_star_n, dim=0)    \n",
    "    loss = total_loss(pi_g, pi_p, pi_s, pi_c, pi_d, d_star_total)\n",
    "\n",
    "    # Backpropagation\n",
    "    optimizer.zero_grad()\n",
    "    loss.backward(retain_graph=True)\n",
    "    optimizer.step()\n",
    "    scheduler.step()\n",
    "\n",
    "    loss = loss.item()\n",
    "    history.append(loss)\n",
    "\n",
    "    for agent in range(n_agents):\n",
    "        if t % 10 == 0 and models[agent].B < 1e4:\n",
    "            models[agent].B *= 2"
   ]
  },
  {
   "cell_type": "code",
   "execution_count": null,
   "metadata": {},
   "outputs": [],
   "source": [
    "plt.figure(figsize=(9,6))\n",
    "plt.plot(history)\n",
    "plt.title('Revenue Maximization')\n",
    "plt.xlabel('Iterations')\n",
    "plt.ylabel('Loss')\n",
    "plt.show()"
   ]
  },
  {
   "cell_type": "code",
   "execution_count": null,
   "metadata": {},
   "outputs": [],
   "source": [
    "pi_p"
   ]
  },
  {
   "cell_type": "code",
   "execution_count": null,
   "metadata": {},
   "outputs": [],
   "source": [
    "ep_t * 3 + pi_g"
   ]
  },
  {
   "cell_type": "code",
   "execution_count": null,
   "metadata": {},
   "outputs": [],
   "source": [
    "pi_g"
   ]
  },
  {
   "cell_type": "code",
   "execution_count": null,
   "metadata": {},
   "outputs": [],
   "source": [
    "d_star_n[:, 1]"
   ]
  },
  {
   "cell_type": "markdown",
   "metadata": {},
   "source": [
    "> PV demand of all 5 users"
   ]
  },
  {
   "cell_type": "markdown",
   "metadata": {},
   "source": [
    "## Gamma Determination"
   ]
  },
  {
   "cell_type": "code",
   "execution_count": null,
   "metadata": {},
   "outputs": [],
   "source": [
    "ei = [0.00044688, 0.00044796, 0.00045042, 0.00045573, 0.00046029, 0.00046002, 0.00045153, 0.00043737, 0.00042772, 0.00041107, 0.00040774, 0.00038668, 0.00037268, 0.00036565, 0.00036387, 0.00035763, 0.00034319, 0.00034377, 0.00035285, 0.00037902, 0.00039631, 0.00040366, 0.00039713, 0.00039088]\n",
    "ei_t = np.array(ei) * 1e3\n",
    "\n",
    "d = np.ones(24) * 5\n",
    "\n",
    "gamma_true = 10\n",
    "\n",
    "prices = np.ones(shape=(5, 24))\n",
    "prices[source.pv] = prices[source.grid] = 1\n",
    "prices[source.charge] = prices[source.discharge] = prices[source.storage] = np.inf\n",
    "\n",
    "pi_g_true = prices[source.grid].copy()\n",
    "prices[source.grid] += gamma_true * ei_t"
   ]
  },
  {
   "cell_type": "code",
   "execution_count": null,
   "metadata": {},
   "outputs": [],
   "source": [
    "prices[:2]"
   ]
  },
  {
   "cell_type": "code",
   "execution_count": null,
   "metadata": {},
   "outputs": [],
   "source": [
    "r = 0\n",
    "ep = 1e-3\n",
    "\n",
    "d_star, _ = GrU(d, prices)\n",
    "while(not any(d_star[source.pv] == 0)):\n",
    "    r += 1\n",
    "    delta = np.array([(24 * (r-1) + t) for t in range(24)])\n",
    "    prices[source.pv] = pi_g_true + ep * delta * ei_t\n",
    "\n",
    "    d_star, _ = GrU(d, prices)\n",
    "\n",
    "t = np.argwhere(d_star[source.pv] == 0)[0].item()\n",
    "gamma = (24 * (r-1) + t) * ep\n",
    "print(r, t, gamma)"
   ]
  }
 ],
 "metadata": {
  "interpreter": {
   "hash": "31f2aee4e71d21fbe5cf8b01ff0e069b9275f58929596ceb00d14d90e3e16cd6"
  },
  "kernelspec": {
   "display_name": "Python 3.8.10 64-bit",
   "language": "python",
   "name": "python3"
  },
  "language_info": {
   "codemirror_mode": {
    "name": "ipython",
    "version": 3
   },
   "file_extension": ".py",
   "mimetype": "text/x-python",
   "name": "python",
   "nbconvert_exporter": "python",
   "pygments_lexer": "ipython3",
   "version": "3.8.10"
  },
  "orig_nbformat": 4
 },
 "nbformat": 4,
 "nbformat_minor": 2
}
