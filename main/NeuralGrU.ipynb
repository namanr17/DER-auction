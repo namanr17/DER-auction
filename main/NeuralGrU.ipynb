{
 "cells": [
  {
   "cell_type": "code",
   "execution_count": 152,
   "metadata": {},
   "outputs": [
    {
     "name": "stdout",
     "output_type": "stream",
     "text": [
      "The autoreload extension is already loaded. To reload it, use:\n",
      "  %reload_ext autoreload\n"
     ]
    }
   ],
   "source": [
    "%load_ext autoreload\n",
    "%autoreload 2 "
   ]
  },
  {
   "cell_type": "code",
   "execution_count": 153,
   "metadata": {},
   "outputs": [],
   "source": [
    "import torch\n",
    "import torch.nn as nn\n",
    "import torch.nn.functional as F\n",
    "\n",
    "from enum import IntEnum\n",
    "import numpy as np\n",
    "import pandas as pd\n",
    "import matplotlib.pyplot as plt\n",
    "\n",
    "from tqdm import trange\n",
    "from collections import defaultdict\n",
    "\n",
    "from GrU_nn import (gru_module_1, gru_module_2, gru_module_3, gru_module_4, neuralGrU)\n",
    "from GrU import (evaluate, GrU, getBestExporter, getCost)\n",
    "\n",
    "# device = torch.device(\"cuda\" if torch.cuda.is_available() else \"cpu\")\n",
    "device = torch.device(\"cpu\")"
   ]
  },
  {
   "cell_type": "markdown",
   "metadata": {},
   "source": [
    "### Load auction data"
   ]
  },
  {
   "cell_type": "code",
   "execution_count": 154,
   "metadata": {},
   "outputs": [],
   "source": [
    "class clock( IntEnum ):\n",
    "    pv = 0\n",
    "    storage = 1\n",
    "    charge = 2\n",
    "    discharge = 3\n",
    "\n",
    "class source( IntEnum ):\n",
    "    grid =  0\n",
    "    pv = 1\n",
    "    storage = 2\n",
    "    charge = 3\n",
    "    discharge = 4\n",
    "\n",
    "df_auctioneer_data = pd.read_csv('../data/Auctioneer Data.csv')\n",
    "\n",
    "headers = np.load(file='../data/clock_data_columns.npy', allow_pickle=True)\n",
    "df_clock_data = pd.DataFrame(np.load('../data/clock_data_values.npy', allow_pickle=True), columns=headers)\n",
    "\n",
    "def getPriceVectors(round):\n",
    "    '''\n",
    "    Get price vectors for a round from the clock data.\n",
    "\n",
    "    Parameters\n",
    "    ----------\n",
    "    round : int\n",
    "        Round number to get the price vectors for, range = [0, 308]\n",
    "\n",
    "    Returns\n",
    "    -------\n",
    "    prices : ndarray of shape (5, 24)\n",
    "        Price vectors for g, p, s, c, d.\n",
    "    \n",
    "    '''\n",
    "    prices = np.ndarray((5, 24))\n",
    "    prices[0] = df_auctioneer_data.GRID_PRICE.values\n",
    "    for e in clock:\n",
    "        prices[e + 1] = df_clock_data[f'price_{round}'][e]\n",
    "    return prices"
   ]
  },
  {
   "cell_type": "markdown",
   "metadata": {},
   "source": [
    "## Neural GrU"
   ]
  },
  {
   "cell_type": "markdown",
   "metadata": {},
   "source": [
    "### Experiment -> Verify the output of Module-1"
   ]
  },
  {
   "cell_type": "code",
   "execution_count": 165,
   "metadata": {},
   "outputs": [],
   "source": [
    "prices = getPriceVectors(100) * 1e2\n",
    "eta = 1\n",
    "n_agents = 1\n",
    "\n",
    "pi_tilda_gru = []\n",
    "i_t_gru = []\n",
    "\n",
    "for t in range(24):\n",
    "    pi, i = getBestExporter(prices, t, eta, eta)\n",
    "    pi_tilda_gru.append(pi)\n",
    "    i_t_gru.append(i)\n",
    "\n",
    "m1 = gru_module_1(n_agents, device, eta, eta)\n",
    "\n",
    "pi_s = torch.tensor(prices[source.storage]).expand((n_agents, -1))\n",
    "pi_c = torch.tensor(prices[source.charge]).expand((n_agents, -1))\n",
    "pi_g = torch.tensor(prices[source.grid]).expand((n_agents, -1))\n",
    "\n",
    "pi_tilda_nn, i_t_nn = m1(pi_s, pi_c, pi_g, B=1e2)"
   ]
  },
  {
   "cell_type": "code",
   "execution_count": 166,
   "metadata": {},
   "outputs": [
    {
     "data": {
      "text/plain": [
       "[-1, 0, 1, 2, 2, 2, 2, 2, 2, 2, 2, 2, 2, 2, 2, 2, 2, 2, 2, 2, 2, 2, 2, 2]"
      ]
     },
     "execution_count": 166,
     "metadata": {},
     "output_type": "execute_result"
    }
   ],
   "source": [
    "i_t_gru"
   ]
  },
  {
   "cell_type": "code",
   "execution_count": 169,
   "metadata": {},
   "outputs": [
    {
     "data": {
      "text/plain": [
       "torch.Size([1, 24, 24])"
      ]
     },
     "execution_count": 169,
     "metadata": {},
     "output_type": "execute_result"
    }
   ],
   "source": [
    "i_t_nn.shape"
   ]
  },
  {
   "cell_type": "code",
   "execution_count": 170,
   "metadata": {},
   "outputs": [
    {
     "data": {
      "text/plain": [
       "tensor([[0, 0, 1, 2, 2, 2, 2, 2, 2, 2, 2, 2, 2, 2, 2, 2, 2, 2, 2, 2, 2, 2, 2, 2]])"
      ]
     },
     "execution_count": 170,
     "metadata": {},
     "output_type": "execute_result"
    }
   ],
   "source": [
    "torch.argmax(i_t_nn, dim=2)"
   ]
  },
  {
   "cell_type": "code",
   "execution_count": 161,
   "metadata": {},
   "outputs": [
    {
     "data": {
      "text/plain": [
       "array([[-2, -2, -2, -2, -3, -4, -5,  2,  2,  2,  2,  2,  2,  2,  2,  2,\n",
       "         2,  2,  2,  2,  2,  2,  2,  2]])"
      ]
     },
     "execution_count": 161,
     "metadata": {},
     "output_type": "execute_result"
    }
   ],
   "source": [
    "i_t_gru - torch.argmax(i_t_nn, dim=1).numpy()"
   ]
  },
  {
   "cell_type": "code",
   "execution_count": 162,
   "metadata": {},
   "outputs": [
    {
     "data": {
      "text/plain": [
       "tensor([[        nan, -1.2158e-06, -4.4983e-07,  5.6641e-07, -6.5430e-07,\n",
       "          9.4788e-07,  7.1899e-07,  4.1382e-07,  1.0864e-07, -1.9653e-07,\n",
       "         -5.0171e-07, -8.0688e-07,  7.9529e-07,  4.9011e-07,  1.8494e-07,\n",
       "         -1.2024e-07,  4.1382e-07, -1.2024e-07,  4.1382e-07, -1.2024e-07,\n",
       "          7.1899e-07, -4.3945e-08, -8.0688e-07,  3.3752e-07]],\n",
       "       dtype=torch.float64, grad_fn=<SubBackward0>)"
      ]
     },
     "execution_count": 162,
     "metadata": {},
     "output_type": "execute_result"
    }
   ],
   "source": [
    "pi_tilda_nn - torch.tensor(pi_tilda_gru)"
   ]
  },
  {
   "cell_type": "markdown",
   "metadata": {},
   "source": [
    "### Experiment -> Verify the output of Module-1 v2"
   ]
  },
  {
   "cell_type": "code",
   "execution_count": 171,
   "metadata": {},
   "outputs": [],
   "source": [
    "n_agents = 1\n",
    "m2 = gru_module_2(eta, alpha=1e3)"
   ]
  },
  {
   "cell_type": "code",
   "execution_count": 174,
   "metadata": {},
   "outputs": [],
   "source": [
    "pi_d = torch.tensor(prices[source.discharge]).expand((n_agents, -1))\n",
    "pi_p = torch.tensor(prices[source.pv]).expand((n_agents, -1))\n",
    "\n",
    "a_1_t, a_2_t, a_3_t = m2(pi_tilda_nn, pi_d, pi_p, pi_g, B=1e2)"
   ]
  },
  {
   "cell_type": "code",
   "execution_count": 175,
   "metadata": {},
   "outputs": [
    {
     "data": {
      "text/plain": [
       "torch.Size([1, 24, 3])"
      ]
     },
     "execution_count": 175,
     "metadata": {},
     "output_type": "execute_result"
    }
   ],
   "source": [
    "a_1_t.shape"
   ]
  },
  {
   "cell_type": "code",
   "execution_count": 176,
   "metadata": {},
   "outputs": [
    {
     "data": {
      "text/plain": [
       "tensor([[0., 0., 1.],\n",
       "        [0., 0., 1.],\n",
       "        [0., 0., 1.],\n",
       "        [0., 0., 1.],\n",
       "        [0., 0., 1.],\n",
       "        [0., 0., 1.]], dtype=torch.float64, grad_fn=<SliceBackward0>)"
      ]
     },
     "execution_count": 176,
     "metadata": {},
     "output_type": "execute_result"
    }
   ],
   "source": [
    "torch.round(a_1_t[0], decimals=3)[:6]"
   ]
  },
  {
   "cell_type": "code",
   "execution_count": 177,
   "metadata": {},
   "outputs": [
    {
     "data": {
      "text/plain": [
       "tensor([[0., 1., 0.],\n",
       "        [1., 0., 0.],\n",
       "        [1., 0., 0.],\n",
       "        [1., 0., 0.],\n",
       "        [1., 0., 0.],\n",
       "        [1., 0., 0.]], dtype=torch.float64, grad_fn=<SliceBackward0>)"
      ]
     },
     "execution_count": 177,
     "metadata": {},
     "output_type": "execute_result"
    }
   ],
   "source": [
    "torch.round(a_2_t[0], decimals=3)[:6]"
   ]
  },
  {
   "cell_type": "code",
   "execution_count": 178,
   "metadata": {},
   "outputs": [
    {
     "data": {
      "text/plain": [
       "tensor([[0., 0., 1.],\n",
       "        [0., 1., 0.],\n",
       "        [0., 1., 0.],\n",
       "        [0., 1., 0.],\n",
       "        [0., 1., 0.],\n",
       "        [0., 1., 0.]], dtype=torch.float64, grad_fn=<SliceBackward0>)"
      ]
     },
     "execution_count": 178,
     "metadata": {},
     "output_type": "execute_result"
    }
   ],
   "source": [
    "torch.round(a_3_t[0], decimals=3)[:6]"
   ]
  },
  {
   "cell_type": "markdown",
   "metadata": {},
   "source": [
    "### Experiment -> Forward pass of Neural GrU"
   ]
  },
  {
   "cell_type": "code",
   "execution_count": 196,
   "metadata": {},
   "outputs": [],
   "source": [
    "eta = 1\n",
    "B = 1e3\n",
    "alpha = 1e3\n",
    "n_agents = 1\n",
    "ep = np.ones(24)\n",
    "\n",
    "m = neuralGrU(B, n_agents, ep, [0], device, eta, eta)"
   ]
  },
  {
   "cell_type": "code",
   "execution_count": 191,
   "metadata": {},
   "outputs": [],
   "source": [
    "prices = getPriceVectors(300) * 100\n",
    "Caps = np.ones((1, 24, 3)) * 1e2\n",
    "Caps[:, :, 0] = 4  # Discharge cap\n",
    "Caps[:, :, 1] = 3  # PV cap\n",
    "d_total = np.ones((1, 24)) * 5\n",
    "\n",
    "# C_t = torch.tensor(Caps)\n",
    "pi = torch.tensor(prices)\n",
    "d_t = torch.tensor(d_total)\n",
    "\n",
    "d_break, _ = GrU(d_total[0], prices, eta_c=eta, eta_d=eta)\n",
    "d_break_nGrU = m(pi[0].expand((1, -1)), pi[1].expand((1, -1)), pi[2].expand((1, -1)), pi[3].expand((1, -1)), pi[4].expand((1, -1)), d_t, ).detach().numpy()"
   ]
  },
  {
   "cell_type": "code",
   "execution_count": 192,
   "metadata": {},
   "outputs": [
    {
     "data": {
      "text/plain": [
       "array([[[ 5.,  5.,  5.,  5.,  5.,  5.,  5., 20.,  0.,  0.,  0.,  0.,\n",
       "          5.,  5.,  5.,  5.,  5., 35.,  0.,  0.,  0.,  0.,  0.,  0.],\n",
       "        [ 0.,  0.,  0.,  0.,  0.,  0.,  0.,  0.,  0.,  0.,  0.,  5.,\n",
       "          0.,  0.,  0.,  0.,  0.,  0.,  0.,  0.,  0.,  0.,  0.,  0.],\n",
       "        [ 0.,  0.,  0.,  0.,  0.,  0.,  0., 15., 10.,  5.,  0.,  0.,\n",
       "          0.,  0.,  0.,  0.,  0., 30., 25., 20., 15., 10.,  5.,  0.],\n",
       "        [ 0.,  0.,  0.,  0.,  0.,  0.,  0., 15.,  0.,  0.,  0.,  0.,\n",
       "          0.,  0.,  0.,  0.,  0., 30.,  0.,  0.,  0.,  0.,  0.,  0.],\n",
       "        [ 0.,  0.,  0.,  0.,  0.,  0.,  0.,  0.,  5.,  5.,  5.,  0.,\n",
       "          0.,  0.,  0.,  0.,  0.,  0.,  5.,  5.,  5.,  5.,  5.,  5.]]])"
      ]
     },
     "execution_count": 192,
     "metadata": {},
     "output_type": "execute_result"
    }
   ],
   "source": [
    "d_break_nGrU.round(1)"
   ]
  },
  {
   "cell_type": "code",
   "execution_count": 193,
   "metadata": {},
   "outputs": [
    {
     "data": {
      "text/plain": [
       "array([0., 0., 0., 0., 0.])"
      ]
     },
     "execution_count": 193,
     "metadata": {},
     "output_type": "execute_result"
    }
   ],
   "source": [
    "np.round(evaluate(d_break, d_break_nGrU[0])[0], decimals=3)"
   ]
  },
  {
   "cell_type": "code",
   "execution_count": 194,
   "metadata": {},
   "outputs": [
    {
     "data": {
      "text/plain": [
       "array([[ 5.,  5.,  5.,  5.,  5.,  5.,  5., 20.,  0.,  0.,  0.,  0.,  5.,\n",
       "         5.,  5.,  5.,  5., 35.,  0.,  0.,  0.,  0.,  0.,  0.],\n",
       "       [ 0.,  0.,  0.,  0.,  0.,  0.,  0.,  0.,  0.,  0.,  0.,  5.,  0.,\n",
       "         0.,  0.,  0.,  0.,  0.,  0.,  0.,  0.,  0.,  0.,  0.],\n",
       "       [ 0.,  0.,  0.,  0.,  0.,  0.,  0., 15., 10.,  5.,  0.,  0.,  0.,\n",
       "         0.,  0.,  0.,  0., 30., 25., 20., 15., 10.,  5.,  0.],\n",
       "       [ 0.,  0.,  0.,  0.,  0.,  0.,  0., 15.,  0.,  0.,  0.,  0.,  0.,\n",
       "         0.,  0.,  0.,  0., 30.,  0.,  0.,  0.,  0.,  0.,  0.],\n",
       "       [ 0.,  0.,  0.,  0.,  0.,  0.,  0.,  0.,  5.,  5.,  5.,  0.,  0.,\n",
       "         0.,  0.,  0.,  0.,  0.,  5.,  5.,  5.,  5.,  5.,  5.]])"
      ]
     },
     "execution_count": 194,
     "metadata": {},
     "output_type": "execute_result"
    }
   ],
   "source": [
    "d_break.round(2)"
   ]
  },
  {
   "cell_type": "markdown",
   "metadata": {},
   "source": [
    "### Experiment -> Verify the output(s) of Neural GrU Modules with toy example"
   ]
  },
  {
   "cell_type": "markdown",
   "metadata": {},
   "source": [
    "> Outdated code; needs to be updated."
   ]
  },
  {
   "cell_type": "code",
   "execution_count": 15,
   "metadata": {},
   "outputs": [],
   "source": [
    "B = 1e3\n",
    "eta = 1\n",
    "\n",
    "m1 = gru_module_1(device, eta, eta)\n",
    "m2 = gru_module_2(eta)\n",
    "m3 = gru_module_3()\n",
    "m4 = gru_module_4(eta, eta)\n",
    "\n",
    "pi_g = torch.tensor([2, 4, 8, 1] + [1] * 20, dtype=float)\n",
    "pi_p = torch.tensor([1, 2, 4, 2] + [2] * 20, dtype=float)\n",
    "pi_c = torch.ones(24, dtype=float)\n",
    "pi_d = torch.ones(24, dtype=float)\n",
    "pi_s = torch.ones(24, dtype=float)\n",
    "\n",
    "d_t = torch.ones(24)\n",
    "\n",
    "pi_tilda_c_t, i_t = m1(pi_s, pi_c, pi_g, B)\n",
    "a_t = m2(pi_tilda_c_t, pi_d, pi_p, pi_g, B)\n",
    "i_tilda_t = m3(i_t)\n",
    "d_star = m4(d_t, i_t, a_t, i_tilda_t)"
   ]
  },
  {
   "cell_type": "code",
   "execution_count": 16,
   "metadata": {},
   "outputs": [
    {
     "name": "stdout",
     "output_type": "stream",
     "text": [
      "grid prices = tensor([2., 4., 8., 1., 1.], dtype=torch.float64)\n",
      "pv prices = tensor([1., 2., 4., 2., 2.], dtype=torch.float64)\n",
      "storage prices = tensor([1., 1., 1., 1., 1.], dtype=torch.float64)\n",
      "charging prices = tensor([1., 1., 1., 1., 1.], dtype=torch.float64)\n",
      "discharging prices = tensor([1., 1., 1., 1., 1.], dtype=torch.float64)\n"
     ]
    }
   ],
   "source": [
    "print('grid prices =',pi_g[:5])\n",
    "print('pv prices =',pi_p[:5])\n",
    "print('storage prices =',pi_s[:5])\n",
    "print('charging prices =',pi_c[:5])\n",
    "print('discharging prices =',pi_d[:5])"
   ]
  },
  {
   "cell_type": "markdown",
   "metadata": {},
   "source": [
    "> Output of Module-1: Price of importing power from cheapest time slot"
   ]
  },
  {
   "cell_type": "code",
   "execution_count": 17,
   "metadata": {},
   "outputs": [
    {
     "data": {
      "text/plain": [
       "tensor([inf, 4., 5., 6., 3., 3.], grad_fn=<SliceBackward0>)"
      ]
     },
     "execution_count": 17,
     "metadata": {},
     "output_type": "execute_result"
    }
   ],
   "source": [
    "pi_tilda_c_t[:6]"
   ]
  },
  {
   "cell_type": "code",
   "execution_count": 18,
   "metadata": {},
   "outputs": [
    {
     "data": {
      "text/plain": [
       "tensor([0, 0, 0, 0, 3, 4])"
      ]
     },
     "execution_count": 18,
     "metadata": {},
     "output_type": "execute_result"
    }
   ],
   "source": [
    "torch.argmax(i_t[:6], dim=1)"
   ]
  },
  {
   "cell_type": "markdown",
   "metadata": {},
   "source": [
    "> Output of Module-2: Cheapest source b/w discharge(incuding import from cheapest time slot), pv & grid"
   ]
  },
  {
   "cell_type": "code",
   "execution_count": 19,
   "metadata": {},
   "outputs": [
    {
     "data": {
      "text/plain": [
       "tensor([[0., 1., 0.],\n",
       "        [0., 1., 0.],\n",
       "        [0., 1., 0.],\n",
       "        [0., 0., 1.],\n",
       "        [0., 0., 1.],\n",
       "        [0., 0., 1.]], dtype=torch.float64, grad_fn=<SliceBackward0>)"
      ]
     },
     "execution_count": 19,
     "metadata": {},
     "output_type": "execute_result"
    }
   ],
   "source": [
    "a_t[:6]"
   ]
  },
  {
   "cell_type": "markdown",
   "metadata": {},
   "source": [
    "> Output of Module-3: Time slots (one hot vector) to store the charge to be discharged at time slot t"
   ]
  },
  {
   "cell_type": "code",
   "execution_count": 20,
   "metadata": {},
   "outputs": [
    {
     "data": {
      "text/plain": [
       "tensor([[0., 0., 0., 0., 0., 0., 0., 0., 0., 0., 0., 0., 0., 0., 0., 0., 0., 0.,\n",
       "         0., 0., 0., 0., 0., 0.],\n",
       "        [1., 0., 0., 0., 0., 0., 0., 0., 0., 0., 0., 0., 0., 0., 0., 0., 0., 0.,\n",
       "         0., 0., 0., 0., 0., 0.],\n",
       "        [1., 1., 0., 0., 0., 0., 0., 0., 0., 0., 0., 0., 0., 0., 0., 0., 0., 0.,\n",
       "         0., 0., 0., 0., 0., 0.],\n",
       "        [1., 1., 1., 0., 0., 0., 0., 0., 0., 0., 0., 0., 0., 0., 0., 0., 0., 0.,\n",
       "         0., 0., 0., 0., 0., 0.],\n",
       "        [0., 0., 0., 1., 0., 0., 0., 0., 0., 0., 0., 0., 0., 0., 0., 0., 0., 0.,\n",
       "         0., 0., 0., 0., 0., 0.],\n",
       "        [0., 0., 0., 0., 1., 0., 0., 0., 0., 0., 0., 0., 0., 0., 0., 0., 0., 0.,\n",
       "         0., 0., 0., 0., 0., 0.]], grad_fn=<SliceBackward0>)"
      ]
     },
     "execution_count": 20,
     "metadata": {},
     "output_type": "execute_result"
    }
   ],
   "source": [
    "i_tilda_t[:6]"
   ]
  },
  {
   "cell_type": "markdown",
   "metadata": {},
   "source": [
    "> Output of Module-4"
   ]
  },
  {
   "cell_type": "code",
   "execution_count": 21,
   "metadata": {},
   "outputs": [
    {
     "data": {
      "text/plain": [
       "tensor([[0., 0., 0., 1., 1., 1.],\n",
       "        [1., 1., 1., 0., 0., 0.],\n",
       "        [0., 0., 0., 0., 0., 0.],\n",
       "        [0., 0., 0., 0., 0., 0.],\n",
       "        [0., 0., 0., 0., 0., 0.]], dtype=torch.float64,\n",
       "       grad_fn=<SliceBackward0>)"
      ]
     },
     "execution_count": 21,
     "metadata": {},
     "output_type": "execute_result"
    }
   ],
   "source": [
    "d_star[:, :6]"
   ]
  }
 ],
 "metadata": {
  "interpreter": {
   "hash": "31f2aee4e71d21fbe5cf8b01ff0e069b9275f58929596ceb00d14d90e3e16cd6"
  },
  "kernelspec": {
   "display_name": "Python 3.8.10 64-bit",
   "language": "python",
   "name": "python3"
  },
  "language_info": {
   "codemirror_mode": {
    "name": "ipython",
    "version": 3
   },
   "file_extension": ".py",
   "mimetype": "text/x-python",
   "name": "python",
   "nbconvert_exporter": "python",
   "pygments_lexer": "ipython3",
   "version": "3.10.6"
  },
  "orig_nbformat": 4
 },
 "nbformat": 4,
 "nbformat_minor": 2
}
