{
 "cells": [
  {
   "cell_type": "code",
   "execution_count": 470,
   "metadata": {},
   "outputs": [
    {
     "name": "stdout",
     "output_type": "stream",
     "text": [
      "The autoreload extension is already loaded. To reload it, use:\n",
      "  %reload_ext autoreload\n"
     ]
    }
   ],
   "source": [
    "%load_ext autoreload\n",
    "%autoreload 2 "
   ]
  },
  {
   "cell_type": "code",
   "execution_count": 471,
   "metadata": {},
   "outputs": [],
   "source": [
    "import torch\n",
    "import torch.nn as nn\n",
    "import torch.nn.functional as F\n",
    "\n",
    "from enum import IntEnum\n",
    "import numpy as np\n",
    "import pandas as pd\n",
    "import matplotlib.pyplot as plt\n",
    "\n",
    "from tqdm import trange\n",
    "from collections import defaultdict\n",
    "\n",
    "from GrU_nn import (gru_module_1, gru_module_2, gru_module_3, gru_module_4, neuralGrU)\n",
    "from GrU import (evaluate, GrU, getBestExporter, getCost)\n",
    "\n",
    "# device = torch.device(\"cuda\" if torch.cuda.is_available() else \"cpu\")\n",
    "device = torch.device(\"cpu\")"
   ]
  },
  {
   "cell_type": "markdown",
   "metadata": {},
   "source": [
    "### Load auction data"
   ]
  },
  {
   "cell_type": "code",
   "execution_count": 472,
   "metadata": {},
   "outputs": [],
   "source": [
    "class clock( IntEnum ):\n",
    "    pv = 0\n",
    "    storage = 1\n",
    "    charge = 2\n",
    "    discharge = 3\n",
    "\n",
    "class source( IntEnum ):\n",
    "    grid =  0\n",
    "    pv = 1\n",
    "    storage = 2\n",
    "    charge = 3\n",
    "    discharge = 4\n",
    "\n",
    "df_auctioneer_data = pd.read_csv('../data/Auctioneer Data.csv')\n",
    "\n",
    "headers = np.load(file='../data/clock_data_columns.npy', allow_pickle=True)\n",
    "df_clock_data = pd.DataFrame(np.load('../data/clock_data_values.npy', allow_pickle=True), columns=headers)\n",
    "\n",
    "def getPriceVectors(round):\n",
    "    '''\n",
    "    Get price vectors for a round from the clock data.\n",
    "\n",
    "    Parameters\n",
    "    ----------\n",
    "    round : int\n",
    "        Round number to get the price vectors for, range = [0, 308]\n",
    "\n",
    "    Returns\n",
    "    -------\n",
    "    prices : ndarray of shape (5, 24)\n",
    "        Price vectors for g, p, s, c, d.\n",
    "    \n",
    "    '''\n",
    "    prices = np.ndarray((5, 24))\n",
    "    prices[0] = df_auctioneer_data.GRID_PRICE.values\n",
    "    for e in clock:\n",
    "        prices[e + 1] = df_clock_data[f'price_{round}'][e]\n",
    "    return prices"
   ]
  },
  {
   "cell_type": "markdown",
   "metadata": {},
   "source": [
    "## Revenue Maximisation"
   ]
  },
  {
   "cell_type": "code",
   "execution_count": 473,
   "metadata": {},
   "outputs": [],
   "source": [
    "def total_loss(pi_g, pi_p, pi_s, pi_c, pi_d, d_star):\n",
    "    '''\n",
    "    Loss = -revenue\n",
    "    '''\n",
    "    # r_g = pi_g * d_star[source.grid]\n",
    "    r_p = pi_p * d_star[source.pv]\n",
    "    r_s = pi_s * d_star[source.storage]\n",
    "    r_c = pi_c * d_star[source.charge]\n",
    "    r_d = pi_d * d_star[source.discharge]\n",
    "\n",
    "    r_t = r_p + r_s + r_c + r_d\n",
    "    rev = torch.sum(r_t)\n",
    "\n",
    "    return -rev"
   ]
  },
  {
   "cell_type": "code",
   "execution_count": 639,
   "metadata": {},
   "outputs": [],
   "source": [
    "# Init model\n",
    "eta = 1\n",
    "scaler = 1\n",
    "ep = np.ones(24)\n",
    "\n",
    "model = neuralGrU(B=64, n_agents=1, ep=ep, gamma=[0], eta_c=eta, eta_d=eta, alpha=1e3).to(device)"
   ]
  },
  {
   "cell_type": "markdown",
   "metadata": {},
   "source": [
    "#### Input Data"
   ]
  },
  {
   "cell_type": "code",
   "execution_count": 640,
   "metadata": {},
   "outputs": [],
   "source": [
    "# # Price vectors sampled from Normal Distribution(mu=0, sigma=1)\n",
    "# prices = np.abs(np.random.normal(loc=0, scale=1, size=(5, 24))) * scaler"
   ]
  },
  {
   "cell_type": "markdown",
   "metadata": {},
   "source": [
    "> Hyperparameters: lr = 0.125, gamma = 0.94, B = 5, scaler = 1, Curriculum Learning & ExponentialLR Scheduler"
   ]
  },
  {
   "cell_type": "code",
   "execution_count": 641,
   "metadata": {},
   "outputs": [],
   "source": [
    "# Price vectors sampled from Uniform Distribution [0, 1)\n",
    "prices = np.random.random(size=(5, 24)) * scaler"
   ]
  },
  {
   "cell_type": "markdown",
   "metadata": {},
   "source": [
    "> Hyperparameters: lr = 0.1, gamma = 0.94, B = 5, scaler = 1, Curriculum Learning & ExponentialLR Scheduler"
   ]
  },
  {
   "cell_type": "code",
   "execution_count": 642,
   "metadata": {},
   "outputs": [],
   "source": [
    "# # Price vectors from Auction Data\n",
    "# prices = getPriceVectors(300) * scaler"
   ]
  },
  {
   "cell_type": "markdown",
   "metadata": {},
   "source": [
    "> Hyperparameters: lr = 1, gamma = 0.92, B = 1, scaler = 1 Curriculum Learning & ExponentialLR Scheduler"
   ]
  },
  {
   "cell_type": "code",
   "execution_count": 643,
   "metadata": {},
   "outputs": [],
   "source": [
    "# Total demand tensor (Unit)\n",
    "d_t = torch.ones((1, 24), requires_grad=False, device=device) * 5\n",
    "# d_t = torch.ones(24, requires_grad=False, device=device)\n",
    "\n",
    "# Cap tensor\n",
    "C_p = torch.ones((1, 24), requires_grad=False) * 4\n",
    "# C_d = torch.ones((1, 24), requires_grad=False) * 4\n",
    "\n",
    "# Price tensors\n",
    "pi_g = torch.tensor(prices[source.grid], requires_grad=False, device=device)\n",
    "\n",
    "pi_p = torch.tensor(prices[source.pv],  requires_grad=True, device=device)\n",
    "pi_c = torch.tensor(prices[source.charge], requires_grad=True, device=device)\n",
    "pi_d = torch.tensor(prices[source.discharge], requires_grad=True, device=device)\n",
    "pi_s = torch.tensor(prices[source.storage], requires_grad=True, device=device)"
   ]
  },
  {
   "cell_type": "markdown",
   "metadata": {},
   "source": [
    "#### Optimisation schedule"
   ]
  },
  {
   "cell_type": "code",
   "execution_count": null,
   "metadata": {},
   "outputs": [],
   "source": [
    "# Hyperparameter(s)\n",
    "learning_rate = 0.0075\n",
    "epochs = 500\n",
    "\n",
    "history = []\n",
    "best_loss = 0\n",
    "\n",
    "# Init optimizer & scheduler\n",
    "optimizer = torch.optim.Adam([pi_p, pi_s, pi_c, pi_d], lr=learning_rate)\n",
    "scheduler = torch.optim.lr_scheduler.ExponentialLR(optimizer, gamma=0.98)\n",
    "\n",
    "for t in trange(epochs):\n",
    "    # Compute prediction and loss\n",
    "    d_star = model(pi_g, pi_p, pi_s, pi_c, pi_d, d_t, C_p)\n",
    "    loss = total_loss(pi_g, pi_p, pi_s, pi_c, pi_d, d_star.squeeze())\n",
    "\n",
    "    # Backpropagation\n",
    "    optimizer.zero_grad()\n",
    "    loss.backward()\n",
    "\n",
    "    # Optimisation\n",
    "    optimizer.step()\n",
    "    scheduler.step()\n",
    "\n",
    "    loss = loss.item()\n",
    "    history.append(loss / scaler)\n",
    "\n",
    "    if loss < best_loss:\n",
    "        pi_optimal, best_loss = [], loss\n",
    "        for pi in pi_p, pi_s, pi_c, pi_d:\n",
    "            pi_optimal.append(pi.clone().detach())\n",
    "\n",
    "    # Curriculum Learning\n",
    "    if t % 10 == 0 and model.B < 1e4:\n",
    "        model.B *= 2\n",
    "\n",
    "    # if t % 100 == 0:\n",
    "    #     print(f\"Epoch {t+1}     loss: {loss:>7f}\")"
   ]
  },
  {
   "cell_type": "code",
   "execution_count": 601,
   "metadata": {},
   "outputs": [
    {
     "data": {
      "image/png": "[encoded data removed]",
      "text/plain": [
       "<Figure size 900x600 with 1 Axes>"
      ]
     },
     "metadata": {},
     "output_type": "display_data"
    }
   ],
   "source": [
    "plt.figure(figsize=(9,6))\n",
    "plt.plot(history, label='loss')\n",
    "plt.title('Revenue Maximization')\n",
    "plt.xlabel('Iterations')\n",
    "plt.ylabel('Loss')\n",
    "plt.show()"
   ]
  },
  {
   "cell_type": "code",
   "execution_count": 602,
   "metadata": {},
   "outputs": [
    {
     "data": {
      "text/plain": [
       "(-21.50415185975394, -21.50415185975394)"
      ]
     },
     "execution_count": 602,
     "metadata": {},
     "output_type": "execute_result"
    }
   ],
   "source": [
    "best_loss, loss"
   ]
  },
  {
   "cell_type": "code",
   "execution_count": 566,
   "metadata": {},
   "outputs": [
    {
     "data": {
      "text/plain": [
       "[tensor([0.9363, 0.4613, 0.3750, 0.7708, 0.4697, 0.4501, 0.3337, 0.9813, 0.7533,\n",
       "         0.9588, 0.6983, 0.7986, 0.7071, 0.6883, 0.4358, 0.2390, 0.7296, 0.7033,\n",
       "         0.7663, 0.9332, 0.4057, 0.8155, 0.1097, 0.7467], dtype=torch.float64),\n",
       " tensor([3.1653e-01, 5.4161e-01, 5.3746e-01, 3.9659e-01, 3.1644e-01, 7.7085e-04,\n",
       "         8.7985e-01, 6.4841e-01, 2.6490e-01, 4.7361e-01, 7.3113e-01, 7.6855e-02,\n",
       "         1.6971e-01, 5.9411e-01, 8.9218e-01, 6.5400e-01, 8.8680e-01, 1.2364e-01,\n",
       "         6.0088e-01, 3.5673e-02, 2.7365e-01, 5.2129e-01, 3.8024e-01, 8.7176e-01],\n",
       "        dtype=torch.float64),\n",
       " tensor([0.5264, 0.1014, 0.8595, 0.3664, 0.9816, 0.9985, 0.0610, 0.9407, 0.2141,\n",
       "         0.5294, 0.4727, 0.6075, 0.0356, 0.9216, 0.5652, 0.4809, 0.9372, 0.2600,\n",
       "         0.2807, 0.9693, 0.8226, 0.4648, 0.2323, 0.9134], dtype=torch.float64),\n",
       " tensor([0.3443, 0.5949, 0.1881, 0.9733, 0.0678, 0.9060, 0.4355, 0.8010, 0.0244,\n",
       "         0.5526, 0.6724, 0.0386, 0.2510, 0.7083, 0.2083, 0.1172, 0.1127, 0.8820,\n",
       "         0.2089, 0.1201, 0.7097, 0.2697, 0.8961, 0.4017], dtype=torch.float64)]"
      ]
     },
     "execution_count": 566,
     "metadata": {},
     "output_type": "execute_result"
    }
   ],
   "source": [
    "pi_optimal"
   ]
  },
  {
   "cell_type": "code",
   "execution_count": 603,
   "metadata": {},
   "outputs": [
    {
     "data": {
      "text/plain": [
       "tensor([-0.2700,  0.4200, -0.1700, -0.7400,  0.3200, -0.1000,  0.4100, -0.3800,\n",
       "        -0.5700,  0.0100, -0.0500, -0.2200,  0.0100,  0.0000, -0.1500, -0.0100,\n",
       "        -0.5400,  0.1000, -0.0300, -0.8000,  0.4000, -0.1600, -0.0500, -0.5800],\n",
       "       dtype=torch.float64, grad_fn=<RoundBackward1>)"
      ]
     },
     "execution_count": 603,
     "metadata": {},
     "output_type": "execute_result"
    }
   ],
   "source": [
    "torch.round(pi_g - pi_p, decimals=2)"
   ]
  },
  {
   "cell_type": "code",
   "execution_count": 567,
   "metadata": {},
   "outputs": [
    {
     "data": {
      "text/plain": [
       "tensor([-0.2700,  0.5200, -0.1400, -0.7400,  0.4200, -0.0600,  0.5100, -0.3800,\n",
       "        -0.5700,  0.0100, -0.0000, -0.2200,  0.0600,  0.1000, -0.1100,  0.0000,\n",
       "        -0.5400,  0.2000,  0.0100, -0.8000,  0.5000, -0.1100,  0.0100, -0.5800],\n",
       "       dtype=torch.float64)"
      ]
     },
     "execution_count": 567,
     "metadata": {},
     "output_type": "execute_result"
    }
   ],
   "source": [
    "torch.round(pi_g - pi_optimal[0], decimals=2)"
   ]
  },
  {
   "cell_type": "code",
   "execution_count": 604,
   "metadata": {},
   "outputs": [
    {
     "data": {
      "text/plain": [
       "tensor([[[5., 1., 5., 5., 1., 5., 1., 5., 5., 1., 5., 5., 1., 1., 5., 5., 5.,\n",
       "          1., 5., 5., 1., 5., 5., 5.],\n",
       "         [0., 4., 0., 0., 4., 0., 4., 0., 0., 4., 0., 0., 4., 4., 0., 0., 0.,\n",
       "          4., 0., 0., 4., 0., 0., 0.],\n",
       "         [0., 0., 0., 0., 0., 0., 0., 0., 0., 0., 0., 0., 0., 0., 0., 0., 0.,\n",
       "          0., 0., 0., 0., 0., 0., 0.],\n",
       "         [0., 0., 0., 0., 0., 0., 0., 0., 0., 0., 0., 0., 0., 0., 0., 0., 0.,\n",
       "          0., 0., 0., 0., 0., 0., 0.],\n",
       "         [0., 0., 0., 0., 0., 0., 0., 0., 0., 0., 0., 0., 0., 0., 0., 0., 0.,\n",
       "          0., 0., 0., 0., 0., 0., 0.]]], dtype=torch.float64,\n",
       "       grad_fn=<RoundBackward1>)"
      ]
     },
     "execution_count": 604,
     "metadata": {},
     "output_type": "execute_result"
    }
   ],
   "source": [
    "torch.round(d_star, decimals=2)"
   ]
  },
  {
   "cell_type": "code",
   "execution_count": 555,
   "metadata": {},
   "outputs": [
    {
     "data": {
      "text/plain": [
       "tensor([[[5., 1., 5., 1., 5., 1., 5., 5., 5., 5., 1., 1., 5., 1., 5., 1., 5.,\n",
       "          5., 5., 5., 1., 1., 5., 5.],\n",
       "         [0., 4., 0., 4., 0., 4., 0., 0., 0., 0., 4., 4., 0., 4., 0., 4., 0.,\n",
       "          0., 0., 0., 4., 4., 0., 0.],\n",
       "         [0., 0., 0., 0., 0., 0., 0., 0., 0., 0., 0., 0., 0., 0., 0., 0., 0.,\n",
       "          0., 0., 0., 0., 0., 0., 0.],\n",
       "         [0., 0., 0., 0., 0., 0., 0., 0., 0., 0., 0., 0., 0., 0., 0., 0., 0.,\n",
       "          0., 0., 0., 0., 0., 0., 0.],\n",
       "         [0., 0., 0., 0., 0., 0., 0., 0., 0., 0., 0., 0., 0., 0., 0., 0., 0.,\n",
       "          0., 0., 0., 0., 0., 0., 0.]]], dtype=torch.float64,\n",
       "       grad_fn=<RoundBackward1>)"
      ]
     },
     "execution_count": 555,
     "metadata": {},
     "output_type": "execute_result"
    }
   ],
   "source": [
    "pi_p, pi_s, pi_c, pi_d = pi_optimal\n",
    "model(pi_g, pi_p, pi_s, pi_c, pi_d, d_t, C_p).round(decimals=3)"
   ]
  },
  {
   "cell_type": "markdown",
   "metadata": {},
   "source": [
    "#### Demand breakup on optimised prices"
   ]
  },
  {
   "cell_type": "code",
   "execution_count": 336,
   "metadata": {},
   "outputs": [],
   "source": [
    "pi = torch.stack([pi_g, pi_p, pi_s, pi_c, pi_d]).detach().numpy()"
   ]
  },
  {
   "cell_type": "code",
   "execution_count": 337,
   "metadata": {},
   "outputs": [],
   "source": [
    "d_break_nn = model(pi_g, pi_p, pi_s, pi_c, pi_d, d_t).detach().numpy()\n",
    "d_break, _ = GrU(d_t, pi, eta_c=eta, eta_d=eta)"
   ]
  },
  {
   "cell_type": "code",
   "execution_count": 338,
   "metadata": {},
   "outputs": [
    {
     "data": {
      "text/plain": [
       "[1.0186518295540736e-11, 1.0186483285313914e-11, 0.0, 0.0, 0.0]"
      ]
     },
     "execution_count": 338,
     "metadata": {},
     "output_type": "execute_result"
    }
   ],
   "source": [
    "evaluate(d_break, d_break_nn)[0]"
   ]
  },
  {
   "cell_type": "code",
   "execution_count": 339,
   "metadata": {},
   "outputs": [
    {
     "data": {
      "text/plain": [
       "array([[10.,  0., 10., 10., 10., 10.,  0.,  0., 10., 10., 10., 10., 10.,\n",
       "         0., 10.,  0., 10.,  0., 10.,  0.,  0.,  0.,  0., 10.],\n",
       "       [ 0., 10.,  0.,  0.,  0.,  0., 10., 10.,  0.,  0.,  0.,  0.,  0.,\n",
       "        10.,  0., 10.,  0., 10.,  0., 10., 10., 10., 10.,  0.],\n",
       "       [ 0.,  0.,  0.,  0.,  0.,  0.,  0.,  0.,  0.,  0.,  0.,  0.,  0.,\n",
       "         0.,  0.,  0.,  0.,  0.,  0.,  0.,  0.,  0.,  0.,  0.],\n",
       "       [ 0.,  0.,  0.,  0.,  0.,  0.,  0.,  0.,  0.,  0.,  0.,  0.,  0.,\n",
       "         0.,  0.,  0.,  0.,  0.,  0.,  0.,  0.,  0.,  0.,  0.],\n",
       "       [ 0.,  0.,  0.,  0.,  0.,  0.,  0.,  0.,  0.,  0.,  0.,  0.,  0.,\n",
       "         0.,  0.,  0.,  0.,  0.,  0.,  0.,  0.,  0.,  0.,  0.]])"
      ]
     },
     "execution_count": 339,
     "metadata": {},
     "output_type": "execute_result"
    }
   ],
   "source": [
    "d_break"
   ]
  },
  {
   "cell_type": "markdown",
   "metadata": {},
   "source": [
    "## Multi-agent Revenue Maximization"
   ]
  },
  {
   "cell_type": "code",
   "execution_count": 660,
   "metadata": {},
   "outputs": [],
   "source": [
    "def total_loss(pi_g, pi_p, pi_s, pi_c, pi_d, d_star):\n",
    "    '''\n",
    "    Loss = -revenue\n",
    "    '''\n",
    "    # r_g = pi_g * d_star[source.grid]\n",
    "    r_p = pi_p * d_star[source.pv]\n",
    "    r_s = pi_s * d_star[source.storage]\n",
    "    r_c = pi_c * d_star[source.charge]\n",
    "    r_d = pi_d * d_star[source.discharge]\n",
    "\n",
    "    r_t = r_p + r_s + r_c + r_d\n",
    "    rev = torch.sum(r_t)\n",
    "\n",
    "    return -rev\n",
    "\n",
    "\n",
    "def barrier_loss(C_g, C, epsilon):\n",
    "    '''\n",
    "    Barrier function with barrier at C_g & sensitivity epsilon\n",
    "    '''\n",
    "    b = F.relu(-torch.log((C_g - C)/epsilon))\n",
    "\n",
    "    return torch.sum(b)"
   ]
  },
  {
   "cell_type": "code",
   "execution_count": 661,
   "metadata": {},
   "outputs": [],
   "source": [
    "eta = 1\n",
    "n_agents = 5\n",
    "gamma = [1, 2, 3, 4, 5]\n",
    "\n",
    "# EI values\n",
    "ep = [0.00044688, 0.00044796, 0.00045042, 0.00045573, 0.00046029, 0.00046002, 0.00045153, 0.00043737, 0.00042772, 0.00041107, 0.00040774, 0.00038668, 0.00037268, 0.00036565, 0.00036387, 0.00035763, 0.00034319, 0.00034377, 0.00035285, 0.00037902, 0.00039631, 0.00040366, 0.00039713, 0.00039088]\n",
    "ep_t = np.array(ep) * 1e3\n",
    "\n",
    "model = neuralGrU(\n",
    "    B=64,\n",
    "    n_agents=n_agents,\n",
    "    ep=ep_t,\n",
    "    gamma=gamma,\n",
    "    device=device,\n",
    "    eta_c=eta,\n",
    "    eta_d=eta,\n",
    "    alpha=1e3\n",
    ")"
   ]
  },
  {
   "cell_type": "code",
   "execution_count": 681,
   "metadata": {},
   "outputs": [],
   "source": [
    "prices = np.random.random((5, 24))\n",
    "\n",
    "# Total demand tensor\n",
    "d_t_n = torch.ones((n_agents, 24), requires_grad=False, device=device) * 2\n",
    "\n",
    "# Global constraint\n",
    "C_global = torch.ones(24, requires_grad=False, device=device) * 8\n",
    "\n",
    "# Price tensors\n",
    "pi_g = torch.tensor(prices[source.grid], requires_grad=False, device=device)\n",
    "\n",
    "pi_p = torch.tensor(prices[source.pv], requires_grad=True, device=device)\n",
    "pi_c = torch.tensor(prices[source.charge], requires_grad=True, device=device)\n",
    "pi_d = torch.tensor(prices[source.discharge], requires_grad=True, device=device)\n",
    "pi_s = torch.tensor(prices[source.storage], requires_grad=True, device=device)\n",
    "\n",
    "# Local constraints\n",
    "C_t_n = torch.ones(size=(n_agents, 24), requires_grad=True, device=device)"
   ]
  },
  {
   "cell_type": "code",
   "execution_count": 682,
   "metadata": {},
   "outputs": [
    {
     "name": "stderr",
     "output_type": "stream",
     "text": [
      "100%|██████████| 500/500 [00:04<00:00, 113.87it/s]\n"
     ]
    }
   ],
   "source": [
    "# Hyperparameter(s)\n",
    "learning_rate = 0.01\n",
    "epochs = 500\n",
    "epsilon = 0.25\n",
    "nan = 1e3\n",
    "\n",
    "history = []\n",
    "\n",
    "optimizer = torch.optim.Adam([pi_p, pi_s, pi_c, pi_d, C_t_n], lr=learning_rate)\n",
    "scheduler = torch.optim.lr_scheduler.ExponentialLR(optimizer, gamma=0.98)\n",
    "\n",
    "for t in trange(epochs):\n",
    "    d_star_n = model(pi_g, pi_p, pi_s, pi_c, pi_d, d_t_n, C_t_n)\n",
    "    d_total = torch.sum(d_star_n, dim=0)\n",
    "    C_total = torch.sum(C_t_n, dim=0)\n",
    "\n",
    "    loss = total_loss(pi_g, pi_p, pi_s, pi_c, pi_d, d_total) + barrier_loss(C_global, C_total, epsilon)\n",
    "\n",
    "    # Backpropagation\n",
    "    optimizer.zero_grad()\n",
    "    loss.backward()\n",
    "\n",
    "    # Optimisation\n",
    "    optimizer.step()\n",
    "    scheduler.step()\n",
    "\n",
    "    loss = loss.item()\n",
    "    history.append(loss)\n",
    "\n",
    "    # Curriculum Learning\n",
    "    if t % 10 == 0 and model.B < 1e4:\n",
    "        model.B *= 2"
   ]
  },
  {
   "cell_type": "code",
   "execution_count": 683,
   "metadata": {},
   "outputs": [
    {
     "data": {
      "image/png": "[encoded data removed]",
      "text/plain": [
       "<Figure size 900x600 with 1 Axes>"
      ]
     },
     "metadata": {},
     "output_type": "display_data"
    }
   ],
   "source": [
    "plt.figure(figsize=(9,6))\n",
    "plt.plot(history)\n",
    "plt.title('Revenue Maximization')\n",
    "plt.xlabel('Iterations')\n",
    "plt.ylabel('Loss')\n",
    "plt.show()"
   ]
  },
  {
   "cell_type": "code",
   "execution_count": 689,
   "metadata": {},
   "outputs": [
    {
     "data": {
      "text/plain": [
       "tensor([0.7605, 0.6377, 0.9417, 0.8691, 1.1374, 0.6055, 1.1751, 1.0905, 1.1391,\n",
       "        0.7864, 0.8296, 1.4311, 0.9143, 1.1820, 0.9554, 0.8452, 1.4830, 0.5382,\n",
       "        1.2708, 1.2940, 0.7308, 0.7540, 0.9408, 0.5570], dtype=torch.float64,\n",
       "       requires_grad=True)"
      ]
     },
     "execution_count": 689,
     "metadata": {},
     "output_type": "execute_result"
    }
   ],
   "source": [
    "pi_p"
   ]
  },
  {
   "cell_type": "code",
   "execution_count": 691,
   "metadata": {},
   "outputs": [
    {
     "data": {
      "text/plain": [
       "tensor([ 0.9700,  0.8100,  0.6800,  0.9800,  0.5700,  0.4900, -0.2300,  0.7100,\n",
       "         0.4300,  0.4200,  0.7300,  0.0900,  0.5000, -0.0100,  0.0200,  0.2100,\n",
       "        -0.0400,  0.2600,  0.3800,  0.4400,  0.9000,  0.9400, -0.1500,  0.5200],\n",
       "       dtype=torch.float64, grad_fn=<RoundBackward1>)"
      ]
     },
     "execution_count": 691,
     "metadata": {},
     "output_type": "execute_result"
    }
   ],
   "source": [
    "(torch.tensor(ep_t) * gamma[1] + pi_g - pi_p).round(decimals=2)"
   ]
  },
  {
   "cell_type": "markdown",
   "metadata": {},
   "source": [
    "### Local PV Constraint"
   ]
  },
  {
   "cell_type": "code",
   "execution_count": 684,
   "metadata": {},
   "outputs": [
    {
     "data": {
      "text/plain": [
       "tensor([[1.5500, 1.5500, 1.5473, 1.5500, 1.5369, 1.4953, 1.0000, 1.3694, 1.5331,\n",
       "         1.5495, 1.5500, 1.2641, 1.5492, 1.1734, 1.0000, 1.4119, 1.1873, 1.4902,\n",
       "         1.3527, 1.5314, 1.5500, 1.5500, 1.0000, 1.5500],\n",
       "        [1.5500, 1.5500, 1.5473, 1.5500, 1.5369, 1.4982, 1.3218, 1.3694, 1.5338,\n",
       "         1.5501, 1.5500, 1.5264, 1.5492, 1.4961, 1.5230, 1.5528, 1.4865, 1.5650,\n",
       "         1.4324, 1.5314, 1.5500, 1.5500, 1.4014, 1.5500],\n",
       "        [1.5500, 1.5500, 1.5473, 1.5500, 1.5369, 1.4982, 1.5333, 1.3859, 1.5338,\n",
       "         1.5501, 1.5500, 1.5264, 1.5492, 1.5321, 1.5251, 1.5528, 1.5252, 1.5650,\n",
       "         1.4974, 1.5314, 1.5500, 1.5500, 1.5452, 1.5500],\n",
       "        [1.5500, 1.5500, 1.5473, 1.5500, 1.5369, 1.4982, 1.5333, 1.4026, 1.5338,\n",
       "         1.5501, 1.5500, 1.5264, 1.5492, 1.5321, 1.5251, 1.5528, 1.5252, 1.5650,\n",
       "         1.4660, 1.5314, 1.5500, 1.5500, 1.5452, 1.5500],\n",
       "        [1.5500, 1.5500, 1.5473, 1.5500, 1.5369, 1.4982, 1.5333, 1.4026, 1.5338,\n",
       "         1.5501, 1.5500, 1.5264, 1.5492, 1.5321, 1.5251, 1.5528, 1.5252, 1.5650,\n",
       "         1.4660, 1.5314, 1.5500, 1.5500, 1.5452, 1.5500]], requires_grad=True)"
      ]
     },
     "execution_count": 684,
     "metadata": {},
     "output_type": "execute_result"
    }
   ],
   "source": [
    "C_t_n"
   ]
  },
  {
   "cell_type": "code",
   "execution_count": 688,
   "metadata": {},
   "outputs": [
    {
     "data": {
      "text/plain": [
       "tensor([7.7500, 7.7500, 7.7363, 7.7500, 7.6846, 7.4882, 6.9217, 6.9299, 7.6683,\n",
       "        7.7500, 7.7500, 7.3697, 7.7459, 7.2656, 7.0985, 7.6231, 7.2493, 7.7500,\n",
       "        7.2145, 7.6571, 7.7500, 7.7500, 7.0368, 7.7500],\n",
       "       grad_fn=<SumBackward1>)"
      ]
     },
     "execution_count": 688,
     "metadata": {},
     "output_type": "execute_result"
    }
   ],
   "source": [
    "torch.sum(C_t_n, dim=0)"
   ]
  },
  {
   "cell_type": "markdown",
   "metadata": {},
   "source": [
    "### Total PV demand of all agents"
   ]
  },
  {
   "cell_type": "code",
   "execution_count": 693,
   "metadata": {},
   "outputs": [
    {
     "data": {
      "text/plain": [
       "tensor([7.7500, 7.7500, 7.7363, 7.7500, 7.6846, 7.4882, 4.5999, 6.9299, 7.6683,\n",
       "        7.7500, 7.7500, 6.1056, 7.7459, 4.5962, 6.0985, 6.2112, 4.5755, 6.2598,\n",
       "        5.8619, 7.6571, 7.7500, 7.7500, 4.6355, 7.7500], dtype=torch.float64,\n",
       "       grad_fn=<SumBackward1>)"
      ]
     },
     "execution_count": 693,
     "metadata": {},
     "output_type": "execute_result"
    }
   ],
   "source": [
    "torch.sum(d_star_n[:, 1], dim=0)"
   ]
  },
  {
   "cell_type": "code",
   "execution_count": 701,
   "metadata": {},
   "outputs": [
    {
     "data": {
      "text/plain": [
       "tensor([[1.5500, 1.5500, 1.5500, 1.5500, 1.5400, 1.5000, 0.0000, 1.3700, 1.5300,\n",
       "         1.5500, 1.5500, 0.0000, 1.5500, 0.0000, 0.0000, 0.0000, 0.0000, 0.0000,\n",
       "         0.0000, 1.5300, 1.5500, 1.5500, 0.0000, 1.5500],\n",
       "        [1.5500, 1.5500, 1.5500, 1.5500, 1.5400, 1.5000, 0.0000, 1.3700, 1.5300,\n",
       "         1.5500, 1.5500, 1.5300, 1.5500, 0.0000, 1.5200, 1.5500, 0.0000, 1.5600,\n",
       "         1.4300, 1.5300, 1.5500, 1.5500, 0.0000, 1.5500],\n",
       "        [1.5500, 1.5500, 1.5500, 1.5500, 1.5400, 1.5000, 1.5300, 1.3900, 1.5300,\n",
       "         1.5500, 1.5500, 1.5300, 1.5500, 1.5300, 1.5300, 1.5500, 1.5300, 1.5600,\n",
       "         1.5000, 1.5300, 1.5500, 1.5500, 1.5500, 1.5500],\n",
       "        [1.5500, 1.5500, 1.5500, 1.5500, 1.5400, 1.5000, 1.5300, 1.4000, 1.5300,\n",
       "         1.5500, 1.5500, 1.5300, 1.5500, 1.5300, 1.5300, 1.5500, 1.5300, 1.5600,\n",
       "         1.4700, 1.5300, 1.5500, 1.5500, 1.5500, 1.5500],\n",
       "        [1.5500, 1.5500, 1.5500, 1.5500, 1.5400, 1.5000, 1.5300, 1.4000, 1.5300,\n",
       "         1.5500, 1.5500, 1.5300, 1.5500, 1.5300, 1.5300, 1.5500, 1.5300, 1.5600,\n",
       "         1.4700, 1.5300, 1.5500, 1.5500, 1.5500, 1.5500]], dtype=torch.float64,\n",
       "       grad_fn=<RoundBackward1>)"
      ]
     },
     "execution_count": 701,
     "metadata": {},
     "output_type": "execute_result"
    }
   ],
   "source": [
    "torch.round(d_star_n[:, 1], decimals=2)"
   ]
  },
  {
   "cell_type": "markdown",
   "metadata": {},
   "source": [
    "> PV demand of all 5 users"
   ]
  },
  {
   "cell_type": "markdown",
   "metadata": {},
   "source": [
    "## Revenue Maximisation with Gradient Clipping"
   ]
  },
  {
   "cell_type": "markdown",
   "metadata": {},
   "source": [
    "(Outdated code)\n",
    "\n",
    "1. No Curriculum Learning (for B). Init B at 10-20.\n",
    "2. Gradients clipped at 0, i.e., updates to price(s) are non-negative.\n",
    "3. Input price tensors are scaled to compensate for lower B.\n",
    "4. ExponentialLR performs better than ReduceLROnPlateau."
   ]
  },
  {
   "cell_type": "code",
   "execution_count": null,
   "metadata": {},
   "outputs": [],
   "source": [
    "def total_loss(pi_g, pi_p, pi_s, pi_c, pi_d, d_star):\n",
    "    '''\n",
    "    Loss = -revenue\n",
    "    '''\n",
    "    # r_g = pi_g * d_star[source.grid]\n",
    "    r_p = pi_p * d_star[source.pv]\n",
    "    r_s = pi_s * d_star[source.storage]\n",
    "    r_c = pi_c * d_star[source.charge]\n",
    "    r_d = pi_d * d_star[source.discharge]\n",
    "\n",
    "    r_t = r_p + r_s + r_c + r_d\n",
    "    rev = torch.sum(r_t)\n",
    "\n",
    "    return -rev"
   ]
  },
  {
   "cell_type": "code",
   "execution_count": null,
   "metadata": {},
   "outputs": [],
   "source": [
    "# Init model\n",
    "eta = 1\n",
    "B = 256\n",
    "scaler = 1\n",
    "\n",
    "model = neuralGrU(B, device, eta, eta).to(device)"
   ]
  },
  {
   "cell_type": "markdown",
   "metadata": {},
   "source": [
    "#### Input Data"
   ]
  },
  {
   "cell_type": "code",
   "execution_count": null,
   "metadata": {},
   "outputs": [],
   "source": [
    "# prices = getPriceVectors(100) * scaler\n",
    "scaled_prices = prices * scaler\n",
    "\n",
    "# Random total demand tensor\n",
    "d_t = torch.ones(24, requires_grad=False, device=device)\n",
    "# d_t = torch.ones(24, requires_grad=False, device=device)\n",
    "\n",
    "# Price tensors\n",
    "pi_g = torch.tensor(scaled_prices[source.grid] + grid_shift, requires_grad=False, device=device)\n",
    "\n",
    "pi_p = torch.tensor(scaled_prices[source.pv],  requires_grad=True, device=device)\n",
    "pi_c = torch.tensor(scaled_prices[source.charge], requires_grad=True, device=device)\n",
    "pi_d = torch.tensor(scaled_prices[source.discharge], requires_grad=True, device=device)\n",
    "pi_s = torch.tensor(scaled_prices[source.storage], requires_grad=True, device=device)"
   ]
  },
  {
   "cell_type": "markdown",
   "metadata": {},
   "source": [
    "#### Optimization schedule"
   ]
  },
  {
   "cell_type": "code",
   "execution_count": null,
   "metadata": {},
   "outputs": [
    {
     "name": "stderr",
     "output_type": "stream",
     "text": [
      "100%|██████████| 500/500 [00:03<00:00, 162.10it/s]\n"
     ]
    }
   ],
   "source": [
    "# Hyperparameter(s)\n",
    "learning_rate = 0.025\n",
    "epochs = 500\n",
    "\n",
    "history_grad_clip = []\n",
    "\n",
    "# Init optimizer & scheduler\n",
    "optimizer = torch.optim.Adam([pi_p, pi_s, pi_c, pi_d], lr=learning_rate)\n",
    "scheduler = torch.optim.lr_scheduler.ExponentialLR(optimizer, gamma=0.982)\n",
    "\n",
    "for t in trange(epochs):\n",
    "    # Compute prediction and loss\n",
    "    d_star = model(pi_g, pi_p, pi_s, pi_c, pi_d, d_t)\n",
    "    loss = total_loss(pi_g, pi_p, pi_s, pi_c, pi_d, d_star)\n",
    "\n",
    "    # Backpropagation\n",
    "    optimizer.zero_grad()\n",
    "    loss.backward()\n",
    "    \n",
    "    # Gradient Clipping\n",
    "    for p in [pi_p, pi_s, pi_c, pi_d]:\n",
    "        p.grad = -F.relu(-p.grad)\n",
    "\n",
    "    optimizer.step()\n",
    "    scheduler.step()\n",
    "\n",
    "    loss = loss.item()\n",
    "    history_grad_clip.append(loss / scaler)\n",
    "\n",
    "    # Curriculum Learning\n",
    "    if t % 10 == 0 and model.B < 1e4:\n",
    "        model.B *= 2\n",
    "\n",
    "    # if t % 100 == 0:\n",
    "    #     print(f\"Epoch {t+1}     loss: {loss:>7f}\")"
   ]
  },
  {
   "cell_type": "code",
   "execution_count": null,
   "metadata": {},
   "outputs": [
    {
     "data": {
      "image/png": "[encoded data removed]",
      "text/plain": [
       "<Figure size 900x600 with 1 Axes>"
      ]
     },
     "metadata": {},
     "output_type": "display_data"
    }
   ],
   "source": [
    "plt.figure(figsize=(9,6))\n",
    "plt.plot(history, label='baseline')\n",
    "plt.plot(history_grad_clip, label='gradient clipping')\n",
    "plt.title('Revenue Maximization')\n",
    "plt.xlabel('Iterations')\n",
    "plt.ylabel('Loss')\n",
    "plt.legend()\n",
    "plt.show()"
   ]
  },
  {
   "cell_type": "code",
   "execution_count": null,
   "metadata": {},
   "outputs": [
    {
     "data": {
      "text/plain": [
       "tensor(True)"
      ]
     },
     "metadata": {},
     "output_type": "display_data"
    }
   ],
   "source": [
    "(pi_g > pi_p).all()"
   ]
  },
  {
   "cell_type": "code",
   "execution_count": null,
   "metadata": {},
   "outputs": [
    {
     "data": {
      "text/plain": [
       "tensor([ 0.3661,  1.8690,  0.5150, -0.0408, -0.0312,  0.8866,  0.1038,  0.3904,\n",
       "         1.3893,  0.8990,  0.1514,  1.9923,  0.6137,  0.7580,  0.5715,  0.3316,\n",
       "         0.6517, -0.0619,  0.7804,  0.6153,  0.7038,  1.8420,  1.2148,  0.4223],\n",
       "       dtype=torch.float64, grad_fn=<DivBackward0>)"
      ]
     },
     "metadata": {},
     "output_type": "display_data"
    }
   ],
   "source": [
    "(pi_g - pi_p) / scaler"
   ]
  },
  {
   "cell_type": "code",
   "execution_count": null,
   "metadata": {},
   "outputs": [
    {
     "data": {
      "text/plain": [
       "array([[0., 0., 0., 1., 1., 0., 0., 0., 0., 0., 0., 0., 0., 0., 0., 0.,\n",
       "        0., 1., 0., 0., 0., 0., 0., 0.],\n",
       "       [1., 1., 1., 0., 0., 1., 1., 1., 1., 1., 1., 1., 1., 1., 1., 1.,\n",
       "        1., 0., 1., 1., 1., 1., 1., 1.],\n",
       "       [0., 0., 0., 0., 0., 0., 0., 0., 0., 0., 0., 0., 0., 0., 0., 0.,\n",
       "        0., 0., 0., 0., 0., 0., 0., 0.],\n",
       "       [0., 0., 0., 0., 0., 0., 0., 0., 0., 0., 0., 0., 0., 0., 0., 0.,\n",
       "        0., 0., 0., 0., 0., 0., 0., 0.],\n",
       "       [0., 0., 0., 0., 0., 0., 0., 0., 0., 0., 0., 0., 0., 0., 0., 0.,\n",
       "        0., 0., 0., 0., 0., 0., 0., 0.]])"
      ]
     },
     "metadata": {},
     "output_type": "display_data"
    }
   ],
   "source": [
    "np.round(d_star.detach().numpy())"
   ]
  },
  {
   "cell_type": "markdown",
   "metadata": {},
   "source": [
    "## Rough work"
   ]
  },
  {
   "cell_type": "markdown",
   "metadata": {},
   "source": [
    "### C_t_n reshape"
   ]
  },
  {
   "cell_type": "code",
   "execution_count": 371,
   "metadata": {},
   "outputs": [
    {
     "data": {
      "text/plain": [
       "tensor([[[9, 3, 4],\n",
       "         [1, 4, 5],\n",
       "         [6, 6, 3],\n",
       "         [5, 9, 2],\n",
       "         [8, 6, 5]],\n",
       "\n",
       "        [[6, 3, 4],\n",
       "         [4, 6, 6],\n",
       "         [8, 1, 1],\n",
       "         [3, 9, 8],\n",
       "         [4, 7, 3]]])"
      ]
     },
     "execution_count": 371,
     "metadata": {},
     "output_type": "execute_result"
    }
   ],
   "source": [
    "# Rough\n",
    "\n",
    "t = torch.randint(1, 10, (2, 5))\n",
    "x = torch.randint(1, 10, (2, 5))\n",
    "y = torch.randint(1, 10, (2, 5))\n",
    "\n",
    "torch.stack([x.T, t.T, y.T]).T"
   ]
  },
  {
   "cell_type": "code",
   "execution_count": 372,
   "metadata": {},
   "outputs": [
    {
     "data": {
      "text/plain": [
       "(tensor([[9, 1, 6, 5, 8],\n",
       "         [6, 4, 8, 3, 4]]),\n",
       " tensor([[3, 4, 6, 9, 6],\n",
       "         [3, 6, 1, 9, 7]]),\n",
       " tensor([[4, 5, 3, 2, 5],\n",
       "         [4, 6, 1, 8, 3]]))"
      ]
     },
     "execution_count": 372,
     "metadata": {},
     "output_type": "execute_result"
    }
   ],
   "source": [
    "x, t, y"
   ]
  },
  {
   "cell_type": "markdown",
   "metadata": {},
   "source": [
    "### pi_g reshpae"
   ]
  },
  {
   "cell_type": "code",
   "execution_count": 385,
   "metadata": {},
   "outputs": [
    {
     "data": {
      "text/plain": [
       "tensor([[ 90,  30,  30,  70,  80,  20,  60,  90,  40,  50],\n",
       "        [180,  60,  60, 140, 160,  40, 120, 180,  80, 100],\n",
       "        [270,  90,  90, 210, 240,  60, 180, 270, 120, 150],\n",
       "        [360, 120, 120, 280, 320,  80, 240, 360, 160, 200],\n",
       "        [450, 150, 150, 350, 400, 100, 300, 450, 200, 250]])"
      ]
     },
     "execution_count": 385,
     "metadata": {},
     "output_type": "execute_result"
    }
   ],
   "source": [
    "pi = torch.randint(0, 10, (10,))\n",
    "k = torch.tensor([10, 20, 30, 40, 50])\n",
    "\n",
    "pi.expand(5, -1) * k.unsqueeze(dim=0).T"
   ]
  },
  {
   "cell_type": "code",
   "execution_count": 386,
   "metadata": {},
   "outputs": [
    {
     "data": {
      "text/plain": [
       "tensor([9, 3, 3, 7, 8, 2, 6, 9, 4, 5])"
      ]
     },
     "execution_count": 386,
     "metadata": {},
     "output_type": "execute_result"
    }
   ],
   "source": [
    "pi"
   ]
  },
  {
   "cell_type": "code",
   "execution_count": 404,
   "metadata": {},
   "outputs": [
    {
     "data": {
      "text/plain": [
       "tensor([[[5, 1, 5, 7, 9],\n",
       "         [7, 7, 2, 0, 0],\n",
       "         [4, 2, 6, 9, 2],\n",
       "         [3, 0, 7, 0, 3],\n",
       "         [5, 7, 7, 0, 8]],\n",
       "\n",
       "        [[6, 9, 0, 7, 5],\n",
       "         [1, 1, 6, 9, 7],\n",
       "         [7, 4, 3, 0, 9],\n",
       "         [9, 1, 9, 7, 2],\n",
       "         [9, 2, 9, 9, 4]],\n",
       "\n",
       "        [[5, 0, 1, 7, 5],\n",
       "         [7, 3, 8, 2, 4],\n",
       "         [6, 2, 9, 3, 8],\n",
       "         [0, 7, 4, 0, 6],\n",
       "         [7, 9, 1, 1, 2]]])"
      ]
     },
     "execution_count": 404,
     "metadata": {},
     "output_type": "execute_result"
    }
   ],
   "source": [
    "a = torch.randint(0, 10, (3, 5, 5), dtype=int)\n",
    "a"
   ]
  },
  {
   "cell_type": "code",
   "execution_count": 405,
   "metadata": {},
   "outputs": [],
   "source": [
    "a[:, 0, 0] = 100"
   ]
  },
  {
   "cell_type": "code",
   "execution_count": 406,
   "metadata": {},
   "outputs": [
    {
     "data": {
      "text/plain": [
       "tensor([[[100,   1,   5,   7,   9],\n",
       "         [  7,   7,   2,   0,   0],\n",
       "         [  4,   2,   6,   9,   2],\n",
       "         [  3,   0,   7,   0,   3],\n",
       "         [  5,   7,   7,   0,   8]],\n",
       "\n",
       "        [[100,   9,   0,   7,   5],\n",
       "         [  1,   1,   6,   9,   7],\n",
       "         [  7,   4,   3,   0,   9],\n",
       "         [  9,   1,   9,   7,   2],\n",
       "         [  9,   2,   9,   9,   4]],\n",
       "\n",
       "        [[100,   0,   1,   7,   5],\n",
       "         [  7,   3,   8,   2,   4],\n",
       "         [  6,   2,   9,   3,   8],\n",
       "         [  0,   7,   4,   0,   6],\n",
       "         [  7,   9,   1,   1,   2]]])"
      ]
     },
     "execution_count": 406,
     "metadata": {},
     "output_type": "execute_result"
    }
   ],
   "source": [
    "a"
   ]
  },
  {
   "cell_type": "code",
   "execution_count": 412,
   "metadata": {},
   "outputs": [
    {
     "data": {
      "text/plain": [
       "tensor([[0.7854],\n",
       "        [0.6354],\n",
       "        [0.6767],\n",
       "        [0.8414],\n",
       "        [0.6401],\n",
       "        [0.8150],\n",
       "        [0.5881],\n",
       "        [0.8857],\n",
       "        [0.9897],\n",
       "        [0.8999]], dtype=torch.float64)"
      ]
     },
     "execution_count": 412,
     "metadata": {},
     "output_type": "execute_result"
    }
   ],
   "source": [
    "b = torch.tensor(np.random.rand(6, 5))\n",
    "F.max_pool1d(b, kernel_size=5)"
   ]
  },
  {
   "cell_type": "code",
   "execution_count": 430,
   "metadata": {},
   "outputs": [
    {
     "data": {
      "text/plain": [
       "tensor([[0.7131, 0.7226],\n",
       "        [0.2571, 0.3438],\n",
       "        [0.8473, 0.1491],\n",
       "        [0.2303, 0.4306],\n",
       "        [0.1880, 0.4318],\n",
       "        [0.3109, 0.1957],\n",
       "        [0.3469, 0.9563],\n",
       "        [0.5061, 0.7076],\n",
       "        [0.4827, 0.9841],\n",
       "        [0.9098, 0.2565]], dtype=torch.float64)"
      ]
     },
     "execution_count": 430,
     "metadata": {},
     "output_type": "execute_result"
    }
   ],
   "source": [
    "z = torch.tensor(np.random.rand(10, 2))\n",
    "z"
   ]
  },
  {
   "cell_type": "code",
   "execution_count": 433,
   "metadata": {},
   "outputs": [
    {
     "data": {
      "text/plain": [
       "tensor([[0.5024, 0.4976],\n",
       "        [0.5217, 0.4783],\n",
       "        [0.3322, 0.6678],\n",
       "        [0.5499, 0.4501],\n",
       "        [0.5607, 0.4393],\n",
       "        [0.4712, 0.5288],\n",
       "        [0.6478, 0.3522],\n",
       "        [0.5502, 0.4498],\n",
       "        [0.6228, 0.3772],\n",
       "        [0.3422, 0.6578]], dtype=torch.float64)"
      ]
     },
     "execution_count": 433,
     "metadata": {},
     "output_type": "execute_result"
    }
   ],
   "source": [
    "F.softmin(z, dim=1)"
   ]
  },
  {
   "cell_type": "code",
   "execution_count": 426,
   "metadata": {},
   "outputs": [
    {
     "data": {
      "text/plain": [
       "tensor(1.8141, dtype=torch.float64)"
      ]
     },
     "execution_count": 426,
     "metadata": {},
     "output_type": "execute_result"
    }
   ],
   "source": [
    "torch.sum(b[0])"
   ]
  },
  {
   "cell_type": "code",
   "execution_count": 427,
   "metadata": {},
   "outputs": [
    {
     "data": {
      "text/plain": [
       "tensor([1.8141, 1.0123, 2.3820, 2.3173, 2.3349, 1.8439, 1.5575, 2.8559, 3.1716,\n",
       "        2.1116], dtype=torch.float64)"
      ]
     },
     "execution_count": 427,
     "metadata": {},
     "output_type": "execute_result"
    }
   ],
   "source": [
    "torch.sum(b, dim=1)"
   ]
  },
  {
   "cell_type": "code",
   "execution_count": 419,
   "metadata": {},
   "outputs": [
    {
     "data": {
      "text/plain": [
       "tensor([[1., 1., 1., 1., 1., 2., 2., 2., 2., 2., 3., 3., 3., 3., 3.],\n",
       "        [1., 1., 1., 1., 1., 2., 2., 2., 2., 2., 3., 3., 3., 3., 3.]])"
      ]
     },
     "execution_count": 419,
     "metadata": {},
     "output_type": "execute_result"
    }
   ],
   "source": [
    "c = torch.ones((2, 5))\n",
    "\n",
    "torch.cat([c, 2*c, 3*c], dim=1)"
   ]
  },
  {
   "cell_type": "code",
   "execution_count": 458,
   "metadata": {},
   "outputs": [
    {
     "data": {
      "text/plain": [
       "tensor([[[6.6524e-01, 2.4473e-01, 9.0031e-02],\n",
       "         [6.6524e-01, 2.4473e-01, 9.0031e-02],\n",
       "         [6.6524e-01, 2.4473e-01, 9.0031e-02],\n",
       "         [6.6524e-01, 2.4473e-01, 9.0031e-02],\n",
       "         [6.6524e-01, 2.4473e-01, 9.0031e-02]],\n",
       "\n",
       "        [[9.9995e-01, 4.5398e-05, 2.0611e-09],\n",
       "         [9.9995e-01, 4.5398e-05, 2.0611e-09],\n",
       "         [9.9995e-01, 4.5398e-05, 2.0611e-09],\n",
       "         [9.9995e-01, 4.5398e-05, 2.0611e-09],\n",
       "         [9.9995e-01, 4.5398e-05, 2.0611e-09]]])"
      ]
     },
     "execution_count": 458,
     "metadata": {},
     "output_type": "execute_result"
    }
   ],
   "source": [
    "x = torch.ones((2, 5))\n",
    "x[1, :] = 10\n",
    "\n",
    "y = torch.stack([x, 2*x, 3*x], dim=2)\n",
    "F.softmin(y, dim=2)"
   ]
  },
  {
   "cell_type": "code",
   "execution_count": 461,
   "metadata": {},
   "outputs": [
    {
     "data": {
      "text/plain": [
       "(tensor([[0.6652, 0.2447, 0.0900],\n",
       "         [0.6652, 0.2447, 0.0900],\n",
       "         [0.6652, 0.2447, 0.0900],\n",
       "         [0.6652, 0.2447, 0.0900],\n",
       "         [0.6652, 0.2447, 0.0900]]),\n",
       " tensor([[0.6652, 0.2447, 0.0900],\n",
       "         [0.6652, 0.2447, 0.0900],\n",
       "         [0.6652, 0.2447, 0.0900],\n",
       "         [0.6652, 0.2447, 0.0900],\n",
       "         [0.6652, 0.2447, 0.0900]]),\n",
       " tensor([[0.6652, 0.2447, 0.0900],\n",
       "         [0.6652, 0.2447, 0.0900],\n",
       "         [0.6652, 0.2447, 0.0900],\n",
       "         [0.6652, 0.2447, 0.0900],\n",
       "         [0.6652, 0.2447, 0.0900]]))"
      ]
     },
     "execution_count": 461,
     "metadata": {},
     "output_type": "execute_result"
    }
   ],
   "source": [
    "x = torch.ones(5)\n",
    "y = torch.stack([x, 2*x, 3*x], dim=1)\n",
    "z = F.softmin(y, dim=1)\n",
    "t = z, z, z\n",
    "t"
   ]
  },
  {
   "cell_type": "code",
   "execution_count": 468,
   "metadata": {},
   "outputs": [
    {
     "data": {
      "text/plain": [
       "tensor([[0., 0., 0., 0., 0.],\n",
       "        [1., 0., 0., 0., 0.],\n",
       "        [1., 2., 0., 0., 0.],\n",
       "        [1., 2., 3., 0., 0.],\n",
       "        [1., 2., 3., 4., 0.]])"
      ]
     },
     "execution_count": 468,
     "metadata": {},
     "output_type": "execute_result"
    }
   ],
   "source": [
    "torch.tril(torch.cumsum(torch.ones(5, 5), dim=1), diagonal=-1)"
   ]
  },
  {
   "cell_type": "code",
   "execution_count": 469,
   "metadata": {},
   "outputs": [
    {
     "data": {
      "text/plain": [
       "tensor([[[0., 0., 0., 0., 0.],\n",
       "         [1., 0., 0., 0., 0.],\n",
       "         [1., 2., 0., 0., 0.],\n",
       "         [1., 2., 3., 0., 0.],\n",
       "         [1., 2., 3., 4., 0.]],\n",
       "\n",
       "        [[0., 0., 0., 0., 0.],\n",
       "         [1., 0., 0., 0., 0.],\n",
       "         [1., 2., 0., 0., 0.],\n",
       "         [1., 2., 3., 0., 0.],\n",
       "         [1., 2., 3., 4., 0.]]])"
      ]
     },
     "execution_count": 469,
     "metadata": {},
     "output_type": "execute_result"
    }
   ],
   "source": [
    "z = torch.ones((2, 5, 5))\n",
    "torch.tril(torch.cumsum(z, dim=2), diagonal=-1)"
   ]
  },
  {
   "cell_type": "code",
   "execution_count": null,
   "metadata": {},
   "outputs": [
    {
     "data": {
      "text/plain": [
       "tensor([[ 0.,  0., 10.,  0.,  0.,  0.,  0.,  0.,  0.,  0.,  0.,  0.,  0.,  0.,\n",
       "          0.,  0.,  0.,  0.,  0.,  0.,  0.,  0.,  0.,  0.],\n",
       "        [ 0.,  0.,  8.,  0.,  0.,  0.,  0.,  0.,  0.,  0.,  0.,  0.,  0.,  0.,\n",
       "          0.,  0.,  0.,  0.,  0.,  0.,  0.,  0.,  0.,  0.],\n",
       "        [ 0.,  0.,  5.,  0.,  0.,  0.,  0.,  0.,  0.,  0.,  0.,  0.,  0.,  0.,\n",
       "          0.,  0.,  0.,  0.,  0.,  0.,  0.,  0.,  0.,  0.],\n",
       "        [ 0.,  0.,  5.,  0.,  0.,  0.,  0.,  0.,  0.,  0.,  0.,  0.,  0.,  0.,\n",
       "          0.,  0.,  0.,  0.,  0.,  0.,  0.,  0.,  0.,  0.],\n",
       "        [ 0.,  0.,  5.,  0.,  0.,  0.,  0.,  0.,  0.,  0.,  0.,  0.,  0.,  0.,\n",
       "          0.,  0.,  0.,  0.,  0.,  0.,  0.,  0.,  0.,  0.]])"
      ]
     },
     "metadata": {},
     "output_type": "display_data"
    }
   ],
   "source": [
    "a = torch.ones((5, 2))\n",
    "a[0, 0] = 10\n",
    "a[1, 0] = 8\n",
    "a[2:, 1] = 5\n",
    "\n",
    "b = torch.zeros((5, 24))\n",
    "\n",
    "b[:, 2] = F.max_pool1d(a, kernel_size=2).T\n",
    "b"
   ]
  },
  {
   "cell_type": "code",
   "execution_count": null,
   "metadata": {},
   "outputs": [
    {
     "data": {
      "text/plain": [
       "tensor([[1.0000, 0.0000, 0.0000, 0.0000, 0.0000, 0.0000, 0.0000, 0.0000, 0.0000,\n",
       "         0.0000, 0.0000, 0.0000, 0.0000, 0.0000, 0.0000, 0.0000, 0.0000, 0.0000,\n",
       "         0.0000, 0.0000, 0.0000, 0.0000, 0.0000, 0.0000],\n",
       "        [1.0000, 0.0000, 0.0000, 0.0000, 0.0000, 0.0000, 0.0000, 0.0000, 0.0000,\n",
       "         0.0000, 0.0000, 0.0000, 0.0000, 0.0000, 0.0000, 0.0000, 0.0000, 0.0000,\n",
       "         0.0000, 0.0000, 0.0000, 0.0000, 0.0000, 0.0000],\n",
       "        [0.0200, 0.9800, 0.0000, 0.0000, 0.0000, 0.0000, 0.0000, 0.0000, 0.0000,\n",
       "         0.0000, 0.0000, 0.0000, 0.0000, 0.0000, 0.0000, 0.0000, 0.0000, 0.0000,\n",
       "         0.0000, 0.0000, 0.0000, 0.0000, 0.0000, 0.0000],\n",
       "        [0.0200, 0.9800, 0.0000, 0.0000, 0.0000, 0.0000, 0.0000, 0.0000, 0.0000,\n",
       "         0.0000, 0.0000, 0.0000, 0.0000, 0.0000, 0.0000, 0.0000, 0.0000, 0.0000,\n",
       "         0.0000, 0.0000, 0.0000, 0.0000, 0.0000, 0.0000],\n",
       "        [0.0200, 0.9800, 0.0000, 0.0000, 0.0000, 0.0000, 0.0000, 0.0000, 0.0000,\n",
       "         0.0000, 0.0000, 0.0000, 0.0000, 0.0000, 0.0000, 0.0000, 0.0000, 0.0000,\n",
       "         0.0000, 0.0000, 0.0000, 0.0000, 0.0000, 0.0000]])"
      ]
     },
     "metadata": {},
     "output_type": "display_data"
    }
   ],
   "source": [
    "c = torch.zeros((5, 24, 24))\n",
    "\n",
    "c[:, 2, :2] = F.softmax(a, dim=1)\n",
    "c.round(decimals=2)[:, 2]"
   ]
  }
 ],
 "metadata": {
  "kernelspec": {
   "display_name": "Python 3.10.4 64-bit",
   "language": "python",
   "name": "python3"
  },
  "language_info": {
   "codemirror_mode": {
    "name": "ipython",
    "version": 3
   },
   "file_extension": ".py",
   "mimetype": "text/x-python",
   "name": "python",
   "nbconvert_exporter": "python",
   "pygments_lexer": "ipython3",
   "version": "3.8.10"
  },
  "orig_nbformat": 4,
  "vscode": {
   "interpreter": {
    "hash": "916dbcbb3f70747c44a77c7bcd40155683ae19c65e1c03b4aa3499c5328201f1"
   }
  }
 },
 "nbformat": 4,
 "nbformat_minor": 2
}
