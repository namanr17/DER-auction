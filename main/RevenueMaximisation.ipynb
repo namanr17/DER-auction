{
 "cells": [
  {
   "cell_type": "code",
   "execution_count": 1,
   "metadata": {},
   "outputs": [],
   "source": [
    "%load_ext autoreload\n",
    "%autoreload 2 "
   ]
  },
  {
   "cell_type": "code",
   "execution_count": 2,
   "metadata": {},
   "outputs": [],
   "source": [
    "import torch\n",
    "import torch.nn as nn\n",
    "import torch.nn.functional as F\n",
    "\n",
    "from enum import IntEnum\n",
    "import numpy as np\n",
    "import pandas as pd\n",
    "import matplotlib.pyplot as plt\n",
    "\n",
    "from tqdm import trange\n",
    "from collections import defaultdict\n",
    "\n",
    "from GrU_nn import (gru_module_1, gru_module_2, gru_module_3, gru_module_4, neuralGrU)\n",
    "from GrU import (evaluate, GrU, getBestExporter, getCost)\n",
    "\n",
    "# device = torch.device(\"cuda\" if torch.cuda.is_available() else \"cpu\")\n",
    "device = torch.device(\"cpu\")"
   ]
  },
  {
   "cell_type": "markdown",
   "metadata": {},
   "source": [
    "### Load auction data"
   ]
  },
  {
   "cell_type": "code",
   "execution_count": 3,
   "metadata": {},
   "outputs": [],
   "source": [
    "class clock( IntEnum ):\n",
    "    pv = 0\n",
    "    storage = 1\n",
    "    charge = 2\n",
    "    discharge = 3\n",
    "\n",
    "class source( IntEnum ):\n",
    "    grid =  0\n",
    "    pv = 1\n",
    "    storage = 2\n",
    "    charge = 3\n",
    "    discharge = 4\n",
    "\n",
    "df_auctioneer_data = pd.read_csv('../data/Auctioneer Data.csv')\n",
    "\n",
    "headers = np.load(file='../data/clock_data_columns.npy', allow_pickle=True)\n",
    "df_clock_data = pd.DataFrame(np.load('../data/clock_data_values.npy', allow_pickle=True), columns=headers)\n",
    "\n",
    "def getPriceVectors(round):\n",
    "    '''\n",
    "    Get price vectors for a round from the clock data.\n",
    "\n",
    "    Parameters\n",
    "    ----------\n",
    "    round : int\n",
    "        Round number to get the price vectors for, range = [0, 308]\n",
    "\n",
    "    Returns\n",
    "    -------\n",
    "    prices : ndarray of shape (5, 24)\n",
    "        Price vectors for g, p, s, c, d.\n",
    "    \n",
    "    '''\n",
    "    prices = np.ndarray((5, 24))\n",
    "    prices[0] = df_auctioneer_data.GRID_PRICE.values\n",
    "    for e in clock:\n",
    "        prices[e + 1] = df_clock_data[f'price_{round}'][e]\n",
    "    return prices"
   ]
  },
  {
   "cell_type": "markdown",
   "metadata": {},
   "source": [
    "## Revenue Maximisation"
   ]
  },
  {
   "cell_type": "code",
   "execution_count": 4,
   "metadata": {},
   "outputs": [],
   "source": [
    "def total_loss(pi_g, pi_p, pi_s, pi_c, pi_d, d_star):\n",
    "    '''\n",
    "    Loss = -revenue\n",
    "    '''\n",
    "    # r_g = pi_g * d_star[source.grid]\n",
    "    r_p = pi_p * d_star[source.pv]\n",
    "    r_s = pi_s * d_star[source.storage]\n",
    "    r_c = pi_c * d_star[source.charge]\n",
    "    r_d = pi_d * d_star[source.discharge]\n",
    "\n",
    "    r_t = r_p + r_s + r_c + r_d\n",
    "    rev = torch.sum(r_t)\n",
    "\n",
    "    return -rev"
   ]
  },
  {
   "cell_type": "code",
   "execution_count": 31,
   "metadata": {},
   "outputs": [],
   "source": [
    "# Init model\n",
    "eta = 1\n",
    "scaler = 1\n",
    "model = neuralGrU(B=128, eta_c=eta, eta_d=eta, alpha=1e3).to(device)"
   ]
  },
  {
   "cell_type": "markdown",
   "metadata": {},
   "source": [
    "#### Input Data"
   ]
  },
  {
   "cell_type": "code",
   "execution_count": 6,
   "metadata": {},
   "outputs": [],
   "source": [
    "# # Price vectors sampled from Normal Distribution(mu=0, sigma=1)\n",
    "# prices = np.abs(np.random.normal(loc=0, scale=1, size=(5, 24))) * scaler"
   ]
  },
  {
   "cell_type": "markdown",
   "metadata": {},
   "source": [
    "> Hyperparameters: lr = 0.125, gamma = 0.94, B = 5, scaler = 1, Curriculum Learning & ExponentialLR Scheduler"
   ]
  },
  {
   "cell_type": "code",
   "execution_count": 32,
   "metadata": {},
   "outputs": [],
   "source": [
    "# Price vectors sampled from Uniform Distribution [0, 1)\n",
    "prices = np.random.random(size=(5, 24)) * scaler"
   ]
  },
  {
   "cell_type": "markdown",
   "metadata": {},
   "source": [
    "> Hyperparameters: lr = 0.1, gamma = 0.94, B = 5, scaler = 1, Curriculum Learning & ExponentialLR Scheduler"
   ]
  },
  {
   "cell_type": "code",
   "execution_count": 8,
   "metadata": {},
   "outputs": [],
   "source": [
    "# # Price vectors from Auction Data\n",
    "# prices = getPriceVectors(300) * scaler"
   ]
  },
  {
   "cell_type": "markdown",
   "metadata": {},
   "source": [
    "> Hyperparameters: lr = 1, gamma = 0.92, B = 1, scaler = 1 Curriculum Learning & ExponentialLR Scheduler"
   ]
  },
  {
   "cell_type": "code",
   "execution_count": 33,
   "metadata": {},
   "outputs": [],
   "source": [
    "# Total demand tensor (Unit)\n",
    "d_t = torch.ones(24, requires_grad=False, device=device) * 5\n",
    "# d_t = torch.ones(24, requires_grad=False, device=device)\n",
    "\n",
    "# Cap tensor\n",
    "C_p = torch.ones(24, requires_grad=False) * 4\n",
    "\n",
    "grid_shift = 0\n",
    "\n",
    "# Price tensors\n",
    "pi_g = torch.tensor(prices[source.grid] + grid_shift, requires_grad=False, device=device)\n",
    "\n",
    "pi_p = torch.tensor(prices[source.pv],  requires_grad=True, device=device)\n",
    "pi_c = torch.tensor(prices[source.charge], requires_grad=True, device=device)\n",
    "pi_d = torch.tensor(prices[source.discharge], requires_grad=True, device=device)\n",
    "pi_s = torch.tensor(prices[source.storage], requires_grad=True, device=device)"
   ]
  },
  {
   "cell_type": "markdown",
   "metadata": {},
   "source": [
    "#### Optimisation schedule"
   ]
  },
  {
   "cell_type": "code",
   "execution_count": 38,
   "metadata": {},
   "outputs": [
    {
     "name": "stderr",
     "output_type": "stream",
     "text": [
      "100%|██████████| 500/500 [00:02<00:00, 185.99it/s]\n"
     ]
    }
   ],
   "source": [
    "# Hyperparameter(s)\n",
    "learning_rate = 0.008\n",
    "epochs = 500\n",
    "\n",
    "history = []\n",
    "best_loss = 0\n",
    "\n",
    "# Init optimizer & scheduler\n",
    "optimizer = torch.optim.Adam([pi_p, pi_s, pi_c, pi_d], lr=learning_rate)\n",
    "scheduler = torch.optim.lr_scheduler.ExponentialLR(optimizer, gamma=0.98)\n",
    "\n",
    "for t in trange(epochs):\n",
    "    # Compute prediction and loss\n",
    "    d_star = model(pi_g, pi_p, pi_s, pi_c, pi_d, d_t, C_p=C_p)\n",
    "    loss = total_loss(pi_g, pi_p, pi_s, pi_c, pi_d, d_star)\n",
    "\n",
    "    # Backpropagation\n",
    "    optimizer.zero_grad()\n",
    "    loss.backward()\n",
    "\n",
    "    # Optimisation\n",
    "    optimizer.step()\n",
    "    scheduler.step()\n",
    "\n",
    "    loss = loss.item()\n",
    "    history.append(loss / scaler)\n",
    "\n",
    "    if loss < best_loss:\n",
    "        pi_optimal, best_loss = [], loss\n",
    "        for pi in pi_p, pi_s, pi_c, pi_d:\n",
    "            pi_optimal.append(pi.clone().detach())\n",
    "\n",
    "    # Curriculum Learning\n",
    "    if t % 10 == 0 and model.B < 1e3:\n",
    "        model.B *= 2\n",
    "\n",
    "    # if t % 100 == 0:\n",
    "    #     print(f\"Epoch {t+1}     loss: {loss:>7f}\")"
   ]
  },
  {
   "cell_type": "code",
   "execution_count": 39,
   "metadata": {},
   "outputs": [
    {
     "data": {
      "image/png": "[encoded data removed]",
      "text/plain": [
       "<Figure size 648x432 with 1 Axes>"
      ]
     },
     "metadata": {
      "needs_background": "light"
     },
     "output_type": "display_data"
    }
   ],
   "source": [
    "plt.figure(figsize=(9,6))\n",
    "plt.plot(history, label='loss')\n",
    "plt.title('Revenue Maximization')\n",
    "plt.xlabel('Iterations')\n",
    "plt.ylabel('Loss')\n",
    "plt.show()"
   ]
  },
  {
   "cell_type": "code",
   "execution_count": 28,
   "metadata": {},
   "outputs": [
    {
     "data": {
      "text/plain": [
       "(-23.753603698808092, -23.753603698808092)"
      ]
     },
     "execution_count": 28,
     "metadata": {},
     "output_type": "execute_result"
    }
   ],
   "source": [
    "best_loss, loss"
   ]
  },
  {
   "cell_type": "code",
   "execution_count": 20,
   "metadata": {},
   "outputs": [
    {
     "data": {
      "text/plain": [
       "[tensor([0.3770, 0.2504, 0.3037, 0.4852, 0.7326, 0.5158, 0.8323, 0.6617, 0.2290,\n",
       "         0.3850, 0.3915, 0.2598, 0.9135, 0.4653, 0.3898, 0.3455, 0.7714, 0.8909,\n",
       "         0.5370, 0.3772, 0.7017, 0.2961, 0.3410, 0.9067], dtype=torch.float64),\n",
       " tensor([0.6380, 0.4698, 0.1426, 0.1598, 0.7335, 0.7910, 0.8173, 0.9350, 0.0285,\n",
       "         0.9644, 0.8035, 0.6225, 0.2152, 0.8818, 0.2948, 0.5495, 0.3147, 0.4943,\n",
       "         0.8144, 0.1159, 0.4038, 0.4639, 0.0040, 0.1761], dtype=torch.float64),\n",
       " tensor([0.5379, 0.5211, 0.5878, 0.0760, 0.1249, 0.1942, 0.4801, 0.0805, 0.4220,\n",
       "         0.0561, 0.4866, 0.9112, 0.8969, 0.4629, 0.2414, 0.7545, 0.4939, 0.3432,\n",
       "         0.2913, 0.3338, 0.2736, 0.0606, 0.5901, 0.5977], dtype=torch.float64),\n",
       " tensor([0.8268, 0.0740, 0.0063, 0.4675, 0.1160, 0.1361, 0.2127, 0.6625, 0.1446,\n",
       "         0.7117, 0.3933, 0.3196, 0.8695, 0.9259, 0.6322, 0.2838, 0.8152, 0.3146,\n",
       "         0.7103, 0.8849, 0.0638, 0.2658, 0.1581, 0.6177], dtype=torch.float64)]"
      ]
     },
     "execution_count": 20,
     "metadata": {},
     "output_type": "execute_result"
    }
   ],
   "source": [
    "pi_optimal"
   ]
  },
  {
   "cell_type": "code",
   "execution_count": 36,
   "metadata": {},
   "outputs": [
    {
     "data": {
      "text/plain": [
       "tensor([ 0.0300, -0.6200, -0.2500, -0.3700,  0.0000, -0.3800, -0.5600,  0.2200,\n",
       "        -0.2700,  0.0000, -0.5000,  0.0100,  0.1300, -0.8800,  0.0200,  0.0000,\n",
       "         0.0000, -0.1500, -0.3100, -0.0700,  0.0300,  0.0200, -0.8100,  0.2000],\n",
       "       dtype=torch.float64, grad_fn=<RoundBackward1>)"
      ]
     },
     "execution_count": 36,
     "metadata": {},
     "output_type": "execute_result"
    }
   ],
   "source": [
    "torch.round(pi_g - pi_p, decimals=2)"
   ]
  },
  {
   "cell_type": "code",
   "execution_count": 40,
   "metadata": {},
   "outputs": [
    {
     "data": {
      "text/plain": [
       "tensor([[1.0000, 5.0000, 5.0000, 5.0000, 1.0000, 5.0000, 5.0000, 1.0000, 5.0000,\n",
       "         1.0000, 5.0000, 1.0000, 1.0000, 5.0000, 1.0000, 0.0100, 0.0100, 5.0000,\n",
       "         5.0000, 5.0000, 1.0000, 1.0000, 5.0000, 1.0000],\n",
       "        [4.0000, 0.0000, 0.0000, 0.0000, 4.0000, 0.0000, 0.0000, 4.0000, 0.0000,\n",
       "         4.0000, 0.0000, 4.0000, 4.0000, 0.0000, 4.0000, 4.9900, 4.9900, 0.0000,\n",
       "         0.0000, 0.0000, 4.0000, 4.0000, 0.0000, 4.0000],\n",
       "        [0.0000, 0.0000, 0.0000, 0.0000, 0.0000, 0.0000, 0.0000, 0.0000, 0.0000,\n",
       "         0.0000, 0.0000, 0.0000, 0.0000, 0.0000, 0.0000, 0.0000, 0.0000, 0.0000,\n",
       "         0.0000, 0.0000, 0.0000, 0.0000, 0.0000, 0.0000],\n",
       "        [0.0000, 0.0000, 0.0000, 0.0000, 0.0000, 0.0000, 0.0000, 0.0000, 0.0000,\n",
       "         0.0000, 0.0000, 0.0000, 0.0000, 0.0000, 0.0000, 0.0000, 0.0000, 0.0000,\n",
       "         0.0000, 0.0000, 0.0000, 0.0000, 0.0000, 0.0000],\n",
       "        [0.0000, 0.0000, 0.0000, 0.0000, 0.0000, 0.0000, 0.0000, 0.0000, 0.0000,\n",
       "         0.0000, 0.0000, 0.0000, 0.0000, 0.0000, 0.0000, 0.0000, 0.0000, 0.0000,\n",
       "         0.0000, 0.0000, 0.0000, 0.0000, 0.0000, 0.0000]], dtype=torch.float64,\n",
       "       grad_fn=<RoundBackward1>)"
      ]
     },
     "execution_count": 40,
     "metadata": {},
     "output_type": "execute_result"
    }
   ],
   "source": [
    "torch.round(d_star, decimals=2)"
   ]
  },
  {
   "cell_type": "markdown",
   "metadata": {},
   "source": [
    "#### Demand breakup on optimised prices"
   ]
  },
  {
   "cell_type": "code",
   "execution_count": 294,
   "metadata": {},
   "outputs": [],
   "source": [
    "pi = torch.stack([pi_g, pi_p, pi_s, pi_c, pi_d]).detach().numpy()"
   ]
  },
  {
   "cell_type": "code",
   "execution_count": 295,
   "metadata": {},
   "outputs": [],
   "source": [
    "d_break_nn = model(pi_g, pi_p, pi_s, pi_c, pi_d, d_t).detach().numpy()\n",
    "d_break, _ = GrU(d_t, pi, eta_c=eta, eta_d=eta)"
   ]
  },
  {
   "cell_type": "code",
   "execution_count": 296,
   "metadata": {},
   "outputs": [
    {
     "data": {
      "text/plain": [
       "[0.00016906086314523222, 0.00016906086314524837, 0.0, 0.0, 0.0]"
      ]
     },
     "execution_count": 296,
     "metadata": {},
     "output_type": "execute_result"
    }
   ],
   "source": [
    "evaluate(d_break, d_break_nn)[0]"
   ]
  },
  {
   "cell_type": "code",
   "execution_count": 297,
   "metadata": {},
   "outputs": [
    {
     "data": {
      "text/plain": [
       "array([[0., 0., 0., 0., 0., 0., 0., 0., 0., 0., 0., 0., 0., 0., 0., 0.,\n",
       "        0., 0., 0., 0., 0., 0., 0., 0.],\n",
       "       [1., 1., 1., 1., 1., 1., 1., 1., 1., 1., 1., 1., 1., 1., 1., 1.,\n",
       "        1., 1., 1., 1., 1., 1., 1., 1.],\n",
       "       [0., 0., 0., 0., 0., 0., 0., 0., 0., 0., 0., 0., 0., 0., 0., 0.,\n",
       "        0., 0., 0., 0., 0., 0., 0., 0.],\n",
       "       [0., 0., 0., 0., 0., 0., 0., 0., 0., 0., 0., 0., 0., 0., 0., 0.,\n",
       "        0., 0., 0., 0., 0., 0., 0., 0.],\n",
       "       [0., 0., 0., 0., 0., 0., 0., 0., 0., 0., 0., 0., 0., 0., 0., 0.,\n",
       "        0., 0., 0., 0., 0., 0., 0., 0.]])"
      ]
     },
     "execution_count": 297,
     "metadata": {},
     "output_type": "execute_result"
    }
   ],
   "source": [
    "d_break"
   ]
  },
  {
   "cell_type": "markdown",
   "metadata": {},
   "source": [
    "## Revenue Maximisation with Gradient Clipping"
   ]
  },
  {
   "cell_type": "markdown",
   "metadata": {},
   "source": [
    "1. No Curriculum Learning (for B). Init B at 10-20.\n",
    "2. Gradients clipped at 0, i.e., updates to price(s) are non-negative.\n",
    "3. Input price tensors are scaled to compensate for lower B.\n",
    "4. ExponentialLR performs better than ReduceLROnPlateau."
   ]
  },
  {
   "cell_type": "code",
   "execution_count": 298,
   "metadata": {},
   "outputs": [],
   "source": [
    "def total_loss(pi_g, pi_p, pi_s, pi_c, pi_d, d_star):\n",
    "    '''\n",
    "    Loss = -revenue\n",
    "    '''\n",
    "    # r_g = pi_g * d_star[source.grid]\n",
    "    r_p = pi_p * d_star[source.pv]\n",
    "    r_s = pi_s * d_star[source.storage]\n",
    "    r_c = pi_c * d_star[source.charge]\n",
    "    r_d = pi_d * d_star[source.discharge]\n",
    "\n",
    "    r_t = r_p + r_s + r_c + r_d\n",
    "    rev = torch.sum(r_t)\n",
    "\n",
    "    return -rev"
   ]
  },
  {
   "cell_type": "code",
   "execution_count": 810,
   "metadata": {},
   "outputs": [],
   "source": [
    "# Init model\n",
    "eta = 1\n",
    "B = 256\n",
    "scaler = 1\n",
    "\n",
    "model = neuralGrU(B, device, eta, eta).to(device)"
   ]
  },
  {
   "cell_type": "markdown",
   "metadata": {},
   "source": [
    "#### Input Data"
   ]
  },
  {
   "cell_type": "code",
   "execution_count": 823,
   "metadata": {},
   "outputs": [],
   "source": [
    "# prices = getPriceVectors(100) * scaler\n",
    "scaled_prices = prices * scaler\n",
    "\n",
    "# Random total demand tensor\n",
    "d_t = torch.ones(24, requires_grad=False, device=device)\n",
    "# d_t = torch.ones(24, requires_grad=False, device=device)\n",
    "\n",
    "# Price tensors\n",
    "pi_g = torch.tensor(scaled_prices[source.grid] + grid_shift, requires_grad=False, device=device)\n",
    "\n",
    "pi_p = torch.tensor(scaled_prices[source.pv],  requires_grad=True, device=device)\n",
    "pi_c = torch.tensor(scaled_prices[source.charge], requires_grad=True, device=device)\n",
    "pi_d = torch.tensor(scaled_prices[source.discharge], requires_grad=True, device=device)\n",
    "pi_s = torch.tensor(scaled_prices[source.storage], requires_grad=True, device=device)"
   ]
  },
  {
   "cell_type": "markdown",
   "metadata": {},
   "source": [
    "#### Optimization schedule"
   ]
  },
  {
   "cell_type": "code",
   "execution_count": 824,
   "metadata": {},
   "outputs": [
    {
     "name": "stderr",
     "output_type": "stream",
     "text": [
      "100%|██████████| 500/500 [00:03<00:00, 162.10it/s]\n"
     ]
    }
   ],
   "source": [
    "# Hyperparameter(s)\n",
    "learning_rate = 0.025\n",
    "epochs = 500\n",
    "\n",
    "history_grad_clip = []\n",
    "\n",
    "# Init optimizer & scheduler\n",
    "optimizer = torch.optim.Adam([pi_p, pi_s, pi_c, pi_d], lr=learning_rate)\n",
    "scheduler = torch.optim.lr_scheduler.ExponentialLR(optimizer, gamma=0.982)\n",
    "\n",
    "for t in trange(epochs):\n",
    "    # Compute prediction and loss\n",
    "    d_star = model(pi_g, pi_p, pi_s, pi_c, pi_d, d_t)\n",
    "    loss = total_loss(pi_g, pi_p, pi_s, pi_c, pi_d, d_star)\n",
    "\n",
    "    # Backpropagation\n",
    "    optimizer.zero_grad()\n",
    "    loss.backward()\n",
    "    \n",
    "    # Gradient Clipping\n",
    "    for p in [pi_p, pi_s, pi_c, pi_d]:\n",
    "        p.grad = -F.relu(-p.grad)\n",
    "\n",
    "    optimizer.step()\n",
    "    scheduler.step()\n",
    "\n",
    "    loss = loss.item()\n",
    "    history_grad_clip.append(loss / scaler)\n",
    "\n",
    "    # Curriculum Learning\n",
    "    if t % 10 == 0 and model.B < 1e4:\n",
    "        model.B *= 2\n",
    "\n",
    "    # if t % 100 == 0:\n",
    "    #     print(f\"Epoch {t+1}     loss: {loss:>7f}\")"
   ]
  },
  {
   "cell_type": "code",
   "execution_count": 825,
   "metadata": {},
   "outputs": [
    {
     "data": {
      "image/png": "[encoded data removed]",
      "text/plain": [
       "<Figure size 900x600 with 1 Axes>"
      ]
     },
     "metadata": {},
     "output_type": "display_data"
    }
   ],
   "source": [
    "plt.figure(figsize=(9,6))\n",
    "plt.plot(history, label='baseline')\n",
    "plt.plot(history_grad_clip, label='gradient clipping')\n",
    "plt.title('Revenue Maximization')\n",
    "plt.xlabel('Iterations')\n",
    "plt.ylabel('Loss')\n",
    "plt.legend()\n",
    "plt.show()"
   ]
  },
  {
   "cell_type": "code",
   "execution_count": 558,
   "metadata": {},
   "outputs": [
    {
     "data": {
      "text/plain": [
       "tensor(True)"
      ]
     },
     "execution_count": 558,
     "metadata": {},
     "output_type": "execute_result"
    }
   ],
   "source": [
    "(pi_g > pi_p).all()"
   ]
  },
  {
   "cell_type": "code",
   "execution_count": 826,
   "metadata": {},
   "outputs": [
    {
     "data": {
      "text/plain": [
       "tensor([ 0.3661,  1.8690,  0.5150, -0.0408, -0.0312,  0.8866,  0.1038,  0.3904,\n",
       "         1.3893,  0.8990,  0.1514,  1.9923,  0.6137,  0.7580,  0.5715,  0.3316,\n",
       "         0.6517, -0.0619,  0.7804,  0.6153,  0.7038,  1.8420,  1.2148,  0.4223],\n",
       "       dtype=torch.float64, grad_fn=<DivBackward0>)"
      ]
     },
     "execution_count": 826,
     "metadata": {},
     "output_type": "execute_result"
    }
   ],
   "source": [
    "(pi_g - pi_p) / scaler"
   ]
  },
  {
   "cell_type": "code",
   "execution_count": 827,
   "metadata": {},
   "outputs": [
    {
     "data": {
      "text/plain": [
       "array([[0., 0., 0., 1., 1., 0., 0., 0., 0., 0., 0., 0., 0., 0., 0., 0.,\n",
       "        0., 1., 0., 0., 0., 0., 0., 0.],\n",
       "       [1., 1., 1., 0., 0., 1., 1., 1., 1., 1., 1., 1., 1., 1., 1., 1.,\n",
       "        1., 0., 1., 1., 1., 1., 1., 1.],\n",
       "       [0., 0., 0., 0., 0., 0., 0., 0., 0., 0., 0., 0., 0., 0., 0., 0.,\n",
       "        0., 0., 0., 0., 0., 0., 0., 0.],\n",
       "       [0., 0., 0., 0., 0., 0., 0., 0., 0., 0., 0., 0., 0., 0., 0., 0.,\n",
       "        0., 0., 0., 0., 0., 0., 0., 0.],\n",
       "       [0., 0., 0., 0., 0., 0., 0., 0., 0., 0., 0., 0., 0., 0., 0., 0.,\n",
       "        0., 0., 0., 0., 0., 0., 0., 0.]])"
      ]
     },
     "execution_count": 827,
     "metadata": {},
     "output_type": "execute_result"
    }
   ],
   "source": [
    "np.round(d_star.detach().numpy())"
   ]
  },
  {
   "cell_type": "markdown",
   "metadata": {},
   "source": [
    "## Multi-agent Revenue Maximization"
   ]
  },
  {
   "cell_type": "code",
   "execution_count": 68,
   "metadata": {},
   "outputs": [],
   "source": [
    "def total_loss(pi_g, pi_p, pi_s, pi_c, pi_d, d_star):\n",
    "    '''\n",
    "    Loss = -revenue\n",
    "    '''\n",
    "    # r_g = pi_g * d_star[source.grid]\n",
    "    r_p = pi_p * d_star[source.pv]\n",
    "    r_s = pi_s * d_star[source.storage]\n",
    "    r_c = pi_c * d_star[source.charge]\n",
    "    r_d = pi_d * d_star[source.discharge]\n",
    "\n",
    "    r_t = r_p + r_s + r_c + r_d\n",
    "    rev = torch.sum(r_t)\n",
    "\n",
    "    return -rev\n",
    "\n",
    "\n",
    "def barrier_loss(C_g, C, epsilon, nan=1e3):\n",
    "    '''\n",
    "    Barrier function with barrier at C_g & sensitivity epsilon\n",
    "    '''\n",
    "    b = F.relu(-torch.log((C_g - C)/epsilon))\n",
    "\n",
    "    return torch.sum(b)"
   ]
  },
  {
   "cell_type": "code",
   "execution_count": 65,
   "metadata": {},
   "outputs": [],
   "source": [
    "prices = np.random.random((5, 24))\n",
    "\n",
    "# Total demand tensor\n",
    "d_t = torch.ones(24, requires_grad=False, device=device) * 2\n",
    "\n",
    "# Global constraint\n",
    "C_global = torch.ones(24, requires_grad=False, device=device) * 8\n",
    "\n",
    "# Price tensors\n",
    "pi_g = torch.tensor(prices[source.grid], requires_grad=False, device=device)\n",
    "\n",
    "pi_p = torch.tensor(prices[source.pv], requires_grad=True, device=device)\n",
    "pi_c = torch.tensor(prices[source.charge] * 1e3, requires_grad=True, device=device)\n",
    "pi_d = torch.tensor(prices[source.discharge] * 1e3, requires_grad=True, device=device)\n",
    "pi_s = torch.tensor(prices[source.storage] * 1e3, requires_grad=True, device=device)\n",
    "\n",
    "# EI tensor\n",
    "ep = [0.00044688, 0.00044796, 0.00045042, 0.00045573, 0.00046029, 0.00046002, 0.00045153, 0.00043737, 0.00042772, 0.00041107, 0.00040774, 0.00038668, 0.00037268, 0.00036565, 0.00036387, 0.00035763, 0.00034319, 0.00034377, 0.00035285, 0.00037902, 0.00039631, 0.00040366, 0.00039713, 0.00039088]\n",
    "ep_t = torch.tensor(ep, requires_grad=False, device=device) * 1e3"
   ]
  },
  {
   "cell_type": "code",
   "execution_count": 69,
   "metadata": {},
   "outputs": [
    {
     "name": "stderr",
     "output_type": "stream",
     "text": [
      "100%|██████████| 100/100 [01:08<00:00,  1.46it/s]\n"
     ]
    }
   ],
   "source": [
    "n_agents = 5\n",
    "gamma = [1, 2, 3, 4, 5]\n",
    "\n",
    "models = {i: neuralGrU(B=64).to(device) for i in range(n_agents)}\n",
    "d_star_n = torch.tensor(np.ndarray(shape=(n_agents, 5, 24)), device=device)\n",
    "C_n = torch.ones(size=(n_agents, 24), requires_grad=True, device=device)\n",
    "\n",
    "# Hyperparameter(s)\n",
    "learning_rate = 0.01\n",
    "epochs = 100\n",
    "epsilon = 0.1\n",
    "nan = 1e3\n",
    "\n",
    "history = []\n",
    "\n",
    "optimizer = torch.optim.Adam([pi_p, pi_s, pi_c, pi_d, C_n], lr=learning_rate)\n",
    "scheduler = torch.optim.lr_scheduler.ExponentialLR(optimizer, gamma=0.98)\n",
    "\n",
    "for t in trange(epochs):\n",
    "    for agent in range(n_agents):\n",
    "        # Update pi_g with EI\n",
    "        pi_g_ei = pi_g + gamma[agent] * ep_t\n",
    "        d_star_n[agent] = models[agent](pi_g_ei, pi_p, pi_s, pi_c, pi_d, d_t, C_p=C_n[agent].clone())\n",
    "\n",
    "    d_star_total = torch.sum(d_star_n, dim=0)\n",
    "    C = torch.sum(C_n, dim=0)\n",
    "\n",
    "    loss = total_loss(pi_g, pi_p, pi_s, pi_c, pi_d, d_star_total) + barrier_loss(C_global, C, epsilon, nan)\n",
    "\n",
    "    # Backpropagation\n",
    "    optimizer.zero_grad()\n",
    "    loss.backward(retain_graph=True)\n",
    "\n",
    "    # Optimisation\n",
    "    optimizer.step()\n",
    "    scheduler.step()\n",
    "\n",
    "    loss = loss.item()\n",
    "    history.append(loss)\n",
    "\n",
    "    # Curriculum Learning\n",
    "    for agent in range(n_agents):\n",
    "        if t % 10 == 0 and models[agent].B < 1e4:\n",
    "            models[agent].B *= 2"
   ]
  },
  {
   "cell_type": "code",
   "execution_count": 70,
   "metadata": {},
   "outputs": [
    {
     "data": {
      "image/png": "[encoded data removed]",
      "text/plain": [
       "<Figure size 648x432 with 1 Axes>"
      ]
     },
     "metadata": {
      "needs_background": "light"
     },
     "output_type": "display_data"
    }
   ],
   "source": [
    "plt.figure(figsize=(9,6))\n",
    "plt.plot(history)\n",
    "plt.title('Revenue Maximization')\n",
    "plt.xlabel('Iterations')\n",
    "plt.ylabel('Loss')\n",
    "plt.show()"
   ]
  },
  {
   "cell_type": "code",
   "execution_count": 71,
   "metadata": {},
   "outputs": [
    {
     "data": {
      "text/plain": [
       "tensor([0.9821, 0.7931, 1.1817, 0.5286, 0.4661, 0.6123, 0.9646, 0.4898, 0.7090,\n",
       "        1.4107, 1.2072, 1.4196, 0.7328, 0.9914, 0.9871, 0.4979, 1.3225, 0.5347,\n",
       "        0.8283, 0.5918, 0.9789, 0.9222, 0.6482, 0.5340], dtype=torch.float64,\n",
       "       requires_grad=True)"
      ]
     },
     "execution_count": 71,
     "metadata": {},
     "output_type": "execute_result"
    }
   ],
   "source": [
    "pi_p"
   ]
  },
  {
   "cell_type": "code",
   "execution_count": 72,
   "metadata": {},
   "outputs": [
    {
     "data": {
      "text/plain": [
       "tensor([2.2393, 1.7002, 1.6407, 2.0142, 1.3894, 2.2716, 2.3006, 1.3389, 1.5753,\n",
       "        2.1562, 1.9347, 2.0967, 1.4832, 1.3383, 1.6613, 1.5001, 2.0201, 1.4039,\n",
       "        1.1830, 1.7954, 1.8050, 1.3311, 2.0573, 1.3316], dtype=torch.float64)"
      ]
     },
     "execution_count": 72,
     "metadata": {},
     "output_type": "execute_result"
    }
   ],
   "source": [
    "ep_t * 3 + pi_g"
   ]
  },
  {
   "cell_type": "code",
   "execution_count": 77,
   "metadata": {},
   "outputs": [
    {
     "data": {
      "text/plain": [
       "tensor([-0.0835, -0.4368, -0.8922,  0.1183, -0.4575,  0.2793, -0.0186, -0.4630,\n",
       "        -0.4169, -0.4877, -0.4957, -0.4829, -0.3676, -0.7500, -0.4175, -0.0707,\n",
       "        -0.3319, -0.1621, -0.7038,  0.0665, -0.3628, -0.8021,  0.2178, -0.3751],\n",
       "       dtype=torch.float64, grad_fn=<SubBackward0>)"
      ]
     },
     "execution_count": 77,
     "metadata": {},
     "output_type": "execute_result"
    }
   ],
   "source": [
    "pi_g - pi_p"
   ]
  },
  {
   "cell_type": "markdown",
   "metadata": {},
   "source": [
    "### Local PV Constraint"
   ]
  },
  {
   "cell_type": "code",
   "execution_count": 78,
   "metadata": {},
   "outputs": [
    {
     "data": {
      "text/plain": [
       "tensor([[1.4654, 1.2945, 1.0000, 1.5081, 1.3214, 1.4938, 1.4661, 1.3364, 1.4508,\n",
       "         1.3948, 1.3808, 1.3688, 1.4533, 1.0000, 1.4255, 1.5144, 1.4557, 1.5069,\n",
       "         1.0000, 1.4968, 1.4655, 1.0000, 1.4890, 1.3181],\n",
       "        [1.4654, 1.4371, 1.4337, 1.5081, 1.4382, 1.4938, 1.4661, 1.4794, 1.4562,\n",
       "         1.4539, 1.4576, 1.4532, 1.4634, 1.3757, 1.4649, 1.5144, 1.4557, 1.5069,\n",
       "         1.3563, 1.4968, 1.4655, 1.4330, 1.4890, 1.4347],\n",
       "        [1.4654, 1.4371, 1.4474, 1.5081, 1.4382, 1.4938, 1.4661, 1.4794, 1.4562,\n",
       "         1.4539, 1.4576, 1.4532, 1.4634, 1.4404, 1.4649, 1.5144, 1.4557, 1.5069,\n",
       "         1.4384, 1.4968, 1.4655, 1.4447, 1.4890, 1.4347],\n",
       "        [1.4654, 1.4371, 1.4474, 1.5081, 1.4382, 1.4938, 1.4661, 1.4794, 1.4562,\n",
       "         1.4539, 1.4576, 1.4532, 1.4634, 1.4404, 1.4649, 1.5144, 1.4557, 1.5069,\n",
       "         1.4384, 1.4968, 1.4655, 1.4447, 1.4890, 1.4347],\n",
       "        [1.4654, 1.4371, 1.4474, 1.5081, 1.4382, 1.4938, 1.4661, 1.4794, 1.4562,\n",
       "         1.4539, 1.4576, 1.4532, 1.4634, 1.4404, 1.4649, 1.5144, 1.4557, 1.5069,\n",
       "         1.4384, 1.4968, 1.4655, 1.4447, 1.4890, 1.4347]], requires_grad=True)"
      ]
     },
     "execution_count": 78,
     "metadata": {},
     "output_type": "execute_result"
    }
   ],
   "source": [
    "C_n"
   ]
  },
  {
   "cell_type": "markdown",
   "metadata": {},
   "source": [
    "### Total PV demand of all agents"
   ]
  },
  {
   "cell_type": "code",
   "execution_count": 76,
   "metadata": {},
   "outputs": [
    {
     "data": {
      "text/plain": [
       "tensor([7.3190, 7.0358, 5.7703, 7.5319, 7.0671, 7.4603, 7.3227, 5.9115, 7.2686,\n",
       "        5.8095, 5.8242, 5.8069, 7.2994, 4.3171, 5.8533, 7.5632, 7.2711, 7.5258,\n",
       "        5.6657, 7.4755, 7.3197, 5.7616, 7.4367, 7.0499], dtype=torch.float64,\n",
       "       grad_fn=<SumBackward1>)"
      ]
     },
     "execution_count": 76,
     "metadata": {},
     "output_type": "execute_result"
    }
   ],
   "source": [
    "torch.sum(d_star_n[:, 1], dim=0)"
   ]
  },
  {
   "cell_type": "code",
   "execution_count": 75,
   "metadata": {},
   "outputs": [
    {
     "data": {
      "text/plain": [
       "tensor([[1.4600, 1.2900, 0.0000, 1.5100, 1.3200, 1.4900, 1.4600, 0.0000, 1.4500,\n",
       "         0.0000, 0.0000, 0.0000, 1.4500, 0.0000, 0.0000, 1.5100, 1.4500, 1.5100,\n",
       "         0.0000, 1.5000, 1.4600, 0.0000, 1.4900, 1.3200],\n",
       "        [1.4600, 1.4400, 1.4300, 1.5100, 1.4400, 1.4900, 1.4600, 1.4800, 1.4500,\n",
       "         1.4500, 1.4600, 1.4500, 1.4600, 0.0000, 1.4600, 1.5100, 1.4500, 1.5100,\n",
       "         1.3500, 1.5000, 1.4600, 1.4300, 1.4900, 1.4300],\n",
       "        [1.4600, 1.4400, 1.4500, 1.5100, 1.4400, 1.4900, 1.4600, 1.4800, 1.4500,\n",
       "         1.4500, 1.4600, 1.4500, 1.4600, 1.4400, 1.4600, 1.5100, 1.4500, 1.5100,\n",
       "         1.4400, 1.5000, 1.4600, 1.4400, 1.4900, 1.4300],\n",
       "        [1.4600, 1.4400, 1.4500, 1.5100, 1.4400, 1.4900, 1.4600, 1.4800, 1.4500,\n",
       "         1.4500, 1.4600, 1.4500, 1.4600, 1.4400, 1.4600, 1.5100, 1.4500, 1.5100,\n",
       "         1.4400, 1.5000, 1.4600, 1.4400, 1.4900, 1.4300],\n",
       "        [1.4600, 1.4400, 1.4500, 1.5100, 1.4400, 1.4900, 1.4600, 1.4800, 1.4500,\n",
       "         1.4500, 1.4600, 1.4500, 1.4600, 1.4400, 1.4600, 1.5100, 1.4500, 1.5100,\n",
       "         1.4400, 1.5000, 1.4600, 1.4400, 1.4900, 1.4300]], dtype=torch.float64,\n",
       "       grad_fn=<RoundBackward1>)"
      ]
     },
     "execution_count": 75,
     "metadata": {},
     "output_type": "execute_result"
    }
   ],
   "source": [
    "torch.round(d_star_n[:, 1], decimals=2)"
   ]
  },
  {
   "cell_type": "markdown",
   "metadata": {},
   "source": [
    "> PV demand of all 5 users"
   ]
  }
 ],
 "metadata": {
  "kernelspec": {
   "display_name": "Python 3.10.4 64-bit",
   "language": "python",
   "name": "python3"
  },
  "language_info": {
   "codemirror_mode": {
    "name": "ipython",
    "version": 3
   },
   "file_extension": ".py",
   "mimetype": "text/x-python",
   "name": "python",
   "nbconvert_exporter": "python",
   "pygments_lexer": "ipython3",
   "version": "3.8.10"
  },
  "orig_nbformat": 4,
  "vscode": {
   "interpreter": {
    "hash": "916dbcbb3f70747c44a77c7bcd40155683ae19c65e1c03b4aa3499c5328201f1"
   }
  }
 },
 "nbformat": 4,
 "nbformat_minor": 2
}
