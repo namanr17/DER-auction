{
 "cells": [
  {
   "cell_type": "code",
   "execution_count": 1,
   "metadata": {},
   "outputs": [],
   "source": [
    "%load_ext autoreload\n",
    "%autoreload 2 "
   ]
  },
  {
   "cell_type": "code",
   "execution_count": 2,
   "metadata": {},
   "outputs": [],
   "source": [
    "import torch\n",
    "import torch.nn as nn\n",
    "import torch.nn.functional as F\n",
    "\n",
    "from enum import IntEnum\n",
    "import numpy as np\n",
    "import pandas as pd\n",
    "import matplotlib.pyplot as plt\n",
    "\n",
    "from tqdm import trange\n",
    "from collections import defaultdict\n",
    "\n",
    "from GrU_nn import (gru_module_1, gru_module_2, gru_module_3, gru_module_4, neuralGrU)\n",
    "from GrU import (evaluate, GrU, getBestExporter, getCost)\n",
    "\n",
    "# device = torch.device(\"cuda\" if torch.cuda.is_available() else \"cpu\")\n",
    "device = torch.device(\"cpu\")"
   ]
  },
  {
   "cell_type": "markdown",
   "metadata": {},
   "source": [
    "### Load auction data"
   ]
  },
  {
   "cell_type": "code",
   "execution_count": 3,
   "metadata": {},
   "outputs": [],
   "source": [
    "class clock( IntEnum ):\n",
    "    pv = 0\n",
    "    storage = 1\n",
    "    charge = 2\n",
    "    discharge = 3\n",
    "\n",
    "class source( IntEnum ):\n",
    "    grid =  0\n",
    "    pv = 1\n",
    "    storage = 2\n",
    "    charge = 3\n",
    "    discharge = 4\n",
    "\n",
    "df_auctioneer_data = pd.read_csv('../data/Auctioneer Data.csv')\n",
    "\n",
    "headers = np.load(file='../data/clock_data_columns.npy', allow_pickle=True)\n",
    "df_clock_data = pd.DataFrame(np.load('../data/clock_data_values.npy', allow_pickle=True), columns=headers)\n",
    "\n",
    "def getPriceVectors(round):\n",
    "    '''\n",
    "    Get price vectors for a round from the clock data.\n",
    "\n",
    "    Parameters\n",
    "    ----------\n",
    "    round : int\n",
    "        Round number to get the price vectors for, range = [0, 308]\n",
    "\n",
    "    Returns\n",
    "    -------\n",
    "    prices : ndarray of shape (5, 24)\n",
    "        Price vectors for g, p, s, c, d.\n",
    "    \n",
    "    '''\n",
    "    prices = np.ndarray((5, 24))\n",
    "    prices[0] = df_auctioneer_data.GRID_PRICE.values\n",
    "    for e in clock:\n",
    "        prices[e + 1] = df_clock_data[f'price_{round}'][e]\n",
    "    return prices"
   ]
  },
  {
   "cell_type": "markdown",
   "metadata": {},
   "source": [
    "## Revenue Maximisation"
   ]
  },
  {
   "cell_type": "code",
   "execution_count": 302,
   "metadata": {},
   "outputs": [],
   "source": [
    "def total_loss(pi_g, pi_p, pi_s, pi_c, pi_d, d_star):\n",
    "    '''\n",
    "    Loss = -revenue\n",
    "    '''\n",
    "    # r_g = pi_g * d_star[source.grid]\n",
    "    r_p = pi_p * d_star[source.pv]\n",
    "    r_s = pi_s * d_star[source.storage]\n",
    "    r_c = pi_c * d_star[source.charge]\n",
    "    r_d = pi_d * d_star[source.discharge]\n",
    "\n",
    "    r_t = r_p + r_s + r_c + r_d\n",
    "    rev = torch.sum(r_t)\n",
    "\n",
    "    return -rev"
   ]
  },
  {
   "cell_type": "code",
   "execution_count": 319,
   "metadata": {},
   "outputs": [],
   "source": [
    "# Init model\n",
    "eta = 0.9487\n",
    "scaler = 1\n",
    "model = neuralGrU(B=64, eta_c=eta, eta_d=eta, alpha=1e3).to(device)"
   ]
  },
  {
   "cell_type": "markdown",
   "metadata": {},
   "source": [
    "#### Input Data"
   ]
  },
  {
   "cell_type": "code",
   "execution_count": 320,
   "metadata": {},
   "outputs": [],
   "source": [
    "# # Price vectors sampled from Normal Distribution(mu=0, sigma=1)\n",
    "# prices = np.abs(np.random.normal(loc=0, scale=1, size=(5, 24))) * scaler"
   ]
  },
  {
   "cell_type": "markdown",
   "metadata": {},
   "source": [
    "> Hyperparameters: lr = 0.125, gamma = 0.94, B = 5, scaler = 1, Curriculum Learning & ExponentialLR Scheduler"
   ]
  },
  {
   "cell_type": "code",
   "execution_count": 321,
   "metadata": {},
   "outputs": [],
   "source": [
    "# Price vectors sampled from Uniform Distribution [0, 1)\n",
    "prices = np.random.random(size=(5, 24)) * scaler"
   ]
  },
  {
   "cell_type": "markdown",
   "metadata": {},
   "source": [
    "> Hyperparameters: lr = 0.1, gamma = 0.94, B = 5, scaler = 1, Curriculum Learning & ExponentialLR Scheduler"
   ]
  },
  {
   "cell_type": "code",
   "execution_count": 322,
   "metadata": {},
   "outputs": [],
   "source": [
    "# # Price vectors from Auction Data\n",
    "# prices = getPriceVectors(300) * scaler"
   ]
  },
  {
   "cell_type": "markdown",
   "metadata": {},
   "source": [
    "> Hyperparameters: lr = 1, gamma = 0.92, B = 1, scaler = 1 Curriculum Learning & ExponentialLR Scheduler"
   ]
  },
  {
   "cell_type": "code",
   "execution_count": 329,
   "metadata": {},
   "outputs": [],
   "source": [
    "# Total demand tensor (Unit)\n",
    "d_t = torch.ones(24, requires_grad=False, device=device) * 10\n",
    "# d_t = torch.ones(24, requires_grad=False, device=device)\n",
    "\n",
    "# Cap tensor\n",
    "C_p = torch.ones(24, requires_grad=False) * 4\n",
    "C_d = torch.ones(24, requires_grad=False) * 4\n",
    "\n",
    "grid_shift = 0\n",
    "\n",
    "# Price tensors\n",
    "pi_g = torch.tensor(prices[source.grid] + grid_shift, requires_grad=False, device=device)\n",
    "\n",
    "pi_p = torch.tensor(prices[source.pv],  requires_grad=True, device=device)\n",
    "pi_c = torch.tensor(prices[source.charge], requires_grad=True, device=device)\n",
    "pi_d = torch.tensor(prices[source.discharge], requires_grad=True, device=device)\n",
    "pi_s = torch.tensor(prices[source.storage], requires_grad=True, device=device)"
   ]
  },
  {
   "cell_type": "markdown",
   "metadata": {},
   "source": [
    "#### Optimisation schedule"
   ]
  },
  {
   "cell_type": "code",
   "execution_count": 330,
   "metadata": {},
   "outputs": [
    {
     "name": "stderr",
     "output_type": "stream",
     "text": [
      "100%|██████████| 500/500 [00:03<00:00, 155.70it/s]\n"
     ]
    }
   ],
   "source": [
    "# Hyperparameter(s)\n",
    "learning_rate = 0.008\n",
    "epochs = 500\n",
    "\n",
    "history = []\n",
    "best_loss = 0\n",
    "\n",
    "# Init optimizer & scheduler\n",
    "optimizer = torch.optim.Adam([pi_p, pi_s, pi_c, pi_d], lr=learning_rate)\n",
    "scheduler = torch.optim.lr_scheduler.ExponentialLR(optimizer, gamma=0.98)\n",
    "\n",
    "for t in trange(epochs):\n",
    "    # Compute prediction and loss\n",
    "    d_star = model(pi_g, pi_p, pi_s, pi_c, pi_d, d_t, C_p=C_p, C_d=C_d)\n",
    "    loss = total_loss(pi_g, pi_p, pi_s, pi_c, pi_d, d_star)\n",
    "\n",
    "    # Backpropagation\n",
    "    optimizer.zero_grad()\n",
    "    loss.backward()\n",
    "\n",
    "    # Optimisation\n",
    "    optimizer.step()\n",
    "    scheduler.step()\n",
    "\n",
    "    loss = loss.item()\n",
    "    history.append(loss / scaler)\n",
    "\n",
    "    if loss < best_loss:\n",
    "        pi_optimal, best_loss = [], loss\n",
    "        for pi in pi_p, pi_s, pi_c, pi_d:\n",
    "            pi_optimal.append(pi.clone().detach())\n",
    "\n",
    "    # Curriculum Learning\n",
    "    if t % 10 == 0 and model.B < 1e4:\n",
    "        model.B *= 2\n",
    "\n",
    "    # if t % 100 == 0:\n",
    "    #     print(f\"Epoch {t+1}     loss: {loss:>7f}\")"
   ]
  },
  {
   "cell_type": "code",
   "execution_count": 331,
   "metadata": {},
   "outputs": [
    {
     "data": {
      "image/png": "[encoded data removed]",
      "text/plain": [
       "<Figure size 900x600 with 1 Axes>"
      ]
     },
     "metadata": {},
     "output_type": "display_data"
    }
   ],
   "source": [
    "plt.figure(figsize=(9,6))\n",
    "plt.plot(history, label='loss')\n",
    "plt.title('Revenue Maximization')\n",
    "plt.xlabel('Iterations')\n",
    "plt.ylabel('Loss')\n",
    "plt.show()"
   ]
  },
  {
   "cell_type": "code",
   "execution_count": 326,
   "metadata": {},
   "outputs": [
    {
     "data": {
      "text/plain": [
       "(-36.84369274578628, -25.56480259128698)"
      ]
     },
     "execution_count": 326,
     "metadata": {},
     "output_type": "execute_result"
    }
   ],
   "source": [
    "best_loss, loss"
   ]
  },
  {
   "cell_type": "code",
   "execution_count": 327,
   "metadata": {},
   "outputs": [
    {
     "data": {
      "text/plain": [
       "[tensor([0.1298, 0.6046, 0.5676, 0.7235, 0.5925, 0.1835, 0.4189, 0.5805, 0.2074,\n",
       "         0.8885, 0.0035, 0.6942, 0.7595, 0.3683, 0.7788, 0.4411, 0.2036, 0.5173,\n",
       "         0.7164, 0.5659, 0.4751, 0.4370, 0.5996, 0.1494], dtype=torch.float64),\n",
       " tensor([0.2396, 0.5072, 0.9935, 0.4365, 0.0668, 0.3032, 0.2514, 0.7157, 0.6962,\n",
       "         0.5239, 0.1585, 0.5176, 0.2095, 0.0749, 0.8435, 0.4802, 0.4893, 0.6847,\n",
       "         0.2766, 0.9554, 0.8167, 0.6713, 0.4329, 0.3005], dtype=torch.float64),\n",
       " tensor([0.8451, 0.7723, 0.7146, 0.6762, 0.2383, 0.7444, 0.2601, 0.6654, 0.9333,\n",
       "         0.6916, 0.3301, 0.3770, 0.1522, 0.3395, 0.6053, 0.2462, 0.1033, 0.5383,\n",
       "         0.4248, 0.0330, 0.7542, 0.2592, 0.3886, 0.2563], dtype=torch.float64),\n",
       " tensor([0.6297, 0.9055, 0.7472, 0.4696, 0.2925, 0.7462, 0.2819, 0.2846, 0.5693,\n",
       "         0.3374, 0.2732, 0.7765, 0.8554, 0.1545, 0.6107, 0.4099, 0.5327, 0.8424,\n",
       "         0.4230, 0.4828, 0.5798, 0.5730, 0.2766, 0.4032], dtype=torch.float64)]"
      ]
     },
     "execution_count": 327,
     "metadata": {},
     "output_type": "execute_result"
    }
   ],
   "source": [
    "pi_optimal"
   ]
  },
  {
   "cell_type": "code",
   "execution_count": 36,
   "metadata": {},
   "outputs": [
    {
     "data": {
      "text/plain": [
       "tensor([ 0.0300, -0.6200, -0.2500, -0.3700,  0.0000, -0.3800, -0.5600,  0.2200,\n",
       "        -0.2700,  0.0000, -0.5000,  0.0100,  0.1300, -0.8800,  0.0200,  0.0000,\n",
       "         0.0000, -0.1500, -0.3100, -0.0700,  0.0300,  0.0200, -0.8100,  0.2000],\n",
       "       dtype=torch.float64, grad_fn=<RoundBackward1>)"
      ]
     },
     "execution_count": 36,
     "metadata": {},
     "output_type": "execute_result"
    }
   ],
   "source": [
    "torch.round(pi_g - pi_p, decimals=2)"
   ]
  },
  {
   "cell_type": "code",
   "execution_count": 332,
   "metadata": {},
   "outputs": [
    {
     "data": {
      "text/plain": [
       "tensor([[10.,  6., 10., 10., 10., 10.,  6.,  6., 10., 10., 10., 10., 10.,  6.,\n",
       "         10., 10., 10., 10., 10., 10.,  6.,  6.,  6., 10.],\n",
       "        [ 0.,  4.,  0.,  0.,  0.,  0.,  4.,  4.,  0.,  0.,  0.,  0.,  0.,  4.,\n",
       "          0.,  0.,  0.,  0.,  0.,  0.,  4.,  4.,  4.,  0.],\n",
       "        [ 0.,  0.,  0.,  0.,  0.,  0.,  0.,  0.,  0.,  0.,  0.,  0.,  0.,  0.,\n",
       "          0.,  0.,  0.,  0.,  0.,  0.,  0.,  0.,  0.,  0.],\n",
       "        [ 0.,  0.,  0.,  0.,  0.,  0.,  0.,  0.,  0.,  0.,  0.,  0.,  0.,  0.,\n",
       "          0.,  0.,  0.,  0.,  0.,  0.,  0.,  0.,  0.,  0.],\n",
       "        [ 0.,  0.,  0.,  0.,  0.,  0.,  0.,  0.,  0.,  0.,  0.,  0.,  0.,  0.,\n",
       "          0.,  0.,  0.,  0.,  0.,  0.,  0.,  0.,  0.,  0.]],\n",
       "       dtype=torch.float64, grad_fn=<RoundBackward1>)"
      ]
     },
     "execution_count": 332,
     "metadata": {},
     "output_type": "execute_result"
    }
   ],
   "source": [
    "torch.round(d_star, decimals=2)"
   ]
  },
  {
   "cell_type": "code",
   "execution_count": 335,
   "metadata": {},
   "outputs": [
    {
     "data": {
      "text/plain": [
       "tensor([[10.,  6., 10., 10., 10., 10.,  6.,  6., 10., 10., 10., 10., 10.,  6.,\n",
       "         10.,  6., 10.,  6., 10.,  6.,  6.,  6.,  6., 10.],\n",
       "        [ 0.,  4.,  0.,  0.,  0.,  0.,  4.,  4.,  0.,  0.,  0.,  0.,  0.,  4.,\n",
       "          0.,  4.,  0.,  4.,  0.,  4.,  4.,  4.,  4.,  0.],\n",
       "        [ 0.,  0.,  0.,  0.,  0.,  0.,  0.,  0.,  0.,  0.,  0.,  0.,  0.,  0.,\n",
       "          0.,  0.,  0.,  0.,  0.,  0.,  0.,  0.,  0.,  0.],\n",
       "        [ 0.,  0.,  0.,  0.,  0.,  0.,  0.,  0.,  0.,  0.,  0.,  0.,  0.,  0.,\n",
       "          0.,  0.,  0.,  0.,  0.,  0.,  0.,  0.,  0.,  0.],\n",
       "        [ 0.,  0.,  0.,  0.,  0.,  0.,  0.,  0.,  0.,  0.,  0.,  0.,  0.,  0.,\n",
       "          0.,  0.,  0.,  0.,  0.,  0.,  0.,  0.,  0.,  0.]],\n",
       "       dtype=torch.float64, grad_fn=<RoundBackward1>)"
      ]
     },
     "execution_count": 335,
     "metadata": {},
     "output_type": "execute_result"
    }
   ],
   "source": [
    "pi_p, pi_s, pi_c, pi_d = pi_optimal\n",
    "model(pi_g, pi_p, pi_s, pi_c, pi_d, d_t, C_p=C_p, C_d=C_d).round(decimals=3)"
   ]
  },
  {
   "cell_type": "markdown",
   "metadata": {},
   "source": [
    "#### Demand breakup on optimised prices"
   ]
  },
  {
   "cell_type": "code",
   "execution_count": 336,
   "metadata": {},
   "outputs": [],
   "source": [
    "pi = torch.stack([pi_g, pi_p, pi_s, pi_c, pi_d]).detach().numpy()"
   ]
  },
  {
   "cell_type": "code",
   "execution_count": 337,
   "metadata": {},
   "outputs": [],
   "source": [
    "d_break_nn = model(pi_g, pi_p, pi_s, pi_c, pi_d, d_t).detach().numpy()\n",
    "d_break, _ = GrU(d_t, pi, eta_c=eta, eta_d=eta)"
   ]
  },
  {
   "cell_type": "code",
   "execution_count": 338,
   "metadata": {},
   "outputs": [
    {
     "data": {
      "text/plain": [
       "[1.0186518295540736e-11, 1.0186483285313914e-11, 0.0, 0.0, 0.0]"
      ]
     },
     "execution_count": 338,
     "metadata": {},
     "output_type": "execute_result"
    }
   ],
   "source": [
    "evaluate(d_break, d_break_nn)[0]"
   ]
  },
  {
   "cell_type": "code",
   "execution_count": 343,
   "metadata": {},
   "outputs": [
    {
     "data": {
      "text/plain": [
       "array([[ 0.00000000e+000,  0.00000000e+000,  0.00000000e+000,\n",
       "         0.00000000e+000,  0.00000000e+000,  0.00000000e+000,\n",
       "         0.00000000e+000,  0.00000000e+000,  0.00000000e+000,\n",
       "        -2.44476439e-010,  0.00000000e+000,  0.00000000e+000,\n",
       "         0.00000000e+000,  0.00000000e+000,  0.00000000e+000,\n",
       "         8.28616997e-124,  0.00000000e+000,  0.00000000e+000,\n",
       "         0.00000000e+000,  0.00000000e+000,  0.00000000e+000,\n",
       "         0.00000000e+000,  0.00000000e+000,  0.00000000e+000],\n",
       "       [ 0.00000000e+000,  0.00000000e+000,  0.00000000e+000,\n",
       "         0.00000000e+000,  0.00000000e+000,  0.00000000e+000,\n",
       "         0.00000000e+000,  0.00000000e+000,  0.00000000e+000,\n",
       "         2.44475599e-010,  0.00000000e+000,  0.00000000e+000,\n",
       "         0.00000000e+000,  0.00000000e+000,  0.00000000e+000,\n",
       "         0.00000000e+000,  0.00000000e+000,  0.00000000e+000,\n",
       "         0.00000000e+000,  0.00000000e+000,  0.00000000e+000,\n",
       "         0.00000000e+000,  0.00000000e+000,  0.00000000e+000],\n",
       "       [ 0.00000000e+000,  0.00000000e+000,  0.00000000e+000,\n",
       "         0.00000000e+000,  0.00000000e+000,  0.00000000e+000,\n",
       "         0.00000000e+000,  0.00000000e+000,  0.00000000e+000,\n",
       "         0.00000000e+000,  0.00000000e+000,  0.00000000e+000,\n",
       "         0.00000000e+000,  0.00000000e+000,  0.00000000e+000,\n",
       "         0.00000000e+000,  0.00000000e+000,  0.00000000e+000,\n",
       "         0.00000000e+000,  0.00000000e+000,  0.00000000e+000,\n",
       "         0.00000000e+000,  0.00000000e+000,  0.00000000e+000],\n",
       "       [ 0.00000000e+000,  0.00000000e+000,  0.00000000e+000,\n",
       "         0.00000000e+000,  0.00000000e+000,  0.00000000e+000,\n",
       "         0.00000000e+000,  0.00000000e+000,  0.00000000e+000,\n",
       "         0.00000000e+000,  0.00000000e+000,  0.00000000e+000,\n",
       "         0.00000000e+000,  0.00000000e+000,  0.00000000e+000,\n",
       "         0.00000000e+000,  0.00000000e+000,  0.00000000e+000,\n",
       "         0.00000000e+000,  0.00000000e+000,  0.00000000e+000,\n",
       "         0.00000000e+000,  0.00000000e+000,  0.00000000e+000],\n",
       "       [ 0.00000000e+000,  0.00000000e+000,  0.00000000e+000,\n",
       "         0.00000000e+000,  0.00000000e+000,  0.00000000e+000,\n",
       "         0.00000000e+000,  0.00000000e+000,  0.00000000e+000,\n",
       "         0.00000000e+000,  0.00000000e+000,  0.00000000e+000,\n",
       "         0.00000000e+000,  0.00000000e+000,  0.00000000e+000,\n",
       "         0.00000000e+000,  0.00000000e+000,  0.00000000e+000,\n",
       "         0.00000000e+000,  0.00000000e+000,  0.00000000e+000,\n",
       "         0.00000000e+000,  0.00000000e+000,  0.00000000e+000]])"
      ]
     },
     "execution_count": 343,
     "metadata": {},
     "output_type": "execute_result"
    }
   ],
   "source": [
    "d_break_nn - d_break"
   ]
  },
  {
   "cell_type": "code",
   "execution_count": 339,
   "metadata": {},
   "outputs": [
    {
     "data": {
      "text/plain": [
       "array([[10.,  0., 10., 10., 10., 10.,  0.,  0., 10., 10., 10., 10., 10.,\n",
       "         0., 10.,  0., 10.,  0., 10.,  0.,  0.,  0.,  0., 10.],\n",
       "       [ 0., 10.,  0.,  0.,  0.,  0., 10., 10.,  0.,  0.,  0.,  0.,  0.,\n",
       "        10.,  0., 10.,  0., 10.,  0., 10., 10., 10., 10.,  0.],\n",
       "       [ 0.,  0.,  0.,  0.,  0.,  0.,  0.,  0.,  0.,  0.,  0.,  0.,  0.,\n",
       "         0.,  0.,  0.,  0.,  0.,  0.,  0.,  0.,  0.,  0.,  0.],\n",
       "       [ 0.,  0.,  0.,  0.,  0.,  0.,  0.,  0.,  0.,  0.,  0.,  0.,  0.,\n",
       "         0.,  0.,  0.,  0.,  0.,  0.,  0.,  0.,  0.,  0.,  0.],\n",
       "       [ 0.,  0.,  0.,  0.,  0.,  0.,  0.,  0.,  0.,  0.,  0.,  0.,  0.,\n",
       "         0.,  0.,  0.,  0.,  0.,  0.,  0.,  0.,  0.,  0.,  0.]])"
      ]
     },
     "execution_count": 339,
     "metadata": {},
     "output_type": "execute_result"
    }
   ],
   "source": [
    "d_break"
   ]
  },
  {
   "cell_type": "markdown",
   "metadata": {},
   "source": [
    "## Revenue Maximisation with Gradient Clipping"
   ]
  },
  {
   "cell_type": "markdown",
   "metadata": {},
   "source": [
    "1. No Curriculum Learning (for B). Init B at 10-20.\n",
    "2. Gradients clipped at 0, i.e., updates to price(s) are non-negative.\n",
    "3. Input price tensors are scaled to compensate for lower B.\n",
    "4. ExponentialLR performs better than ReduceLROnPlateau."
   ]
  },
  {
   "cell_type": "code",
   "execution_count": 298,
   "metadata": {},
   "outputs": [],
   "source": [
    "def total_loss(pi_g, pi_p, pi_s, pi_c, pi_d, d_star):\n",
    "    '''\n",
    "    Loss = -revenue\n",
    "    '''\n",
    "    # r_g = pi_g * d_star[source.grid]\n",
    "    r_p = pi_p * d_star[source.pv]\n",
    "    r_s = pi_s * d_star[source.storage]\n",
    "    r_c = pi_c * d_star[source.charge]\n",
    "    r_d = pi_d * d_star[source.discharge]\n",
    "\n",
    "    r_t = r_p + r_s + r_c + r_d\n",
    "    rev = torch.sum(r_t)\n",
    "\n",
    "    return -rev"
   ]
  },
  {
   "cell_type": "code",
   "execution_count": 810,
   "metadata": {},
   "outputs": [],
   "source": [
    "# Init model\n",
    "eta = 1\n",
    "B = 256\n",
    "scaler = 1\n",
    "\n",
    "model = neuralGrU(B, device, eta, eta).to(device)"
   ]
  },
  {
   "cell_type": "markdown",
   "metadata": {},
   "source": [
    "#### Input Data"
   ]
  },
  {
   "cell_type": "code",
   "execution_count": 823,
   "metadata": {},
   "outputs": [],
   "source": [
    "# prices = getPriceVectors(100) * scaler\n",
    "scaled_prices = prices * scaler\n",
    "\n",
    "# Random total demand tensor\n",
    "d_t = torch.ones(24, requires_grad=False, device=device)\n",
    "# d_t = torch.ones(24, requires_grad=False, device=device)\n",
    "\n",
    "# Price tensors\n",
    "pi_g = torch.tensor(scaled_prices[source.grid] + grid_shift, requires_grad=False, device=device)\n",
    "\n",
    "pi_p = torch.tensor(scaled_prices[source.pv],  requires_grad=True, device=device)\n",
    "pi_c = torch.tensor(scaled_prices[source.charge], requires_grad=True, device=device)\n",
    "pi_d = torch.tensor(scaled_prices[source.discharge], requires_grad=True, device=device)\n",
    "pi_s = torch.tensor(scaled_prices[source.storage], requires_grad=True, device=device)"
   ]
  },
  {
   "cell_type": "markdown",
   "metadata": {},
   "source": [
    "#### Optimization schedule"
   ]
  },
  {
   "cell_type": "code",
   "execution_count": 824,
   "metadata": {},
   "outputs": [
    {
     "name": "stderr",
     "output_type": "stream",
     "text": [
      "100%|██████████| 500/500 [00:03<00:00, 162.10it/s]\n"
     ]
    }
   ],
   "source": [
    "# Hyperparameter(s)\n",
    "learning_rate = 0.025\n",
    "epochs = 500\n",
    "\n",
    "history_grad_clip = []\n",
    "\n",
    "# Init optimizer & scheduler\n",
    "optimizer = torch.optim.Adam([pi_p, pi_s, pi_c, pi_d], lr=learning_rate)\n",
    "scheduler = torch.optim.lr_scheduler.ExponentialLR(optimizer, gamma=0.982)\n",
    "\n",
    "for t in trange(epochs):\n",
    "    # Compute prediction and loss\n",
    "    d_star = model(pi_g, pi_p, pi_s, pi_c, pi_d, d_t)\n",
    "    loss = total_loss(pi_g, pi_p, pi_s, pi_c, pi_d, d_star)\n",
    "\n",
    "    # Backpropagation\n",
    "    optimizer.zero_grad()\n",
    "    loss.backward()\n",
    "    \n",
    "    # Gradient Clipping\n",
    "    for p in [pi_p, pi_s, pi_c, pi_d]:\n",
    "        p.grad = -F.relu(-p.grad)\n",
    "\n",
    "    optimizer.step()\n",
    "    scheduler.step()\n",
    "\n",
    "    loss = loss.item()\n",
    "    history_grad_clip.append(loss / scaler)\n",
    "\n",
    "    # Curriculum Learning\n",
    "    if t % 10 == 0 and model.B < 1e4:\n",
    "        model.B *= 2\n",
    "\n",
    "    # if t % 100 == 0:\n",
    "    #     print(f\"Epoch {t+1}     loss: {loss:>7f}\")"
   ]
  },
  {
   "cell_type": "code",
   "execution_count": 825,
   "metadata": {},
   "outputs": [
    {
     "data": {
      "image/png": "[encoded data removed]",
      "text/plain": [
       "<Figure size 900x600 with 1 Axes>"
      ]
     },
     "metadata": {},
     "output_type": "display_data"
    }
   ],
   "source": [
    "plt.figure(figsize=(9,6))\n",
    "plt.plot(history, label='baseline')\n",
    "plt.plot(history_grad_clip, label='gradient clipping')\n",
    "plt.title('Revenue Maximization')\n",
    "plt.xlabel('Iterations')\n",
    "plt.ylabel('Loss')\n",
    "plt.legend()\n",
    "plt.show()"
   ]
  },
  {
   "cell_type": "code",
   "execution_count": 558,
   "metadata": {},
   "outputs": [
    {
     "data": {
      "text/plain": [
       "tensor(True)"
      ]
     },
     "execution_count": 558,
     "metadata": {},
     "output_type": "execute_result"
    }
   ],
   "source": [
    "(pi_g > pi_p).all()"
   ]
  },
  {
   "cell_type": "code",
   "execution_count": 826,
   "metadata": {},
   "outputs": [
    {
     "data": {
      "text/plain": [
       "tensor([ 0.3661,  1.8690,  0.5150, -0.0408, -0.0312,  0.8866,  0.1038,  0.3904,\n",
       "         1.3893,  0.8990,  0.1514,  1.9923,  0.6137,  0.7580,  0.5715,  0.3316,\n",
       "         0.6517, -0.0619,  0.7804,  0.6153,  0.7038,  1.8420,  1.2148,  0.4223],\n",
       "       dtype=torch.float64, grad_fn=<DivBackward0>)"
      ]
     },
     "execution_count": 826,
     "metadata": {},
     "output_type": "execute_result"
    }
   ],
   "source": [
    "(pi_g - pi_p) / scaler"
   ]
  },
  {
   "cell_type": "code",
   "execution_count": 827,
   "metadata": {},
   "outputs": [
    {
     "data": {
      "text/plain": [
       "array([[0., 0., 0., 1., 1., 0., 0., 0., 0., 0., 0., 0., 0., 0., 0., 0.,\n",
       "        0., 1., 0., 0., 0., 0., 0., 0.],\n",
       "       [1., 1., 1., 0., 0., 1., 1., 1., 1., 1., 1., 1., 1., 1., 1., 1.,\n",
       "        1., 0., 1., 1., 1., 1., 1., 1.],\n",
       "       [0., 0., 0., 0., 0., 0., 0., 0., 0., 0., 0., 0., 0., 0., 0., 0.,\n",
       "        0., 0., 0., 0., 0., 0., 0., 0.],\n",
       "       [0., 0., 0., 0., 0., 0., 0., 0., 0., 0., 0., 0., 0., 0., 0., 0.,\n",
       "        0., 0., 0., 0., 0., 0., 0., 0.],\n",
       "       [0., 0., 0., 0., 0., 0., 0., 0., 0., 0., 0., 0., 0., 0., 0., 0.,\n",
       "        0., 0., 0., 0., 0., 0., 0., 0.]])"
      ]
     },
     "execution_count": 827,
     "metadata": {},
     "output_type": "execute_result"
    }
   ],
   "source": [
    "np.round(d_star.detach().numpy())"
   ]
  },
  {
   "cell_type": "markdown",
   "metadata": {},
   "source": [
    "## Multi-agent Revenue Maximization"
   ]
  },
  {
   "cell_type": "code",
   "execution_count": 284,
   "metadata": {},
   "outputs": [],
   "source": [
    "def total_loss(pi_g, pi_p, pi_s, pi_c, pi_d, d_star):\n",
    "    '''\n",
    "    Loss = -revenue\n",
    "    '''\n",
    "    # r_g = pi_g * d_star[source.grid]\n",
    "    r_p = pi_p * d_star[source.pv]\n",
    "    r_s = pi_s * d_star[source.storage]\n",
    "    r_c = pi_c * d_star[source.charge]\n",
    "    r_d = pi_d * d_star[source.discharge]\n",
    "\n",
    "    r_t = r_p + r_s + r_c + r_d\n",
    "    rev = torch.sum(r_t)\n",
    "\n",
    "    return -rev\n",
    "\n",
    "\n",
    "def barrier_loss(C_g, C, epsilon, nan=1e3):\n",
    "    '''\n",
    "    Barrier function with barrier at C_g & sensitivity epsilon\n",
    "    '''\n",
    "    b = F.relu(-torch.log((C_g - C)/epsilon))\n",
    "\n",
    "    return torch.sum(b)"
   ]
  },
  {
   "cell_type": "code",
   "execution_count": 285,
   "metadata": {},
   "outputs": [],
   "source": [
    "prices = np.random.random((5, 24))\n",
    "\n",
    "# Total demand tensor\n",
    "d_t = torch.ones(24, requires_grad=False, device=device) * 2\n",
    "\n",
    "# Global constraint\n",
    "C_global = torch.ones(24, requires_grad=False, device=device) * 8\n",
    "\n",
    "# Price tensors\n",
    "pi_g = torch.tensor(prices[source.grid], requires_grad=False, device=device)\n",
    "\n",
    "pi_p = torch.tensor(prices[source.pv], requires_grad=True, device=device)\n",
    "pi_c = torch.tensor(prices[source.charge] * 1e3, requires_grad=True, device=device)\n",
    "pi_d = torch.tensor(prices[source.discharge] * 1e3, requires_grad=True, device=device)\n",
    "pi_s = torch.tensor(prices[source.storage] * 1e3, requires_grad=True, device=device)\n",
    "\n",
    "# EI tensor\n",
    "ep = [0.00044688, 0.00044796, 0.00045042, 0.00045573, 0.00046029, 0.00046002, 0.00045153, 0.00043737, 0.00042772, 0.00041107, 0.00040774, 0.00038668, 0.00037268, 0.00036565, 0.00036387, 0.00035763, 0.00034319, 0.00034377, 0.00035285, 0.00037902, 0.00039631, 0.00040366, 0.00039713, 0.00039088]\n",
    "ep_t = torch.tensor(ep, requires_grad=False, device=device) * 1e3"
   ]
  },
  {
   "cell_type": "code",
   "execution_count": 286,
   "metadata": {},
   "outputs": [
    {
     "name": "stderr",
     "output_type": "stream",
     "text": [
      "100%|██████████| 500/500 [37:53<00:00,  4.55s/it]\n"
     ]
    }
   ],
   "source": [
    "n_agents = 5\n",
    "gamma = [1, 2, 3, 4, 5]\n",
    "\n",
    "models = {i: neuralGrU(B=64).to(device) for i in range(n_agents)}\n",
    "d_star_n = torch.tensor(np.ndarray(shape=(n_agents, 5, 24)), device=device)\n",
    "C_n = torch.ones(size=(n_agents, 24), requires_grad=True, device=device)\n",
    "\n",
    "# Hyperparameter(s)\n",
    "learning_rate = 0.01\n",
    "epochs = 500\n",
    "epsilon = 0.1\n",
    "nan = 1e3\n",
    "\n",
    "history = []\n",
    "\n",
    "optimizer = torch.optim.Adam([pi_p, pi_s, pi_c, pi_d, C_n], lr=learning_rate)\n",
    "scheduler = torch.optim.lr_scheduler.ExponentialLR(optimizer, gamma=0.98)\n",
    "\n",
    "for t in trange(epochs):\n",
    "    for agent in range(n_agents):\n",
    "        # Update pi_g with EI\n",
    "        pi_g_ei = pi_g + gamma[agent] * ep_t\n",
    "        d_star_n[agent] = models[agent](pi_g_ei, pi_p, pi_s, pi_c, pi_d, d_t, C_p=C_n[agent].clone())\n",
    "\n",
    "    d_star_total = torch.sum(d_star_n, dim=0)\n",
    "    C = torch.sum(C_n, dim=0)\n",
    "\n",
    "    loss = total_loss(pi_g, pi_p, pi_s, pi_c, pi_d, d_star_total) + barrier_loss(C_global, C, epsilon, nan)\n",
    "\n",
    "    # Backpropagation\n",
    "    optimizer.zero_grad()\n",
    "    loss.backward(retain_graph=True)\n",
    "\n",
    "    # Optimisation\n",
    "    optimizer.step()\n",
    "    scheduler.step()\n",
    "\n",
    "    loss = loss.item()\n",
    "    history.append(loss)\n",
    "\n",
    "    # Curriculum Learning\n",
    "    for agent in range(n_agents):\n",
    "        if t % 10 == 0 and models[agent].B < 1e4:\n",
    "            models[agent].B *= 2"
   ]
  },
  {
   "cell_type": "code",
   "execution_count": 287,
   "metadata": {},
   "outputs": [
    {
     "data": {
      "image/png": "[encoded data removed]",
      "text/plain": [
       "<Figure size 900x600 with 1 Axes>"
      ]
     },
     "metadata": {},
     "output_type": "display_data"
    }
   ],
   "source": [
    "plt.figure(figsize=(9,6))\n",
    "plt.plot(history)\n",
    "plt.title('Revenue Maximization')\n",
    "plt.xlabel('Iterations')\n",
    "plt.ylabel('Loss')\n",
    "plt.show()"
   ]
  },
  {
   "cell_type": "code",
   "execution_count": 288,
   "metadata": {},
   "outputs": [
    {
     "data": {
      "text/plain": [
       "tensor([1.0412, 0.9984, 0.5457, 0.6951, 1.4484, 0.8578, 1.2761, 1.0219, 0.6649,\n",
       "        0.5707, 0.9221, 0.6129, 0.8120, 0.6695, 0.9163, 0.8787, 0.6729, 0.9464,\n",
       "        1.2877, 0.8438, 0.5676, 0.8736, 0.9190, 0.7962], dtype=torch.float64,\n",
       "       requires_grad=True)"
      ]
     },
     "execution_count": 288,
     "metadata": {},
     "output_type": "execute_result"
    }
   ],
   "source": [
    "pi_p"
   ]
  },
  {
   "cell_type": "code",
   "execution_count": 298,
   "metadata": {},
   "outputs": [
    {
     "data": {
      "text/plain": [
       "tensor([-5.5291e-01, -4.4312e-01,  1.3945e-03,  2.6950e-01, -5.0864e-01,\n",
       "         7.7722e-03, -7.5236e-02, -1.7240e-01,  2.3357e-01,  3.2555e-01,\n",
       "         2.7539e-01,  6.7544e-01, -3.9518e-01, -2.6964e-02,  2.1094e-02,\n",
       "         1.1501e-02, -1.9747e-02, -1.1838e-02, -7.3796e-02, -3.7239e-01,\n",
       "         5.3850e-01,  6.2404e-04,  5.4911e-02,  3.0272e-01],\n",
       "       dtype=torch.float64, grad_fn=<SubBackward0>)"
      ]
     },
     "execution_count": 298,
     "metadata": {},
     "output_type": "execute_result"
    }
   ],
   "source": [
    "ep_t * 1 + pi_g - pi_p"
   ]
  },
  {
   "cell_type": "code",
   "execution_count": 294,
   "metadata": {},
   "outputs": [
    {
     "data": {
      "text/plain": [
       "tensor([-0.9998, -0.8911, -0.4490, -0.1862, -0.9689, -0.4522, -0.5268, -0.6098,\n",
       "        -0.1942, -0.0855, -0.1323,  0.2888, -0.7679, -0.3926, -0.3428, -0.3461,\n",
       "        -0.3629, -0.3556, -0.4266, -0.7514,  0.1422, -0.4030, -0.3422, -0.0882],\n",
       "       dtype=torch.float64, grad_fn=<SubBackward0>)"
      ]
     },
     "execution_count": 294,
     "metadata": {},
     "output_type": "execute_result"
    }
   ],
   "source": [
    "pi_g - pi_p"
   ]
  },
  {
   "cell_type": "markdown",
   "metadata": {},
   "source": [
    "### Local PV Constraint"
   ]
  },
  {
   "cell_type": "code",
   "execution_count": 299,
   "metadata": {},
   "outputs": [
    {
     "data": {
      "text/plain": [
       "tensor([[1.0000, 1.0000, 1.5298, 1.5729, 1.0000, 1.5051, 1.4364, 1.3770, 1.5780,\n",
       "         1.5800, 1.5486, 1.5800, 1.0000, 1.2381, 1.5490, 1.4032, 1.3630, 1.3494,\n",
       "         1.4617, 1.0000, 1.5800, 1.4011, 1.5488, 1.5597],\n",
       "        [1.4355, 1.4419, 1.5354, 1.5729, 1.4706, 1.5163, 1.5299, 1.5407, 1.5780,\n",
       "         1.5800, 1.5486, 1.5800, 1.3198, 1.5050, 1.5490, 1.5000, 1.5151, 1.5014,\n",
       "         1.5312, 1.3936, 1.5800, 1.5015, 1.5488, 1.5597],\n",
       "        [1.5402, 1.5034, 1.5354, 1.5729, 1.5265, 1.5163, 1.5299, 1.5407, 1.5780,\n",
       "         1.5800, 1.5486, 1.5800, 1.5262, 1.5050, 1.5490, 1.5000, 1.5151, 1.5014,\n",
       "         1.5312, 1.5007, 1.5800, 1.5015, 1.5488, 1.5597],\n",
       "        [1.5402, 1.5034, 1.5354, 1.5729, 1.5265, 1.5163, 1.5299, 1.5407, 1.5780,\n",
       "         1.5800, 1.5486, 1.5800, 1.5262, 1.5050, 1.5490, 1.5000, 1.5151, 1.5014,\n",
       "         1.5312, 1.5007, 1.5800, 1.5015, 1.5488, 1.5597],\n",
       "        [1.5402, 1.5034, 1.5354, 1.5729, 1.5265, 1.5163, 1.5299, 1.5407, 1.5780,\n",
       "         1.5800, 1.5486, 1.5800, 1.5262, 1.5050, 1.5490, 1.5000, 1.5151, 1.5014,\n",
       "         1.5312, 1.5007, 1.5800, 1.5015, 1.5488, 1.5597]], requires_grad=True)"
      ]
     },
     "execution_count": 299,
     "metadata": {},
     "output_type": "execute_result"
    }
   ],
   "source": [
    "C_n"
   ]
  },
  {
   "cell_type": "markdown",
   "metadata": {},
   "source": [
    "### Total PV demand of all agents"
   ]
  },
  {
   "cell_type": "code",
   "execution_count": 300,
   "metadata": {},
   "outputs": [
    {
     "data": {
      "text/plain": [
       "tensor([4.6207, 5.9522, 7.6713, 7.8646, 4.5795, 7.5702, 6.1196, 6.1630, 7.8902,\n",
       "        7.9000, 7.7431, 7.9000, 4.5787, 6.0200, 7.7452, 7.4031, 6.0605, 6.0054,\n",
       "        6.1247, 5.8957, 7.9000, 7.4069, 7.7442, 7.7983], dtype=torch.float64,\n",
       "       grad_fn=<SumBackward1>)"
      ]
     },
     "execution_count": 300,
     "metadata": {},
     "output_type": "execute_result"
    }
   ],
   "source": [
    "torch.sum(d_star_n[:, 1], dim=0)"
   ]
  },
  {
   "cell_type": "code",
   "execution_count": 301,
   "metadata": {},
   "outputs": [
    {
     "data": {
      "text/plain": [
       "tensor([[0.0000, 0.0000, 1.5300, 1.5700, 0.0000, 1.5100, 0.0000, 0.0000, 1.5800,\n",
       "         1.5800, 1.5500, 1.5800, 0.0000, 0.0000, 1.5500, 1.4000, 0.0000, 0.0000,\n",
       "         0.0000, 0.0000, 1.5800, 1.4000, 1.5500, 1.5600],\n",
       "        [0.0000, 1.4400, 1.5400, 1.5700, 0.0000, 1.5200, 1.5300, 1.5400, 1.5800,\n",
       "         1.5800, 1.5500, 1.5800, 0.0000, 1.5100, 1.5500, 1.5000, 1.5200, 1.5000,\n",
       "         1.5300, 1.3900, 1.5800, 1.5000, 1.5500, 1.5600],\n",
       "        [1.5400, 1.5000, 1.5400, 1.5700, 1.5300, 1.5200, 1.5300, 1.5400, 1.5800,\n",
       "         1.5800, 1.5500, 1.5800, 1.5300, 1.5100, 1.5500, 1.5000, 1.5200, 1.5000,\n",
       "         1.5300, 1.5000, 1.5800, 1.5000, 1.5500, 1.5600],\n",
       "        [1.5400, 1.5000, 1.5400, 1.5700, 1.5300, 1.5200, 1.5300, 1.5400, 1.5800,\n",
       "         1.5800, 1.5500, 1.5800, 1.5300, 1.5100, 1.5500, 1.5000, 1.5200, 1.5000,\n",
       "         1.5300, 1.5000, 1.5800, 1.5000, 1.5500, 1.5600],\n",
       "        [1.5400, 1.5000, 1.5400, 1.5700, 1.5300, 1.5200, 1.5300, 1.5400, 1.5800,\n",
       "         1.5800, 1.5500, 1.5800, 1.5300, 1.5100, 1.5500, 1.5000, 1.5200, 1.5000,\n",
       "         1.5300, 1.5000, 1.5800, 1.5000, 1.5500, 1.5600]], dtype=torch.float64,\n",
       "       grad_fn=<RoundBackward1>)"
      ]
     },
     "execution_count": 301,
     "metadata": {},
     "output_type": "execute_result"
    }
   ],
   "source": [
    "torch.round(d_star_n[:, 1], decimals=2)"
   ]
  },
  {
   "cell_type": "markdown",
   "metadata": {},
   "source": [
    "> PV demand of all 5 users"
   ]
  }
 ],
 "metadata": {
  "kernelspec": {
   "display_name": "Python 3.10.4 64-bit",
   "language": "python",
   "name": "python3"
  },
  "language_info": {
   "codemirror_mode": {
    "name": "ipython",
    "version": 3
   },
   "file_extension": ".py",
   "mimetype": "text/x-python",
   "name": "python",
   "nbconvert_exporter": "python",
   "pygments_lexer": "ipython3",
   "version": "3.8.10"
  },
  "orig_nbformat": 4,
  "vscode": {
   "interpreter": {
    "hash": "916dbcbb3f70747c44a77c7bcd40155683ae19c65e1c03b4aa3499c5328201f1"
   }
  }
 },
 "nbformat": 4,
 "nbformat_minor": 2
}
