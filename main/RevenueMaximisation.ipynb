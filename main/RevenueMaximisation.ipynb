{
 "cells": [
  {
   "cell_type": "markdown",
   "metadata": {},
   "source": [
    "> Tasks:\n",
    "1. Init prices with normal distribution and achieve max revenue with and without gradient clipping.\n",
    "2. Try barrier function for constraints."
   ]
  },
  {
   "cell_type": "code",
   "execution_count": 31,
   "metadata": {},
   "outputs": [
    {
     "name": "stdout",
     "output_type": "stream",
     "text": [
      "The autoreload extension is already loaded. To reload it, use:\n",
      "  %reload_ext autoreload\n"
     ]
    }
   ],
   "source": [
    "%load_ext autoreload\n",
    "%autoreload 2 "
   ]
  },
  {
   "cell_type": "code",
   "execution_count": 32,
   "metadata": {},
   "outputs": [],
   "source": [
    "import torch\n",
    "import torch.nn as nn\n",
    "import torch.nn.functional as F\n",
    "\n",
    "from enum import IntEnum\n",
    "import numpy as np\n",
    "import pandas as pd\n",
    "import matplotlib.pyplot as plt\n",
    "\n",
    "from tqdm import trange\n",
    "from collections import defaultdict\n",
    "\n",
    "from GrU_nn import (gru_module_1, gru_module_2, gru_module_3, gru_module_4, neuralGrU)\n",
    "from GrU import (evaluate, GrU, getBestExporter, getCost)\n",
    "\n",
    "# device = torch.device(\"cuda\" if torch.cuda.is_available() else \"cpu\")\n",
    "device = torch.device(\"cpu\")"
   ]
  },
  {
   "cell_type": "markdown",
   "metadata": {},
   "source": [
    "### Load auction data"
   ]
  },
  {
   "cell_type": "code",
   "execution_count": 33,
   "metadata": {},
   "outputs": [],
   "source": [
    "class clock( IntEnum ):\n",
    "    pv = 0\n",
    "    storage = 1\n",
    "    charge = 2\n",
    "    discharge = 3\n",
    "\n",
    "class source( IntEnum ):\n",
    "    grid =  0\n",
    "    pv = 1\n",
    "    storage = 2\n",
    "    charge = 3\n",
    "    discharge = 4\n",
    "\n",
    "df_auctioneer_data = pd.read_csv('../data/Auctioneer Data.csv')\n",
    "\n",
    "headers = np.load(file='../data/clock_data_columns.npy', allow_pickle=True)\n",
    "df_clock_data = pd.DataFrame(np.load('../data/clock_data_values.npy', allow_pickle=True), columns=headers)\n",
    "\n",
    "def getPriceVectors(round):\n",
    "    '''\n",
    "    Get price vectors for a round from the clock data.\n",
    "\n",
    "    Parameters\n",
    "    ----------\n",
    "    round : int\n",
    "        Round number to get the price vectors for, range = [0, 308]\n",
    "\n",
    "    Returns\n",
    "    -------\n",
    "    prices : ndarray of shape (5, 24)\n",
    "        Price vectors for g, p, s, c, d.\n",
    "    \n",
    "    '''\n",
    "    prices = np.ndarray((5, 24))\n",
    "    prices[0] = df_auctioneer_data.GRID_PRICE.values\n",
    "    for e in clock:\n",
    "        prices[e + 1] = df_clock_data[f'price_{round}'][e]\n",
    "    return prices"
   ]
  },
  {
   "cell_type": "markdown",
   "metadata": {},
   "source": [
    "## Revenue Maximisation"
   ]
  },
  {
   "cell_type": "code",
   "execution_count": 90,
   "metadata": {},
   "outputs": [],
   "source": [
    "def total_loss(pi_g, pi_p, pi_s, pi_c, pi_d, d_star):\n",
    "    '''\n",
    "    Loss = -revenue\n",
    "    '''\n",
    "    # r_g = pi_g * d_star[source.grid]\n",
    "    r_p = pi_p * d_star[source.pv]\n",
    "    r_s = pi_s * d_star[source.storage]\n",
    "    r_c = pi_c * d_star[source.charge]\n",
    "    r_d = pi_d * d_star[source.discharge]\n",
    "\n",
    "    r_t = r_p + r_s + r_c + r_d\n",
    "    rev = torch.sum(r_t)\n",
    "\n",
    "    return -rev"
   ]
  },
  {
   "cell_type": "code",
   "execution_count": 91,
   "metadata": {},
   "outputs": [],
   "source": [
    "# Init model\n",
    "eta = 1\n",
    "model = neuralGrU(B=1, eta_c=eta, eta_d=eta).to(device)"
   ]
  },
  {
   "cell_type": "markdown",
   "metadata": {},
   "source": [
    "#### Input Data"
   ]
  },
  {
   "cell_type": "code",
   "execution_count": 93,
   "metadata": {},
   "outputs": [],
   "source": [
    "prices = getPriceVectors(100)\n",
    "\n",
    "# Random total demand tensor\n",
    "d_t = torch.ones(24, requires_grad=False, device=device)\n",
    "# d_t = torch.ones(24, requires_grad=False, device=device)\n",
    "\n",
    "# Price tensors\n",
    "pi_g = torch.tensor(prices[source.grid], requires_grad=False, device=device)\n",
    "\n",
    "pi_p = torch.tensor(prices[source.pv] * 0.001,  requires_grad=True, device=device)\n",
    "pi_c = torch.tensor(prices[source.charge] * 1e6, requires_grad=True, device=device)\n",
    "pi_d = torch.tensor(prices[source.discharge] * 1e6, requires_grad=True, device=device)\n",
    "pi_s = torch.tensor(prices[source.storage] * 1e6, requires_grad=True, device=device)"
   ]
  },
  {
   "cell_type": "markdown",
   "metadata": {},
   "source": [
    "#### Optimisation schedule"
   ]
  },
  {
   "cell_type": "code",
   "execution_count": 94,
   "metadata": {},
   "outputs": [
    {
     "name": "stderr",
     "output_type": "stream",
     "text": [
      "100%|██████████| 200/200 [00:01<00:00, 169.76it/s]\n"
     ]
    }
   ],
   "source": [
    "# Hyperparameter(s)\n",
    "learning_rate = 1\n",
    "epochs = 200\n",
    "\n",
    "history = []\n",
    "\n",
    "# Init optimizer & scheduler\n",
    "optimizer = torch.optim.Adam([pi_p, pi_s, pi_c, pi_d], lr=learning_rate)\n",
    "scheduler = torch.optim.lr_scheduler.ExponentialLR(optimizer, gamma=0.92)\n",
    "\n",
    "for t in trange(epochs):\n",
    "    # Compute prediction and loss\n",
    "    d_star = model(pi_g, pi_p, pi_s, pi_c, pi_d, d_t)\n",
    "    loss = total_loss(pi_g, pi_p, pi_s, pi_c, pi_d, d_star)\n",
    "\n",
    "    # Backpropagation\n",
    "    optimizer.zero_grad()\n",
    "    loss.backward()\n",
    "\n",
    "    # Optimisation\n",
    "    optimizer.step()\n",
    "    scheduler.step()\n",
    "\n",
    "    loss = loss.item()\n",
    "    history.append(loss)\n",
    "\n",
    "    # Curriculum Learning\n",
    "    if t % 10 == 0 and model.B < 1e4:\n",
    "        model.B *= 2\n",
    "\n",
    "    # if t % 100 == 0:\n",
    "    #     print(f\"Epoch {t+1}     loss: {loss:>7f}\")"
   ]
  },
  {
   "cell_type": "code",
   "execution_count": 95,
   "metadata": {},
   "outputs": [
    {
     "data": {
      "image/png": "[encoded data removed]",
      "text/plain": [
       "<Figure size 900x600 with 1 Axes>"
      ]
     },
     "metadata": {},
     "output_type": "display_data"
    }
   ],
   "source": [
    "plt.figure(figsize=(9,6))\n",
    "plt.plot(history, label='loss')\n",
    "plt.title('Revenue Maximization')\n",
    "plt.xlabel('Iterations')\n",
    "plt.ylabel('Loss')\n",
    "plt.show()"
   ]
  },
  {
   "cell_type": "code",
   "execution_count": 9,
   "metadata": {},
   "outputs": [
    {
     "data": {
      "text/plain": [
       "tensor(True)"
      ]
     },
     "execution_count": 9,
     "metadata": {},
     "output_type": "execute_result"
    }
   ],
   "source": [
    "(pi_g > pi_p).all()"
   ]
  },
  {
   "cell_type": "code",
   "execution_count": 10,
   "metadata": {},
   "outputs": [
    {
     "data": {
      "text/plain": [
       "tensor([0.0020, 0.0018, 0.0012, 0.0012, 0.0011, 0.0011, 0.0012, 0.0018, 0.0047,\n",
       "        0.0050, 0.0029, 0.0015, 0.0015, 0.0016, 0.0015, 0.0016, 0.0015, 0.0034,\n",
       "        0.0034, 0.0025, 0.0025, 0.0025, 0.0021, 0.0031], dtype=torch.float64,\n",
       "       grad_fn=<SubBackward0>)"
      ]
     },
     "execution_count": 10,
     "metadata": {},
     "output_type": "execute_result"
    }
   ],
   "source": [
    "pi_g - pi_p"
   ]
  },
  {
   "cell_type": "markdown",
   "metadata": {},
   "source": [
    "#### Demand breakup on optimised prices"
   ]
  },
  {
   "cell_type": "code",
   "execution_count": 11,
   "metadata": {},
   "outputs": [],
   "source": [
    "pi = torch.stack([pi_g, pi_p, pi_s, pi_c, pi_d]).detach().numpy()"
   ]
  },
  {
   "cell_type": "code",
   "execution_count": 12,
   "metadata": {},
   "outputs": [],
   "source": [
    "d_break_nn = model(pi_g, pi_p, pi_s, pi_c, pi_d, d_t).detach().numpy()\n",
    "d_break, _ = GrU(d_t, pi, eta_c=eta, eta_d=eta)"
   ]
  },
  {
   "cell_type": "code",
   "execution_count": 13,
   "metadata": {},
   "outputs": [
    {
     "data": {
      "text/plain": [
       "[1.4514951832171197e-09, 1.4514952018096494e-09, 0.0, 0.0, 0.0]"
      ]
     },
     "execution_count": 13,
     "metadata": {},
     "output_type": "execute_result"
    }
   ],
   "source": [
    "evaluate(d_break, d_break_nn)[0]"
   ]
  },
  {
   "cell_type": "code",
   "execution_count": 14,
   "metadata": {},
   "outputs": [
    {
     "data": {
      "text/plain": [
       "array([[0., 0., 0., 0., 0., 0., 0., 0., 0., 0., 0., 0., 0., 0., 0., 0.,\n",
       "        0., 0., 0., 0., 0., 0., 0., 0.],\n",
       "       [1., 1., 1., 1., 1., 1., 1., 1., 1., 1., 1., 1., 1., 1., 1., 1.,\n",
       "        1., 1., 1., 1., 1., 1., 1., 1.],\n",
       "       [0., 0., 0., 0., 0., 0., 0., 0., 0., 0., 0., 0., 0., 0., 0., 0.,\n",
       "        0., 0., 0., 0., 0., 0., 0., 0.],\n",
       "       [0., 0., 0., 0., 0., 0., 0., 0., 0., 0., 0., 0., 0., 0., 0., 0.,\n",
       "        0., 0., 0., 0., 0., 0., 0., 0.],\n",
       "       [0., 0., 0., 0., 0., 0., 0., 0., 0., 0., 0., 0., 0., 0., 0., 0.,\n",
       "        0., 0., 0., 0., 0., 0., 0., 0.]])"
      ]
     },
     "execution_count": 14,
     "metadata": {},
     "output_type": "execute_result"
    }
   ],
   "source": [
    "d_break"
   ]
  },
  {
   "cell_type": "markdown",
   "metadata": {},
   "source": [
    "## Revenue Maximisation with Gradient Clipping"
   ]
  },
  {
   "cell_type": "markdown",
   "metadata": {},
   "source": [
    "1. No Curriculum Learning (for B). Init B at 10-20.\n",
    "2. Gradients clipped at 0, i.e., updates to price(s) are non-negative.\n",
    "3. Input price tensors are scaled to compensate for lower B.\n",
    "4. ExponentialLR performs better than ReduceLROnPlateau."
   ]
  },
  {
   "cell_type": "code",
   "execution_count": 34,
   "metadata": {},
   "outputs": [],
   "source": [
    "def total_loss(pi_g, pi_p, pi_s, pi_c, pi_d, d_star):\n",
    "    '''\n",
    "    Loss = -revenue\n",
    "    '''\n",
    "    # r_g = pi_g * d_star[source.grid]\n",
    "    r_p = pi_p * d_star[source.pv]\n",
    "    r_s = pi_s * d_star[source.storage]\n",
    "    r_c = pi_c * d_star[source.charge]\n",
    "    r_d = pi_d * d_star[source.discharge]\n",
    "\n",
    "    r_t = r_p + r_s + r_c + r_d\n",
    "    rev = torch.sum(r_t)\n",
    "\n",
    "    return -rev"
   ]
  },
  {
   "cell_type": "code",
   "execution_count": 105,
   "metadata": {},
   "outputs": [],
   "source": [
    "# Init model\n",
    "eta = 1\n",
    "B = 10\n",
    "scaler = 200\n",
    "\n",
    "model = neuralGrU(B, device, eta, eta).to(device)"
   ]
  },
  {
   "cell_type": "markdown",
   "metadata": {},
   "source": [
    "#### Input Data"
   ]
  },
  {
   "cell_type": "code",
   "execution_count": 140,
   "metadata": {},
   "outputs": [],
   "source": [
    "prices = getPriceVectors(100) * scaler\n",
    "\n",
    "# Random total demand tensor\n",
    "d_t = torch.ones(24, requires_grad=False, device=device)\n",
    "# d_t = torch.ones(24, requires_grad=False, device=device)\n",
    "\n",
    "# Price tensors\n",
    "pi_g = torch.tensor(prices[source.grid], requires_grad=False, device=device)\n",
    "\n",
    "pi_p = torch.tensor(prices[source.pv] * 0.001,  requires_grad=True, device=device)\n",
    "pi_c = torch.tensor(prices[source.charge] * 1e6, requires_grad=True, device=device)\n",
    "pi_d = torch.tensor(prices[source.discharge] * 1e6, requires_grad=True, device=device)\n",
    "pi_s = torch.tensor(prices[source.storage] * 1e6, requires_grad=True, device=device)"
   ]
  },
  {
   "cell_type": "markdown",
   "metadata": {},
   "source": [
    "#### Optimization schedule"
   ]
  },
  {
   "cell_type": "code",
   "execution_count": 141,
   "metadata": {},
   "outputs": [
    {
     "name": "stderr",
     "output_type": "stream",
     "text": [
      "100%|██████████| 1000/1000 [00:05<00:00, 168.90it/s]\n"
     ]
    }
   ],
   "source": [
    "# Hyperparameter(s)\n",
    "learning_rate = 0.14\n",
    "epochs = 1000\n",
    "\n",
    "history_grad_clip = []\n",
    "\n",
    "# Init optimizer & scheduler\n",
    "optimizer = torch.optim.Adam([pi_p, pi_s, pi_c, pi_d], lr=learning_rate)\n",
    "scheduler = torch.optim.lr_scheduler.ExponentialLR(optimizer, gamma=0.998)\n",
    "# scheduler = torch.optim.lr_scheduler.ReduceLROnPlateau(optimizer, factor=0.1, patience=10)\n",
    "\n",
    "for t in trange(epochs):\n",
    "    # Compute prediction and loss\n",
    "    d_star = model(pi_g, pi_p, pi_s, pi_c, pi_d, d_t)\n",
    "    loss = total_loss(pi_g, pi_p, pi_s, pi_c, pi_d, d_star)\n",
    "\n",
    "    # Backpropagation\n",
    "    optimizer.zero_grad()\n",
    "    loss.backward()\n",
    "    \n",
    "    # Gradient Clipping\n",
    "    for p in [pi_p, pi_s, pi_c, pi_d]:\n",
    "        p.grad = -F.relu(-p.grad)\n",
    "\n",
    "    optimizer.step()\n",
    "    scheduler.step()\n",
    "    # scheduler.step(loss)\n",
    "\n",
    "    loss = loss.item()\n",
    "    history_grad_clip.append(loss / scaler)\n",
    "\n",
    "    # Curriculum Learning\n",
    "    # if t % 10 == 0 and model.B < 1e4:\n",
    "    #     model.B *= 2\n",
    "\n",
    "    # if t % 100 == 0:\n",
    "    #     print(f\"Epoch {t+1}     loss: {loss:>7f}\")"
   ]
  },
  {
   "cell_type": "code",
   "execution_count": 142,
   "metadata": {},
   "outputs": [
    {
     "data": {
      "image/png": "[encoded data removed]",
      "text/plain": [
       "<Figure size 900x600 with 1 Axes>"
      ]
     },
     "metadata": {},
     "output_type": "display_data"
    }
   ],
   "source": [
    "plt.figure(figsize=(9,6))\n",
    "plt.plot(history, label='baseline')\n",
    "plt.plot(history_grad_clip, label='gradient clipping')\n",
    "plt.title('Revenue Maximization')\n",
    "plt.xlabel('Iterations')\n",
    "plt.ylabel('Loss')\n",
    "plt.legend()\n",
    "plt.show()"
   ]
  },
  {
   "cell_type": "code",
   "execution_count": 101,
   "metadata": {},
   "outputs": [
    {
     "data": {
      "text/plain": [
       "tensor(False)"
      ]
     },
     "execution_count": 101,
     "metadata": {},
     "output_type": "execute_result"
    }
   ],
   "source": [
    "(pi_g > pi_p).all()"
   ]
  },
  {
   "cell_type": "code",
   "execution_count": 113,
   "metadata": {},
   "outputs": [
    {
     "data": {
      "text/plain": [
       "tensor([-10.6590, -14.8145, -17.3242, -19.0357, -18.8004, -18.5261, -17.7889,\n",
       "        -14.7699,  -9.1813,  -9.0861, -10.1703, -11.4877, -11.6655, -11.2482,\n",
       "        -10.7720, -12.2359, -11.1484,  -9.5636,  -6.3870,   0.4869,   4.1316,\n",
       "          0.6246,  -1.6578,  -6.0483], dtype=torch.float64,\n",
       "       grad_fn=<SubBackward0>)"
      ]
     },
     "execution_count": 113,
     "metadata": {},
     "output_type": "execute_result"
    }
   ],
   "source": [
    "pi_g - pi_p"
   ]
  },
  {
   "cell_type": "code",
   "execution_count": 103,
   "metadata": {},
   "outputs": [
    {
     "data": {
      "text/plain": [
       "tensor([25.0315, 24.3476, 21.1007, 19.8134, 19.1381, 19.1381, 20.9385, 25.0305,\n",
       "        25.0219, 25.0219, 25.0219, 25.0219, 25.0221, 25.0219, 25.0232, 25.0224,\n",
       "        25.0235, 25.0307, 25.0308, 25.0318, 25.0322, 25.0320, 25.0310, 25.0310],\n",
       "       dtype=torch.float64, requires_grad=True)"
      ]
     },
     "execution_count": 103,
     "metadata": {},
     "output_type": "execute_result"
    }
   ],
   "source": [
    "pi_p"
   ]
  },
  {
   "cell_type": "code",
   "execution_count": 43,
   "metadata": {},
   "outputs": [
    {
     "data": {
      "text/plain": [
       "array([[0., 0., 0., 0., 0., 0., 0., 0., 0., 0., 0., 0., 0., 0., 0., 0.,\n",
       "        0., 0., 0., 0., 0., 0., 0., 0.],\n",
       "       [1., 1., 1., 1., 1., 1., 1., 1., 1., 1., 1., 1., 1., 1., 1., 1.,\n",
       "        1., 1., 1., 1., 1., 1., 1., 1.],\n",
       "       [0., 0., 0., 0., 0., 0., 0., 0., 0., 0., 0., 0., 0., 0., 0., 0.,\n",
       "        0., 0., 0., 0., 0., 0., 0., 0.],\n",
       "       [0., 0., 0., 0., 0., 0., 0., 0., 0., 0., 0., 0., 0., 0., 0., 0.,\n",
       "        0., 0., 0., 0., 0., 0., 0., 0.],\n",
       "       [0., 0., 0., 0., 0., 0., 0., 0., 0., 0., 0., 0., 0., 0., 0., 0.,\n",
       "        0., 0., 0., 0., 0., 0., 0., 0.]])"
      ]
     },
     "execution_count": 43,
     "metadata": {},
     "output_type": "execute_result"
    }
   ],
   "source": [
    "np.round(d_star.detach().numpy())"
   ]
  },
  {
   "cell_type": "markdown",
   "metadata": {},
   "source": [
    "## Multi-agent Revenue Maximization"
   ]
  },
  {
   "cell_type": "code",
   "execution_count": 23,
   "metadata": {},
   "outputs": [],
   "source": [
    "def total_loss(pi_g, pi_p, pi_s, pi_c, pi_d, d_star):\n",
    "    '''\n",
    "    Loss = -revenue\n",
    "    '''\n",
    "    # r_g = pi_g * d_star[source.grid]\n",
    "    r_p = pi_p * d_star[source.pv]\n",
    "    r_s = pi_s * d_star[source.storage]\n",
    "    r_c = pi_c * d_star[source.charge]\n",
    "    r_d = pi_d * d_star[source.discharge]\n",
    "\n",
    "    r_t = r_p + r_s + r_c + r_d\n",
    "    rev = torch.sum(r_t)\n",
    "\n",
    "    return -rev"
   ]
  },
  {
   "cell_type": "code",
   "execution_count": 24,
   "metadata": {},
   "outputs": [],
   "source": [
    "prices = getPriceVectors(300)\n",
    "\n",
    "# Random total demand tensor\n",
    "# d_t = torch.rand(24, requires_grad=False) * 10\n",
    "d_t = torch.ones(24, requires_grad=False, device=device) * 10\n",
    "\n",
    "# Price tensors\n",
    "pi_g = torch.tensor(prices[source.grid], requires_grad=False, device=device)\n",
    "\n",
    "pi_p = torch.tensor(prices[source.pv], requires_grad=True, device=device)\n",
    "pi_c = torch.tensor(prices[source.charge], requires_grad=True, device=device)\n",
    "pi_d = torch.tensor(prices[source.discharge], requires_grad=True, device=device)\n",
    "pi_s = torch.tensor(prices[source.storage], requires_grad=True, device=device)\n",
    "\n",
    "# EI tensor\n",
    "ep = [0.00044688, 0.00044796, 0.00045042, 0.00045573, 0.00046029, 0.00046002, 0.00045153, 0.00043737, 0.00042772, 0.00041107, 0.00040774, 0.00038668, 0.00037268, 0.00036565, 0.00036387, 0.00035763, 0.00034319, 0.00034377, 0.00035285, 0.00037902, 0.00039631, 0.00040366, 0.00039713, 0.00039088]\n",
    "ep_t = torch.tensor(ep, requires_grad=False, device=device) * 1e3"
   ]
  },
  {
   "cell_type": "code",
   "execution_count": 25,
   "metadata": {},
   "outputs": [
    {
     "name": "stderr",
     "output_type": "stream",
     "text": [
      "100%|██████████| 100/100 [01:23<00:00,  1.20it/s]\n"
     ]
    }
   ],
   "source": [
    "n_agents = 5\n",
    "gamma = [1, 2, 3, 4, 5]\n",
    "\n",
    "models = {i: neuralGrU(B=1).to(device) for i in range(n_agents)}\n",
    "d_star_n = torch.tensor(np.ndarray(shape=(n_agents, 5, 24)), device=device)\n",
    "\n",
    "# Hyperparameter(s)\n",
    "learning_rate = 1\n",
    "epochs = 100\n",
    "\n",
    "history = []\n",
    "\n",
    "optimizer = torch.optim.Adam([pi_p, pi_s, pi_c, pi_d], lr=learning_rate)\n",
    "scheduler = torch.optim.lr_scheduler.ExponentialLR(optimizer, gamma=0.92)\n",
    "\n",
    "for t in trange(epochs):\n",
    "    for agent in range(n_agents):\n",
    "        # Update pi_g with EI\n",
    "        pi_g_ei = pi_g + gamma[agent] * ep_t\n",
    "        d_star_n[agent] = models[agent](pi_g_ei, pi_p, pi_s, pi_c, pi_d, d_t)\n",
    "\n",
    "    d_star_total = torch.sum(d_star_n, dim=0)    \n",
    "    loss = total_loss(pi_g, pi_p, pi_s, pi_c, pi_d, d_star_total)\n",
    "\n",
    "    # Backpropagation\n",
    "    optimizer.zero_grad()\n",
    "    loss.backward(retain_graph=True)\n",
    "\n",
    "    # Optimisation\n",
    "    optimizer.step()\n",
    "    scheduler.step()\n",
    "\n",
    "    loss = loss.item()\n",
    "    history.append(loss)\n",
    "\n",
    "    # Curriculum Learning\n",
    "    for agent in range(n_agents):\n",
    "        if t % 10 == 0 and models[agent].B < 1e4:\n",
    "            models[agent].B *= 2"
   ]
  },
  {
   "cell_type": "code",
   "execution_count": 26,
   "metadata": {},
   "outputs": [
    {
     "data": {
      "image/png": "[encoded data removed]",
      "text/plain": [
       "<Figure size 900x600 with 1 Axes>"
      ]
     },
     "metadata": {},
     "output_type": "display_data"
    }
   ],
   "source": [
    "plt.figure(figsize=(9,6))\n",
    "plt.plot(history)\n",
    "plt.title('Revenue Maximization')\n",
    "plt.xlabel('Iterations')\n",
    "plt.ylabel('Loss')\n",
    "plt.show()"
   ]
  },
  {
   "cell_type": "code",
   "execution_count": 27,
   "metadata": {},
   "outputs": [
    {
     "data": {
      "text/plain": [
       "tensor([1.6474, 1.5766, 1.5384, 1.5359, 1.5400, 1.5406, 1.5394, 1.5598, 1.6159,\n",
       "        1.1597, 1.5416, 1.4614, 1.4143, 1.3898, 1.3928, 1.3602, 1.3278, 1.3540,\n",
       "        1.4384, 1.2519, 1.3082, 1.3037, 1.2509, 1.5566], dtype=torch.float64,\n",
       "       requires_grad=True)"
      ]
     },
     "execution_count": 27,
     "metadata": {},
     "output_type": "execute_result"
    }
   ],
   "source": [
    "pi_p"
   ]
  },
  {
   "cell_type": "code",
   "execution_count": 28,
   "metadata": {},
   "outputs": [
    {
     "data": {
      "text/plain": [
       "tensor([1.6544, 1.5847, 1.5447, 1.5421, 1.5464, 1.5469, 1.5457, 1.5680, 1.6242,\n",
       "        1.5792, 1.5498, 1.4692, 1.4211, 1.3963, 1.3992, 1.3673, 1.3353, 1.3610,\n",
       "        1.4450, 1.6363, 1.7098, 1.7127, 1.6536, 1.5640], dtype=torch.float64)"
      ]
     },
     "execution_count": 28,
     "metadata": {},
     "output_type": "execute_result"
    }
   ],
   "source": [
    "ep_t * 3 + pi_g"
   ]
  },
  {
   "cell_type": "code",
   "execution_count": 29,
   "metadata": {},
   "outputs": [
    {
     "data": {
      "text/plain": [
       "tensor([0.3138, 0.2408, 0.1935, 0.1749, 0.1655, 0.1669, 0.1912, 0.2558, 0.3411,\n",
       "        0.3460, 0.3266, 0.3091, 0.3031, 0.2994, 0.3076, 0.2944, 0.3057, 0.3297,\n",
       "        0.3864, 0.4992, 0.5209, 0.5017, 0.4622, 0.3914], dtype=torch.float64)"
      ]
     },
     "execution_count": 29,
     "metadata": {},
     "output_type": "execute_result"
    }
   ],
   "source": [
    "pi_g"
   ]
  },
  {
   "cell_type": "code",
   "execution_count": 30,
   "metadata": {},
   "outputs": [
    {
     "data": {
      "text/plain": [
       "tensor([[ 0.0000e+00,  0.0000e+00,  0.0000e+00,  0.0000e+00,  0.0000e+00,\n",
       "          0.0000e+00,  0.0000e+00,  0.0000e+00,  0.0000e+00, 1.2433e-178,\n",
       "          0.0000e+00,  0.0000e+00,  0.0000e+00, 6.4229e-322, 2.0800e-320,\n",
       "         1.6920e-314, 1.6760e-301, 3.0140e-302, 1.6847e-310, 9.1651e-166,\n",
       "         1.7630e-173, 9.5661e-177, 9.4393e-174,  0.0000e+00],\n",
       "        [3.1953e-195, 3.1862e-195, 4.1698e-197, 1.7966e-199, 1.8972e-201,\n",
       "         2.4139e-201, 1.3619e-197, 1.7671e-190, 4.4417e-186,  9.9988e+00,\n",
       "         2.7705e-177, 4.1508e-168, 2.7793e-162, 2.7191e-159, 1.3722e-158,\n",
       "         1.8738e-155, 7.0290e-149, 2.2892e-149, 1.3968e-153,  9.9698e+00,\n",
       "          9.9679e+00,  9.9681e+00,  9.9741e+00, 4.1421e-170],\n",
       "        [ 9.9942e+00,  9.9981e+00,  9.9883e+00,  9.9881e+00,  9.9895e+00,\n",
       "          9.9891e+00,  9.9885e+00,  9.9982e+00,  9.9986e+00,  1.0000e+01,\n",
       "          9.9983e+00,  9.9974e+00,  9.9934e+00,  9.9910e+00,  9.9890e+00,\n",
       "          9.9952e+00,  9.9966e+00,  9.9943e+00,  9.9914e+00,  1.0000e+01,\n",
       "          1.0000e+01,  1.0000e+01,  1.0000e+01,  9.9964e+00],\n",
       "        [ 1.0000e+01,  1.0000e+01,  1.0000e+01,  1.0000e+01,  1.0000e+01,\n",
       "          1.0000e+01,  1.0000e+01,  1.0000e+01,  1.0000e+01,  1.0000e+01,\n",
       "          1.0000e+01,  1.0000e+01,  1.0000e+01,  1.0000e+01,  1.0000e+01,\n",
       "          1.0000e+01,  1.0000e+01,  1.0000e+01,  1.0000e+01,  1.0000e+01,\n",
       "          1.0000e+01,  1.0000e+01,  1.0000e+01,  1.0000e+01],\n",
       "        [ 1.0000e+01,  1.0000e+01,  1.0000e+01,  1.0000e+01,  1.0000e+01,\n",
       "          1.0000e+01,  1.0000e+01,  1.0000e+01,  1.0000e+01,  1.0000e+01,\n",
       "          1.0000e+01,  1.0000e+01,  1.0000e+01,  1.0000e+01,  1.0000e+01,\n",
       "          1.0000e+01,  1.0000e+01,  1.0000e+01,  1.0000e+01,  1.0000e+01,\n",
       "          1.0000e+01,  1.0000e+01,  1.0000e+01,  1.0000e+01]],\n",
       "       dtype=torch.float64, grad_fn=<SelectBackward0>)"
      ]
     },
     "execution_count": 30,
     "metadata": {},
     "output_type": "execute_result"
    }
   ],
   "source": [
    "d_star_n[:, 1]"
   ]
  },
  {
   "cell_type": "markdown",
   "metadata": {},
   "source": [
    "> PV demand of all 5 users"
   ]
  }
 ],
 "metadata": {
  "kernelspec": {
   "display_name": "Python 3.10.4 64-bit",
   "language": "python",
   "name": "python3"
  },
  "language_info": {
   "codemirror_mode": {
    "name": "ipython",
    "version": 3
   },
   "file_extension": ".py",
   "mimetype": "text/x-python",
   "name": "python",
   "nbconvert_exporter": "python",
   "pygments_lexer": "ipython3",
   "version": "3.10.4"
  },
  "orig_nbformat": 4,
  "vscode": {
   "interpreter": {
    "hash": "916dbcbb3f70747c44a77c7bcd40155683ae19c65e1c03b4aa3499c5328201f1"
   }
  }
 },
 "nbformat": 4,
 "nbformat_minor": 2
}
